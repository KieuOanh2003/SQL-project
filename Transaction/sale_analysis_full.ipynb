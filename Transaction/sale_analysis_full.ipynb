{
    "metadata": {
        "kernelspec": {
            "name": "SQL",
            "display_name": "SQL",
            "language": "sql"
        },
        "language_info": {
            "name": "sql",
            "version": ""
        }
    },
    "nbformat_minor": 2,
    "nbformat": 4,
    "cells": [
        {
            "cell_type": "markdown",
            "source": [
                "# **Sale performance**"
            ],
            "metadata": {
                "azdata_cell_guid": "773b1269-76d5-4e83-96a1-f14bcbf6ec50"
            },
            "attachments": {}
        },
        {
            "cell_type": "markdown",
            "source": [
                "# **Sale by countries**"
            ],
            "metadata": {
                "azdata_cell_guid": "c0751850-82c6-4cbe-be21-b66449248920"
            },
            "attachments": {}
        },
        {
            "cell_type": "markdown",
            "source": [
                "### _1\\. What is the total revenue generated across all transactions?_"
            ],
            "metadata": {
                "azdata_cell_guid": "3d11818e-f6a1-45e2-8bad-a9903f83712e"
            },
            "attachments": {}
        },
        {
            "cell_type": "code",
            "source": [
                "-- 1. Total Revenue Across All Transactions\r\n",
                "SELECT \r\n",
                "    COUNT(DISTINCT TransactionNo) as TotalTransactions,\r\n",
                "    SUM(Price * Quantity) as TotalRevenue,\r\n",
                "    AVG(Price * Quantity) as AvgTransactionValue\r\n",
                "FROM [sale_transaction-data];"
            ],
            "metadata": {
                "azdata_cell_guid": "5006c1fc-ee9d-4ea7-9730-0fe1491ca87a",
                "language": "sql"
            },
            "outputs": [
                {
                    "output_type": "display_data",
                    "data": {
                        "text/html": "(1 row affected)"
                    },
                    "metadata": {}
                },
                {
                    "output_type": "display_data",
                    "data": {
                        "text/html": "Total execution time: 00:00:01.019"
                    },
                    "metadata": {}
                },
                {
                    "output_type": "execute_result",
                    "execution_count": 1,
                    "data": {
                        "application/vnd.dataresource+json": {
                            "schema": {
                                "fields": [
                                    {
                                        "name": "TotalTransactions"
                                    },
                                    {
                                        "name": "TotalRevenue"
                                    },
                                    {
                                        "name": "AvgTransactionValue"
                                    }
                                ]
                            },
                            "data": [
                                {
                                    "TotalTransactions": "19789",
                                    "TotalRevenue": "62965892.34",
                                    "AvgTransactionValue": "119.306910"
                                }
                            ]
                        },
                        "text/html": "<table><tr><th>TotalTransactions</th><th>TotalRevenue</th><th>AvgTransactionValue</th></tr><tr><td>19789</td><td>62965892.34</td><td>119.306910</td></tr></table>"
                    },
                    "metadata": {}
                }
            ],
            "execution_count": 1
        },
        {
            "cell_type": "markdown",
            "source": [
                "### _2\\. Top 10 countries generate the highest total revenue._"
            ],
            "metadata": {
                "azdata_cell_guid": "d750121e-5866-430e-b91e-a154c4aa8ff0"
            },
            "attachments": {}
        },
        {
            "cell_type": "code",
            "source": [
                "--Total transactions by countries\r\n",
                "SELECT TOP 10\r\n",
                "    Country, \r\n",
                "    COUNT(DISTINCT TransactionNo) AS TotalTransactions, \r\n",
                "    FORMAT(SUM(Price * Quantity), 'N2') AS TotalRevenue,\r\n",
                "    FORMAT(AVG(Price * Quantity), 'N2') AS AvgTransactionValue,\r\n",
                "    FORMAT(SUM(Price * Quantity) * 100.0 / \r\n",
                "           (SELECT SUM(Price * Quantity) FROM [sale_transaction-data]), 'N2') + '%' AS RevenuePercentage\r\n",
                "FROM [sale_transaction-data]\r\n",
                "GROUP BY Country\r\n",
                "ORDER BY SUM(Price * Quantity) DESC;\r\n",
                "\r\n",
                ""
            ],
            "metadata": {
                "azdata_cell_guid": "f1d183bd-8ad3-45ec-a041-86dca28d12a6",
                "language": "sql"
            },
            "outputs": [
                {
                    "output_type": "display_data",
                    "data": {
                        "text/html": "(10 rows affected)"
                    },
                    "metadata": {}
                },
                {
                    "output_type": "display_data",
                    "data": {
                        "text/html": "Total execution time: 00:00:01.502"
                    },
                    "metadata": {}
                },
                {
                    "output_type": "execute_result",
                    "execution_count": 3,
                    "data": {
                        "application/vnd.dataresource+json": {
                            "schema": {
                                "fields": [
                                    {
                                        "name": "Country"
                                    },
                                    {
                                        "name": "TotalTransactions"
                                    },
                                    {
                                        "name": "TotalRevenue"
                                    },
                                    {
                                        "name": "AvgTransactionValue"
                                    },
                                    {
                                        "name": "RevenuePercentage"
                                    }
                                ]
                            },
                            "data": [
                                {
                                    "Country": "United Kingdom",
                                    "TotalTransactions": "17907",
                                    "TotalRevenue": "52,524,576.47",
                                    "AvgTransactionValue": "109.94",
                                    "RevenuePercentage": "83.42%"
                                },
                                {
                                    "Country": "Netherlands",
                                    "TotalTransactions": "94",
                                    "TotalRevenue": "2,151,553.59",
                                    "AvgTransactionValue": "925.00",
                                    "RevenuePercentage": "3.42%"
                                },
                                {
                                    "Country": "EIRE",
                                    "TotalTransactions": "277",
                                    "TotalRevenue": "1,713,410.95",
                                    "AvgTransactionValue": "219.47",
                                    "RevenuePercentage": "2.72%"
                                },
                                {
                                    "Country": "Germany",
                                    "TotalTransactions": "453",
                                    "TotalRevenue": "1,371,543.27",
                                    "AvgTransactionValue": "133.94",
                                    "RevenuePercentage": "2.18%"
                                },
                                {
                                    "Country": "France",
                                    "TotalTransactions": "404",
                                    "TotalRevenue": "1,330,652.89",
                                    "AvgTransactionValue": "128.03",
                                    "RevenuePercentage": "2.11%"
                                },
                                {
                                    "Country": "Australia",
                                    "TotalTransactions": "62",
                                    "TotalRevenue": "995,607.91",
                                    "AvgTransactionValue": "610.43",
                                    "RevenuePercentage": "1.58%"
                                },
                                {
                                    "Country": "Sweden",
                                    "TotalTransactions": "33",
                                    "TotalRevenue": "401,879.89",
                                    "AvgTransactionValue": "985.00",
                                    "RevenuePercentage": "0.64%"
                                },
                                {
                                    "Country": "Switzerland",
                                    "TotalTransactions": "55",
                                    "TotalRevenue": "361,969.25",
                                    "AvgTransactionValue": "157.17",
                                    "RevenuePercentage": "0.57%"
                                },
                                {
                                    "Country": "Japan",
                                    "TotalTransactions": "20",
                                    "TotalRevenue": "293,155.44",
                                    "AvgTransactionValue": "869.90",
                                    "RevenuePercentage": "0.47%"
                                },
                                {
                                    "Country": "Spain",
                                    "TotalTransactions": "78",
                                    "TotalRevenue": "281,012.27",
                                    "AvgTransactionValue": "117.78",
                                    "RevenuePercentage": "0.45%"
                                }
                            ]
                        },
                        "text/html": "<table><tr><th>Country</th><th>TotalTransactions</th><th>TotalRevenue</th><th>AvgTransactionValue</th><th>RevenuePercentage</th></tr><tr><td>United Kingdom</td><td>17907</td><td>52,524,576.47</td><td>109.94</td><td>83.42%</td></tr><tr><td>Netherlands</td><td>94</td><td>2,151,553.59</td><td>925.00</td><td>3.42%</td></tr><tr><td>EIRE</td><td>277</td><td>1,713,410.95</td><td>219.47</td><td>2.72%</td></tr><tr><td>Germany</td><td>453</td><td>1,371,543.27</td><td>133.94</td><td>2.18%</td></tr><tr><td>France</td><td>404</td><td>1,330,652.89</td><td>128.03</td><td>2.11%</td></tr><tr><td>Australia</td><td>62</td><td>995,607.91</td><td>610.43</td><td>1.58%</td></tr><tr><td>Sweden</td><td>33</td><td>401,879.89</td><td>985.00</td><td>0.64%</td></tr><tr><td>Switzerland</td><td>55</td><td>361,969.25</td><td>157.17</td><td>0.57%</td></tr><tr><td>Japan</td><td>20</td><td>293,155.44</td><td>869.90</td><td>0.47%</td></tr><tr><td>Spain</td><td>78</td><td>281,012.27</td><td>117.78</td><td>0.45%</td></tr></table>"
                    },
                    "metadata": {}
                }
            ],
            "execution_count": 3
        },
        {
            "cell_type": "markdown",
            "source": [
                "- The UK alone contributes 83.42% of the total revenue, significantly higher than all other countries combined.\n",
                "- It also has the highest number of transactions (17,907), indicating a strong domestic market.\n",
                "- The Netherlands ($925.00) and Sweden ($985.00) **have much higher average transaction values** than the UK ($109.94).\n",
                "- This suggests that although they have fewer transactions, customers in these countries purchase in larger amounts per order.\n",
                "- The Netherlands (3.42%) and EIRE (2.72%) are the next biggest contributors.\n",
                "- Countries like Japan (0.47%) and Spain (0.45%) contribute the least among the top 10, indicating potential for growth in these regions."
            ],
            "metadata": {
                "azdata_cell_guid": "84c2ad3b-ef72-4105-a812-90f8c1dade9e"
            },
            "attachments": {}
        },
        {
            "cell_type": "markdown",
            "source": [
                "### _3\\. Top 10 countries generate the highest average transaction value_"
            ],
            "metadata": {
                "azdata_cell_guid": "c95ca394-b9cb-49a4-a9e4-f44198092fa3"
            },
            "attachments": {}
        },
        {
            "cell_type": "code",
            "source": [
                "Select TOP 10 country,\r\n",
                " FORMAT(SUM(Price * Quantity), 'N2') AS TotalRevenue,\r\n",
                "    FORMAT(AVG(Price * Quantity), 'N2') AS AvgTransactionValue\r\n",
                "from [sale_transaction-data]\r\n",
                "group by country\r\n",
                "order by  AvgTransactionValue desc"
            ],
            "metadata": {
                "azdata_cell_guid": "8fb00a44-aea6-4a44-b575-774c6434b0d0",
                "language": "sql"
            },
            "outputs": [
                {
                    "output_type": "display_data",
                    "data": {
                        "text/html": "(10 rows affected)"
                    },
                    "metadata": {}
                },
                {
                    "output_type": "display_data",
                    "data": {
                        "text/html": "Total execution time: 00:00:00.691"
                    },
                    "metadata": {}
                },
                {
                    "output_type": "execute_result",
                    "execution_count": 4,
                    "data": {
                        "application/vnd.dataresource+json": {
                            "schema": {
                                "fields": [
                                    {
                                        "name": "country"
                                    },
                                    {
                                        "name": "TotalRevenue"
                                    },
                                    {
                                        "name": "AvgTransactionValue"
                                    }
                                ]
                            },
                            "data": [
                                {
                                    "country": "Sweden",
                                    "TotalRevenue": "401,879.89",
                                    "AvgTransactionValue": "985.00"
                                },
                                {
                                    "country": "Portugal",
                                    "TotalRevenue": "176,110.40",
                                    "AvgTransactionValue": "95.82"
                                },
                                {
                                    "country": "Malta",
                                    "TotalRevenue": "12,717.23",
                                    "AvgTransactionValue": "94.20"
                                },
                                {
                                    "country": "Netherlands",
                                    "TotalRevenue": "2,151,553.59",
                                    "AvgTransactionValue": "925.00"
                                },
                                {
                                    "country": "Japan",
                                    "TotalRevenue": "293,155.44",
                                    "AvgTransactionValue": "869.90"
                                },
                                {
                                    "country": "Austria",
                                    "TotalRevenue": "69,147.26",
                                    "AvgTransactionValue": "78.22"
                                },
                                {
                                    "country": "RSA",
                                    "TotalRevenue": "4,259.83",
                                    "AvgTransactionValue": "74.73"
                                },
                                {
                                    "country": "Unspecified",
                                    "TotalRevenue": "32,699.05",
                                    "AvgTransactionValue": "73.15"
                                },
                                {
                                    "country": "Australia",
                                    "TotalRevenue": "995,607.91",
                                    "AvgTransactionValue": "610.43"
                                },
                                {
                                    "country": "Iceland",
                                    "TotalRevenue": "38,321.90",
                                    "AvgTransactionValue": "48.69"
                                }
                            ]
                        },
                        "text/html": "<table><tr><th>country</th><th>TotalRevenue</th><th>AvgTransactionValue</th></tr><tr><td>Sweden</td><td>401,879.89</td><td>985.00</td></tr><tr><td>Portugal</td><td>176,110.40</td><td>95.82</td></tr><tr><td>Malta</td><td>12,717.23</td><td>94.20</td></tr><tr><td>Netherlands</td><td>2,151,553.59</td><td>925.00</td></tr><tr><td>Japan</td><td>293,155.44</td><td>869.90</td></tr><tr><td>Austria</td><td>69,147.26</td><td>78.22</td></tr><tr><td>RSA</td><td>4,259.83</td><td>74.73</td></tr><tr><td>Unspecified</td><td>32,699.05</td><td>73.15</td></tr><tr><td>Australia</td><td>995,607.91</td><td>610.43</td></tr><tr><td>Iceland</td><td>38,321.90</td><td>48.69</td></tr></table>"
                    },
                    "metadata": {}
                }
            ],
            "execution_count": 4
        },
        {
            "cell_type": "markdown",
            "source": [
                "### _4\\. Top 10 customers with highest sale transaction_"
            ],
            "metadata": {
                "azdata_cell_guid": "b7a2f78c-bcfc-4c4a-8d60-db9144aa0d8d"
            },
            "attachments": {}
        },
        {
            "cell_type": "code",
            "source": [
                "-- Top 10 customer sale transaction\r\n",
                "Select top 10 CustomerNo, FORMAT(SUM(Price * Quantity), 'N2')  as CustomerSale,\r\n",
                "FORMAT(AVG(Price * Quantity), 'N2') AS AvgCustomersale\r\n",
                "from [sale_transaction-data]\r\n",
                "group by  CustomerNo\r\n",
                "order by CustomerSale desc "
            ],
            "metadata": {
                "azdata_cell_guid": "f7643fe8-ca67-4fb5-9f56-a153ec535016",
                "language": "sql"
            },
            "outputs": [
                {
                    "output_type": "display_data",
                    "data": {
                        "text/html": "(10 rows affected)"
                    },
                    "metadata": {}
                },
                {
                    "output_type": "display_data",
                    "data": {
                        "text/html": "Total execution time: 00:00:00.576"
                    },
                    "metadata": {}
                },
                {
                    "output_type": "execute_result",
                    "execution_count": 5,
                    "data": {
                        "application/vnd.dataresource+json": {
                            "schema": {
                                "fields": [
                                    {
                                        "name": "CustomerNo"
                                    },
                                    {
                                        "name": "CustomerSale"
                                    },
                                    {
                                        "name": "AvgCustomersale"
                                    }
                                ]
                            },
                            "data": [
                                {
                                    "CustomerNo": "173250",
                                    "CustomerSale": "998.42",
                                    "AvgCustomersale": "35.66"
                                },
                                {
                                    "CustomerNo": "168470",
                                    "CustomerSale": "997.68",
                                    "AvgCustomersale": "83.14"
                                },
                                {
                                    "CustomerNo": "170080",
                                    "CustomerSale": "997.64",
                                    "AvgCustomersale": "26.25"
                                },
                                {
                                    "CustomerNo": "156910",
                                    "CustomerSale": "997.44",
                                    "AvgCustomersale": "332.48"
                                },
                                {
                                    "CustomerNo": "173590",
                                    "CustomerSale": "996.59",
                                    "AvgCustomersale": "66.44"
                                },
                                {
                                    "CustomerNo": "177180",
                                    "CustomerSale": "993.47",
                                    "AvgCustomersale": "165.58"
                                },
                                {
                                    "CustomerNo": "164480",
                                    "CustomerSale": "993.05",
                                    "AvgCustomersale": "49.65"
                                },
                                {
                                    "CustomerNo": "136990",
                                    "CustomerSale": "992.76",
                                    "AvgCustomersale": "70.91"
                                },
                                {
                                    "CustomerNo": "153350",
                                    "CustomerSale": "991.99",
                                    "AvgCustomersale": "27.56"
                                },
                                {
                                    "CustomerNo": "138580",
                                    "CustomerSale": "990.23",
                                    "AvgCustomersale": "90.02"
                                }
                            ]
                        },
                        "text/html": "<table><tr><th>CustomerNo</th><th>CustomerSale</th><th>AvgCustomersale</th></tr><tr><td>173250</td><td>998.42</td><td>35.66</td></tr><tr><td>168470</td><td>997.68</td><td>83.14</td></tr><tr><td>170080</td><td>997.64</td><td>26.25</td></tr><tr><td>156910</td><td>997.44</td><td>332.48</td></tr><tr><td>173590</td><td>996.59</td><td>66.44</td></tr><tr><td>177180</td><td>993.47</td><td>165.58</td></tr><tr><td>164480</td><td>993.05</td><td>49.65</td></tr><tr><td>136990</td><td>992.76</td><td>70.91</td></tr><tr><td>153350</td><td>991.99</td><td>27.56</td></tr><tr><td>138580</td><td>990.23</td><td>90.02</td></tr></table>"
                    },
                    "metadata": {}
                }
            ],
            "execution_count": 5
        },
        {
            "cell_type": "markdown",
            "source": [
                "- All top 10 customers **have similar total sales**, around **$990 - 998**.\n",
                "- However, the average transaction value **(AvgCustomerSale) varies significantly**, ranging from 26.25 to 332.48.\n",
                "- **Customer 156910** has a very high average sale value (332.48), suggesting they make fewer but high-value transactions.\n",
                "- Some customers, like Customer 170080 (Avg: 26.25) and Customer 153350 (Avg: 27.56), likely make many small purchases.\n",
                "- Others, like Customer 177180 (Avg: 165.58) and Customer 138580 (Avg: 90.02), might buy less frequently but with higher value per purchase."
            ],
            "metadata": {
                "azdata_cell_guid": "6c77a638-29e0-4aa1-9eac-dad45207d9ba"
            },
            "attachments": {}
        },
        {
            "cell_type": "markdown",
            "source": [
                "# **Sale by Date**"
            ],
            "metadata": {
                "azdata_cell_guid": "e49e274d-deb5-43a7-ab6f-20fa40452818"
            },
            "attachments": {}
        },
        {
            "cell_type": "markdown",
            "source": [
                "## **1\\. Yearly Revenue Trend**"
            ],
            "metadata": {
                "azdata_cell_guid": "31cdb8f1-032e-479d-abcf-ca7a8825babf"
            },
            "attachments": {}
        },
        {
            "cell_type": "code",
            "source": [
                "-- Yearly Revenue Trend\r\n",
                "SELECT \r\n",
                "    YEAR(Date) AS Year,\r\n",
                "    COUNT(DISTINCT TransactionNo) AS YearlyTransactions,\r\n",
                "    FORMAT(SUM(Quantity * Price), 'N2') AS YearlyRevenue,\r\n",
                "    FORMAT(AVG(Quantity * Price), 'N2') AS AvgYearlyTransactionValue,\r\n",
                "    -- Calculate Year-over-Year Growth\r\n",
                "    FORMAT(LAG(SUM(Quantity * Price)) OVER (ORDER BY YEAR(Date)), 'N2') AS PreviousYearRevenue,\r\n",
                "    FORMAT(\r\n",
                "        (SUM(Quantity * Price) - LAG(SUM(Quantity * Price)) OVER (ORDER BY YEAR(Date))) / \r\n",
                "        NULLIF(LAG(SUM(Quantity * Price)) OVER (ORDER BY YEAR(Date)), 0) * 100, 'N2'\r\n",
                "    ) +'%' AS YearOverYearGrowth\r\n",
                "FROM [sale_transaction-data]\r\n",
                "GROUP BY YEAR(Date)\r\n",
                "ORDER BY Year;"
            ],
            "metadata": {
                "azdata_cell_guid": "8dfde454-ab35-4d2d-b413-7a0e00b15c88",
                "language": "sql"
            },
            "outputs": [
                {
                    "output_type": "display_data",
                    "data": {
                        "text/html": "(2 rows affected)"
                    },
                    "metadata": {}
                },
                {
                    "output_type": "display_data",
                    "data": {
                        "text/html": "Total execution time: 00:00:00.730"
                    },
                    "metadata": {}
                },
                {
                    "output_type": "execute_result",
                    "execution_count": 6,
                    "data": {
                        "application/vnd.dataresource+json": {
                            "schema": {
                                "fields": [
                                    {
                                        "name": "Year"
                                    },
                                    {
                                        "name": "YearlyTransactions"
                                    },
                                    {
                                        "name": "YearlyRevenue"
                                    },
                                    {
                                        "name": "AvgYearlyTransactionValue"
                                    },
                                    {
                                        "name": "PreviousYearRevenue"
                                    },
                                    {
                                        "name": "YearOverYearGrowth"
                                    }
                                ]
                            },
                            "data": [
                                {
                                    "Year": "2018",
                                    "YearlyTransactions": "1552",
                                    "YearlyRevenue": "4,415,415.52",
                                    "AvgYearlyTransactionValue": "106.61",
                                    "PreviousYearRevenue": "NULL",
                                    "YearOverYearGrowth": "NULL"
                                },
                                {
                                    "Year": "2019",
                                    "YearlyTransactions": "18237",
                                    "YearlyRevenue": "58,550,476.82",
                                    "AvgYearlyTransactionValue": "120.39",
                                    "PreviousYearRevenue": "4,415,415.52",
                                    "YearOverYearGrowth": "1,226.05%"
                                }
                            ]
                        },
                        "text/html": "<table><tr><th>Year</th><th>YearlyTransactions</th><th>YearlyRevenue</th><th>AvgYearlyTransactionValue</th><th>PreviousYearRevenue</th><th>YearOverYearGrowth</th></tr><tr><td>2018</td><td>1552</td><td>4,415,415.52</td><td>106.61</td><td>NULL</td><td>NULL</td></tr><tr><td>2019</td><td>18237</td><td>58,550,476.82</td><td>120.39</td><td>4,415,415.52</td><td>1,226.05%</td></tr></table>"
                    },
                    "metadata": {}
                }
            ],
            "execution_count": 6
        },
        {
            "cell_type": "markdown",
            "source": [
                "## **2\\. Monthy revenue trend**"
            ],
            "metadata": {
                "azdata_cell_guid": "c5fe0533-9956-45b8-936b-ef548c8eb851"
            },
            "attachments": {}
        },
        {
            "cell_type": "code",
            "source": [
                "-- -- Create a stored procedure to analyze monthly revenue trends\r\n",
                "-- CREATE PROCEDURE GetMonthlyRevenueTrend\r\n",
                "--     @SelectedYear INT = NULL  -- Allow NULL to fetch all years if not specified\r\n",
                "-- AS\r\n",
                "-- BEGIN\r\n",
                "--     SET NOCOUNT ON;\r\n",
                "\r\n",
                "--     SELECT \r\n",
                "--         YEAR(Date) AS YearNumber,\r\n",
                "--         MONTH(Date) AS MonthNumber,\r\n",
                "--         COUNT(DISTINCT TransactionNo) AS MonthlyTransactions,\r\n",
                "--         FORMAT(SUM(Quantity * Price), 'N2') AS MonthlyRevenue,\r\n",
                "--         FORMAT(AVG(Quantity * Price), 'N2') AS AvgMonthlyTransactionValue,\r\n",
                "--         -- Calculate Month-over-Month Growth\r\n",
                "--         FORMAT(LAG(SUM(Quantity * Price)) OVER (PARTITION BY YEAR(Date) ORDER BY MONTH(Date)), 'N2') AS PreviousMonthRevenue,\r\n",
                "--         FORMAT(\r\n",
                "--             (SUM(Quantity * Price) - LAG(SUM(Quantity * Price)) OVER (PARTITION BY YEAR(Date) ORDER BY MONTH(Date))) /\r\n",
                "--             NULLIF(LAG(SUM(Quantity * Price)) OVER (PARTITION BY YEAR(Date) ORDER BY MONTH(Date)), 0) * 100, 'N2'\r\n",
                "--         ) + '%' AS MonthOverMonthGrowth\r\n",
                "--     FROM [sale_transaction-data]\r\n",
                "--     WHERE (@SelectedYear IS NULL OR YEAR(Date) = @SelectedYear)  -- Filter by year if provided\r\n",
                "--     GROUP BY YEAR(Date), MONTH(Date)\r\n",
                "--     ORDER BY YearNumber, MonthNumber;\r\n",
                "-- END;\r\n",
                "\r\n",
                "\r\n",
                "--DROP PROCEDURE GetMonthlyRevenueTrend;\r\n",
                ""
            ],
            "metadata": {
                "azdata_cell_guid": "3ba100a6-d8ca-4bd6-9d8f-a888a8c0a5d3",
                "language": "sql"
            },
            "outputs": [
                {
                    "output_type": "display_data",
                    "data": {
                        "text/html": "Commands completed successfully."
                    },
                    "metadata": {}
                },
                {
                    "output_type": "display_data",
                    "data": {
                        "text/html": "Total execution time: 00:00:00.012"
                    },
                    "metadata": {}
                }
            ],
            "execution_count": 7
        },
        {
            "cell_type": "code",
            "source": [
                "-- USE THIS PROCEDURE\r\n",
                "--1. To analyze a specific year \r\n",
                "EXEC GetMonthlyRevenueTrend @SelectedYear = 2019;\r\n",
                "-- 2. To analyze all available years\r\n",
                "--EXEC GetMonthlyRevenueTrend @SelectedYear = NULL;\r\n",
                ""
            ],
            "metadata": {
                "azdata_cell_guid": "86214674-fc96-4fa1-8b05-e6c99207927d",
                "language": "sql"
            },
            "outputs": [
                {
                    "output_type": "display_data",
                    "data": {
                        "text/html": "Commands completed successfully."
                    },
                    "metadata": {}
                },
                {
                    "output_type": "display_data",
                    "data": {
                        "text/html": "Total execution time: 00:00:00.894"
                    },
                    "metadata": {}
                },
                {
                    "output_type": "execute_result",
                    "metadata": {},
                    "execution_count": 8,
                    "data": {
                        "application/vnd.dataresource+json": {
                            "schema": {
                                "fields": [
                                    {
                                        "name": "YearNumber"
                                    },
                                    {
                                        "name": "MonthNumber"
                                    },
                                    {
                                        "name": "MonthlyTransactions"
                                    },
                                    {
                                        "name": "MonthlyRevenue"
                                    },
                                    {
                                        "name": "AvgMonthlyTransactionValue"
                                    },
                                    {
                                        "name": "PreviousMonthRevenue"
                                    },
                                    {
                                        "name": "MonthOverMonthGrowth"
                                    }
                                ]
                            },
                            "data": [
                                {
                                    "YearNumber": "2019",
                                    "MonthNumber": "1",
                                    "MonthlyTransactions": "1081",
                                    "MonthlyRevenue": "4,559,856.37",
                                    "AvgMonthlyTransactionValue": "133.58",
                                    "PreviousMonthRevenue": "NULL",
                                    "MonthOverMonthGrowth": "NULL"
                                },
                                {
                                    "YearNumber": "2019",
                                    "MonthNumber": "2",
                                    "MonthlyTransactions": "1096",
                                    "MonthlyRevenue": "3,335,017.18",
                                    "AvgMonthlyTransactionValue": "123.56",
                                    "PreviousMonthRevenue": "4,559,856.37",
                                    "MonthOverMonthGrowth": "-26.86%"
                                },
                                {
                                    "YearNumber": "2019",
                                    "MonthNumber": "3",
                                    "MonthlyTransactions": "1442",
                                    "MonthlyRevenue": "4,398,401.60",
                                    "AvgMonthlyTransactionValue": "123.40",
                                    "PreviousMonthRevenue": "3,335,017.18",
                                    "MonthOverMonthGrowth": "31.89%"
                                },
                                {
                                    "YearNumber": "2019",
                                    "MonthNumber": "4",
                                    "MonthlyTransactions": "1235",
                                    "MonthlyRevenue": "3,589,497.88",
                                    "AvgMonthlyTransactionValue": "124.05",
                                    "PreviousMonthRevenue": "4,398,401.60",
                                    "MonthOverMonthGrowth": "-18.39%"
                                },
                                {
                                    "YearNumber": "2019",
                                    "MonthNumber": "5",
                                    "MonthlyTransactions": "1670",
                                    "MonthlyRevenue": "4,578,965.08",
                                    "AvgMonthlyTransactionValue": "127.14",
                                    "PreviousMonthRevenue": "3,589,497.88",
                                    "MonthOverMonthGrowth": "27.57%"
                                },
                                {
                                    "YearNumber": "2019",
                                    "MonthNumber": "6",
                                    "MonthlyTransactions": "1527",
                                    "MonthlyRevenue": "4,494,648.81",
                                    "AvgMonthlyTransactionValue": "125.53",
                                    "PreviousMonthRevenue": "4,578,965.08",
                                    "MonthOverMonthGrowth": "-1.84%"
                                },
                                {
                                    "YearNumber": "2019",
                                    "MonthNumber": "7",
                                    "MonthlyTransactions": "1452",
                                    "MonthlyRevenue": "4,593,867.06",
                                    "AvgMonthlyTransactionValue": "119.64",
                                    "PreviousMonthRevenue": "4,494,648.81",
                                    "MonthOverMonthGrowth": "2.21%"
                                },
                                {
                                    "YearNumber": "2019",
                                    "MonthNumber": "8",
                                    "MonthlyTransactions": "1341",
                                    "MonthlyRevenue": "4,758,356.02",
                                    "AvgMonthlyTransactionValue": "138.65",
                                    "PreviousMonthRevenue": "4,593,867.06",
                                    "MonthOverMonthGrowth": "3.58%"
                                },
                                {
                                    "YearNumber": "2019",
                                    "MonthNumber": "9",
                                    "MonthlyTransactions": "1818",
                                    "MonthlyRevenue": "6,628,303.06",
                                    "AvgMonthlyTransactionValue": "135.25",
                                    "PreviousMonthRevenue": "4,758,356.02",
                                    "MonthOverMonthGrowth": "39.30%"
                                },
                                {
                                    "YearNumber": "2019",
                                    "MonthNumber": "10",
                                    "MonthlyTransactions": "2005",
                                    "MonthlyRevenue": "7,237,417.36",
                                    "AvgMonthlyTransactionValue": "122.58",
                                    "PreviousMonthRevenue": "6,628,303.06",
                                    "MonthOverMonthGrowth": "9.19%"
                                },
                                {
                                    "YearNumber": "2019",
                                    "MonthNumber": "11",
                                    "MonthlyTransactions": "2753",
                                    "MonthlyRevenue": "7,861,197.12",
                                    "AvgMonthlyTransactionValue": "94.67",
                                    "PreviousMonthRevenue": "7,237,417.36",
                                    "MonthOverMonthGrowth": "8.62%"
                                },
                                {
                                    "YearNumber": "2019",
                                    "MonthNumber": "12",
                                    "MonthlyTransactions": "817",
                                    "MonthlyRevenue": "2,514,949.28",
                                    "AvgMonthlyTransactionValue": "100.55",
                                    "PreviousMonthRevenue": "7,861,197.12",
                                    "MonthOverMonthGrowth": "-68.01%"
                                }
                            ]
                        },
                        "text/html": [
                            "<table>",
                            "<tr><th>YearNumber</th><th>MonthNumber</th><th>MonthlyTransactions</th><th>MonthlyRevenue</th><th>AvgMonthlyTransactionValue</th><th>PreviousMonthRevenue</th><th>MonthOverMonthGrowth</th></tr>",
                            "<tr><td>2019</td><td>1</td><td>1081</td><td>4,559,856.37</td><td>133.58</td><td>NULL</td><td>NULL</td></tr>",
                            "<tr><td>2019</td><td>2</td><td>1096</td><td>3,335,017.18</td><td>123.56</td><td>4,559,856.37</td><td>-26.86%</td></tr>",
                            "<tr><td>2019</td><td>3</td><td>1442</td><td>4,398,401.60</td><td>123.40</td><td>3,335,017.18</td><td>31.89%</td></tr>",
                            "<tr><td>2019</td><td>4</td><td>1235</td><td>3,589,497.88</td><td>124.05</td><td>4,398,401.60</td><td>-18.39%</td></tr>",
                            "<tr><td>2019</td><td>5</td><td>1670</td><td>4,578,965.08</td><td>127.14</td><td>3,589,497.88</td><td>27.57%</td></tr>",
                            "<tr><td>2019</td><td>6</td><td>1527</td><td>4,494,648.81</td><td>125.53</td><td>4,578,965.08</td><td>-1.84%</td></tr>",
                            "<tr><td>2019</td><td>7</td><td>1452</td><td>4,593,867.06</td><td>119.64</td><td>4,494,648.81</td><td>2.21%</td></tr>",
                            "<tr><td>2019</td><td>8</td><td>1341</td><td>4,758,356.02</td><td>138.65</td><td>4,593,867.06</td><td>3.58%</td></tr>",
                            "<tr><td>2019</td><td>9</td><td>1818</td><td>6,628,303.06</td><td>135.25</td><td>4,758,356.02</td><td>39.30%</td></tr>",
                            "<tr><td>2019</td><td>10</td><td>2005</td><td>7,237,417.36</td><td>122.58</td><td>6,628,303.06</td><td>9.19%</td></tr>",
                            "<tr><td>2019</td><td>11</td><td>2753</td><td>7,861,197.12</td><td>94.67</td><td>7,237,417.36</td><td>8.62%</td></tr>",
                            "<tr><td>2019</td><td>12</td><td>817</td><td>2,514,949.28</td><td>100.55</td><td>7,861,197.12</td><td>-68.01%</td></tr>",
                            "</table>"
                        ]
                    }
                }
            ],
            "execution_count": 8
        },
        {
            "cell_type": "markdown",
            "source": [
                "- **Strongest Months for Revenue**\n",
                "    - **November ($7.86M) and October ($7.23M)** had the highest revenue.\n",
                "    - **September ($6.63M) and August ($4.75M)** also performed well.\n",
                "    - This suggests a strong demand in Q4, possibly due to holiday sales or seasonal promotions.\n",
                "- **Weakest Months**\n",
                "    - **December ($2.51M) saw a massive drop (-68.01%)** from November.\n",
                "    - **February ($3.33M) had the second-lowest revenue** but showed growth in March (+31.89%).\n",
                "- **Fluctuations & Patterns**\n",
                "    - **Sharp declines** in March (-18.39%) and June (-1.84%) could indicate post-holiday or mid-year slowdowns.\n",
                "    - **Significant growth in April (+27.57%) and September (+39.30%)** suggests key marketing efforts or seasonal demand spikes."
            ],
            "metadata": {
                "azdata_cell_guid": "e82b5974-90c6-444c-a913-3ab703c26933"
            },
            "attachments": {}
        },
        {
            "cell_type": "markdown",
            "source": [
                "## **3\\. Daily revenue trend**"
            ],
            "metadata": {
                "azdata_cell_guid": "b799834a-fa8a-4975-ab96-0fefd15558b4"
            },
            "attachments": {}
        },
        {
            "cell_type": "code",
            "source": [
                "-- -- Create Daily procedure\r\n",
                "-- CREATE PROCEDURE GetRevenueReport\r\n",
                "--     @StartDate DATE = NULL,\r\n",
                "--     @EndDate DATE = NULL\r\n",
                "-- AS\r\n",
                "-- BEGIN\r\n",
                "--     SET NOCOUNT ON;\r\n",
                "\r\n",
                "--     -- CTE to get previous revenue before @StartDate\r\n",
                "--     WITH PreviousTotal AS (\r\n",
                "--         SELECT SUM(Price * Quantity) AS PreviousRevenue\r\n",
                "--         FROM [sale_transaction-data]\r\n",
                "--         WHERE (@StartDate IS NOT NULL AND Date < @StartDate)\r\n",
                "--     )\r\n",
                "\r\n",
                "--     -- Main query to calculate daily transactions, revenue, and running total revenue\r\n",
                "--     SELECT \r\n",
                "--         Date,\r\n",
                "--         COUNT(DISTINCT TransactionNo) AS DailyTransactions,\r\n",
                "--         SUM(Price * Quantity) AS DailyRevenue,\r\n",
                "--         -- Running total including previous revenue if applicable\r\n",
                "--         COALESCE((SELECT PreviousRevenue FROM PreviousTotal), 0) + \r\n",
                "--         SUM(SUM(Price * Quantity)) OVER (ORDER BY Date) AS RunningTotalRevenue\r\n",
                "--     FROM [sale_transaction-data]\r\n",
                "--     WHERE (@StartDate IS NULL OR Date >= @StartDate)\r\n",
                "--       AND (@EndDate IS NULL OR Date <= @EndDate)\r\n",
                "--     GROUP BY Date\r\n",
                "--     ORDER BY Date;\r\n",
                "-- END;\r\n",
                ""
            ],
            "metadata": {
                "azdata_cell_guid": "61f7b673-1eb2-41ee-a839-01a3467df8e5",
                "language": "sql"
            },
            "outputs": [
                {
                    "output_type": "display_data",
                    "data": {
                        "text/html": "Commands completed successfully."
                    },
                    "metadata": {}
                },
                {
                    "output_type": "display_data",
                    "data": {
                        "text/html": "Total execution time: 00:00:00.012"
                    },
                    "metadata": {}
                }
            ],
            "execution_count": 12
        },
        {
            "cell_type": "code",
            "source": [
                "-- 1. Get revenue for all dates:\r\n",
                "--EXEC GetRevenueReport NULL, NULL;\r\n",
                "--2. Get revenue for a specific date range\r\n",
                "EXEC GetRevenueReport '2019-01-01', '2019-01-10';\r\n",
                ""
            ],
            "metadata": {
                "azdata_cell_guid": "2139dd14-bfcb-42e4-9bb3-ba67e79add4d",
                "language": "sql",
                "tags": []
            },
            "outputs": [
                {
                    "output_type": "display_data",
                    "data": {
                        "text/html": "Commands completed successfully."
                    },
                    "metadata": {}
                },
                {
                    "output_type": "display_data",
                    "data": {
                        "text/html": "Total execution time: 00:00:00.513"
                    },
                    "metadata": {}
                },
                {
                    "output_type": "execute_result",
                    "execution_count": 13,
                    "data": {
                        "application/vnd.dataresource+json": {
                            "schema": {
                                "fields": [
                                    {
                                        "name": "Date"
                                    },
                                    {
                                        "name": "DailyTransactions"
                                    },
                                    {
                                        "name": "DailyRevenue"
                                    },
                                    {
                                        "name": "RunningTotalRevenue"
                                    }
                                ]
                            },
                            "data": [
                                {
                                    "Date": "2019-01-04",
                                    "DailyTransactions": "36",
                                    "DailyRevenue": "102905.96",
                                    "RunningTotalRevenue": "4518321.48"
                                },
                                {
                                    "Date": "2019-01-05",
                                    "DailyTransactions": "55",
                                    "DailyRevenue": "225004.01",
                                    "RunningTotalRevenue": "4743325.49"
                                },
                                {
                                    "Date": "2019-01-06",
                                    "DailyTransactions": "50",
                                    "DailyRevenue": "267324.81",
                                    "RunningTotalRevenue": "5010650.30"
                                },
                                {
                                    "Date": "2019-01-07",
                                    "DailyTransactions": "53",
                                    "DailyRevenue": "189552.39",
                                    "RunningTotalRevenue": "5200202.69"
                                },
                                {
                                    "Date": "2019-01-09",
                                    "DailyTransactions": "48",
                                    "DailyRevenue": "96937.98",
                                    "RunningTotalRevenue": "5297140.67"
                                },
                                {
                                    "Date": "2019-01-10",
                                    "DailyTransactions": "39",
                                    "DailyRevenue": "155158.65",
                                    "RunningTotalRevenue": "5452299.32"
                                }
                            ]
                        },
                        "text/html": "<table><tr><th>Date</th><th>DailyTransactions</th><th>DailyRevenue</th><th>RunningTotalRevenue</th></tr><tr><td>2019-01-04</td><td>36</td><td>102905.96</td><td>4518321.48</td></tr><tr><td>2019-01-05</td><td>55</td><td>225004.01</td><td>4743325.49</td></tr><tr><td>2019-01-06</td><td>50</td><td>267324.81</td><td>5010650.30</td></tr><tr><td>2019-01-07</td><td>53</td><td>189552.39</td><td>5200202.69</td></tr><tr><td>2019-01-09</td><td>48</td><td>96937.98</td><td>5297140.67</td></tr><tr><td>2019-01-10</td><td>39</td><td>155158.65</td><td>5452299.32</td></tr></table>"
                    },
                    "metadata": {}
                }
            ],
            "execution_count": 13
        },
        {
            "cell_type": "markdown",
            "source": [
                "This table presents daily sales performance on specific days ( from 2019-01-01 to 2019-01-10)\n",
                "\n",
                "<span style=\"color: var(--vscode-foreground);\">January 6th saw the </span> <span data-start=\"660\" data-end=\"692\" style=\"color: var(--vscode-foreground);\">highest revenue (267,324.81)</span> <span style=\"color: var(--vscode-foreground);\"> in the table</span>"
            ],
            "metadata": {
                "azdata_cell_guid": "7d7434de-040a-4f16-aed4-5ebd374af283"
            },
            "attachments": {}
        },
        {
            "cell_type": "markdown",
            "source": [
                "## **4\\. Highest and lowest sales of specific month**"
            ],
            "metadata": {
                "azdata_cell_guid": "a75c90b7-3924-4f3e-842b-592fdc558dc6"
            },
            "attachments": {}
        },
        {
            "cell_type": "code",
            "source": [
                "DECLARE @SelectedYear INT = 2019;  -- Change this to the desired year\r\n",
                "DECLARE @SelectedMonth INT = 6;    -- Change this to the desired month\r\n",
                "\r\n",
                "SELECT \r\n",
                "    FORMAT(MAX(Quantity* Price), 'N2') AS HighestSales,\r\n",
                "    FORMAT(MIN(Quantity* Price), 'N2') AS LowestSales\r\n",
                "FROM [sale_transaction-data]\r\n",
                "WHERE YEAR(Date) = @SelectedYear AND MONTH(Date) = @SelectedMonth;"
            ],
            "metadata": {
                "azdata_cell_guid": "45215d02-d677-4c2c-9514-54c68fe3729d",
                "language": "sql"
            },
            "outputs": [
                {
                    "output_type": "display_data",
                    "data": {
                        "text/html": "(1 row affected)"
                    },
                    "metadata": {}
                },
                {
                    "output_type": "display_data",
                    "data": {
                        "text/html": "Total execution time: 00:00:00.293"
                    },
                    "metadata": {}
                },
                {
                    "output_type": "execute_result",
                    "execution_count": 16,
                    "data": {
                        "application/vnd.dataresource+json": {
                            "schema": {
                                "fields": [
                                    {
                                        "name": "HighestSales"
                                    },
                                    {
                                        "name": "LowestSales"
                                    }
                                ]
                            },
                            "data": [
                                {
                                    "HighestSales": "16,496.00",
                                    "LowestSales": "5.13"
                                }
                            ]
                        },
                        "text/html": "<table><tr><th>HighestSales</th><th>LowestSales</th></tr><tr><td>16,496.00</td><td>5.13</td></tr></table>"
                    },
                    "metadata": {}
                }
            ],
            "execution_count": 16
        },
        {
            "cell_type": "markdown",
            "source": [
                "In June 2019, the highest transaction sale was 16,496, while the lowest transaction sale was 5.13."
            ],
            "metadata": {
                "azdata_cell_guid": "61957c48-df0c-4e1c-8c0a-a16728e3b2e9"
            },
            "attachments": {}
        },
        {
            "cell_type": "markdown",
            "source": [
                "## **5\\. How did sales perform in specific year or month or week ?**"
            ],
            "metadata": {
                "azdata_cell_guid": "6dab956e-0008-436b-bc2d-fc3d66d050a5"
            },
            "attachments": {}
        },
        {
            "cell_type": "code",
            "source": [
                "-- CREATE PROCEDURE usp_GetWeeklySalesSummary\r\n",
                "--     @Year INT = NULL,  -- Set NULL to include all years\r\n",
                "--     @Month INT = NULL, -- Set NULL to include all months\r\n",
                "--     @Week INT = NULL   -- Set NULL to include all weeks\r\n",
                "-- AS\r\n",
                "-- BEGIN\r\n",
                "--     SET NOCOUNT ON;\r\n",
                "\r\n",
                "--     SELECT \r\n",
                "--         DATENAME(WEEKDAY, Date) AS DayOfWeek,\r\n",
                "--         COUNT(DISTINCT TransactionNo) AS TotalTransactions,\r\n",
                "--         FORMAT(SUM(Quantity), 'N0') AS TotalQuantity,\r\n",
                "--         FORMAT(SUM(Price * Quantity), 'N2') AS TotalRevenue,\r\n",
                "--         FORMAT(AVG(Price * Quantity), 'N2') AS AvgTransactionValue,\r\n",
                "--         COUNT(DISTINCT Date) AS NumberOfDays,\r\n",
                "--         FORMAT(SUM(Price * Quantity) / NULLIF(COUNT(DISTINCT Date), 0), 'N2') AS AvgDailyRevenue\r\n",
                "--     FROM [sale_transaction-data]\r\n",
                "--     WHERE \r\n",
                "--         (@Year IS NULL OR YEAR(Date) = @Year) \r\n",
                "--         AND (@Month IS NULL OR MONTH(Date) = @Month)\r\n",
                "--         AND (@Week IS NULL OR DATEPART(WEEK, Date) = @Week)\r\n",
                "--     GROUP BY DATENAME(WEEKDAY, Date)\r\n",
                "--     ORDER BY \r\n",
                "--         CASE DATENAME(WEEKDAY, Date)\r\n",
                "--             WHEN 'Sunday' THEN 7\r\n",
                "--             WHEN 'Monday' THEN 1\r\n",
                "--             WHEN 'Tuesday' THEN 2\r\n",
                "--             WHEN 'Wednesday' THEN 3\r\n",
                "--             WHEN 'Thursday' THEN 4\r\n",
                "--             WHEN 'Friday' THEN 5\r\n",
                "--             WHEN 'Saturday' THEN 6\r\n",
                "--         END;\r\n",
                "-- END;\r\n",
                ""
            ],
            "metadata": {
                "azdata_cell_guid": "580dc375-d25d-456e-8c85-867a7140be22",
                "language": "sql"
            },
            "outputs": [
                {
                    "output_type": "display_data",
                    "data": {
                        "text/html": "Commands completed successfully."
                    },
                    "metadata": {}
                },
                {
                    "output_type": "display_data",
                    "data": {
                        "text/html": "Total execution time: 00:00:00.013"
                    },
                    "metadata": {}
                }
            ],
            "execution_count": 17
        },
        {
            "cell_type": "code",
            "source": [
                "-- Get sales summary for June 2019\r\n",
                "EXEC usp_GetWeeklySalesSummary @Year = 2019, @Month = 6, @Week = NULL;\r\n",
                ""
            ],
            "metadata": {
                "azdata_cell_guid": "099164ab-b8fd-4f41-9de1-9549f81dd9fe",
                "language": "sql",
                "tags": []
            },
            "outputs": [
                {
                    "output_type": "display_data",
                    "data": {
                        "text/html": "Commands completed successfully."
                    },
                    "metadata": {}
                },
                {
                    "output_type": "display_data",
                    "data": {
                        "text/html": "Total execution time: 00:00:00.491"
                    },
                    "metadata": {}
                },
                {
                    "output_type": "execute_result",
                    "execution_count": 23,
                    "data": {
                        "application/vnd.dataresource+json": {
                            "schema": {
                                "fields": [
                                    {
                                        "name": "DayOfWeek"
                                    },
                                    {
                                        "name": "TotalTransactions"
                                    },
                                    {
                                        "name": "TotalQuantity"
                                    },
                                    {
                                        "name": "TotalRevenue"
                                    },
                                    {
                                        "name": "AvgTransactionValue"
                                    },
                                    {
                                        "name": "NumberOfDays"
                                    },
                                    {
                                        "name": "AvgDailyRevenue"
                                    }
                                ]
                            },
                            "data": [
                                {
                                    "DayOfWeek": "Monday",
                                    "TotalTransactions": "196",
                                    "TotalQuantity": "40,020",
                                    "TotalRevenue": "465,869.04",
                                    "AvgTransactionValue": "122.53",
                                    "NumberOfDays": "4",
                                    "AvgDailyRevenue": "116,467.26"
                                },
                                {
                                    "DayOfWeek": "Wednesday",
                                    "TotalTransactions": "192",
                                    "TotalQuantity": "41,803",
                                    "TotalRevenue": "474,248.13",
                                    "AvgTransactionValue": "107.05",
                                    "NumberOfDays": "4",
                                    "AvgDailyRevenue": "118,562.03"
                                },
                                {
                                    "DayOfWeek": "Thursday",
                                    "TotalTransactions": "233",
                                    "TotalQuantity": "47,129",
                                    "TotalRevenue": "539,542.33",
                                    "AvgTransactionValue": "95.44",
                                    "NumberOfDays": "4",
                                    "AvgDailyRevenue": "134,885.58"
                                },
                                {
                                    "DayOfWeek": "Friday",
                                    "TotalTransactions": "244",
                                    "TotalQuantity": "70,001",
                                    "TotalRevenue": "812,713.05",
                                    "AvgTransactionValue": "137.42",
                                    "NumberOfDays": "4",
                                    "AvgDailyRevenue": "203,178.26"
                                },
                                {
                                    "DayOfWeek": "Saturday",
                                    "TotalTransactions": "300",
                                    "TotalQuantity": "90,562",
                                    "TotalRevenue": "1,041,114.57",
                                    "AvgTransactionValue": "136.09",
                                    "NumberOfDays": "5",
                                    "AvgDailyRevenue": "208,222.91"
                                },
                                {
                                    "DayOfWeek": "Sunday",
                                    "TotalTransactions": "362",
                                    "TotalQuantity": "99,761",
                                    "TotalRevenue": "1,161,161.69",
                                    "AvgTransactionValue": "138.94",
                                    "NumberOfDays": "5",
                                    "AvgDailyRevenue": "232,232.34"
                                }
                            ]
                        },
                        "text/html": "<table><tr><th>DayOfWeek</th><th>TotalTransactions</th><th>TotalQuantity</th><th>TotalRevenue</th><th>AvgTransactionValue</th><th>NumberOfDays</th><th>AvgDailyRevenue</th></tr><tr><td>Monday</td><td>196</td><td>40,020</td><td>465,869.04</td><td>122.53</td><td>4</td><td>116,467.26</td></tr><tr><td>Wednesday</td><td>192</td><td>41,803</td><td>474,248.13</td><td>107.05</td><td>4</td><td>118,562.03</td></tr><tr><td>Thursday</td><td>233</td><td>47,129</td><td>539,542.33</td><td>95.44</td><td>4</td><td>134,885.58</td></tr><tr><td>Friday</td><td>244</td><td>70,001</td><td>812,713.05</td><td>137.42</td><td>4</td><td>203,178.26</td></tr><tr><td>Saturday</td><td>300</td><td>90,562</td><td>1,041,114.57</td><td>136.09</td><td>5</td><td>208,222.91</td></tr><tr><td>Sunday</td><td>362</td><td>99,761</td><td>1,161,161.69</td><td>138.94</td><td>5</td><td>232,232.34</td></tr></table>"
                    },
                    "metadata": {}
                }
            ],
            "execution_count": 23
        },
        {
            "cell_type": "markdown",
            "source": [
                "**1️⃣ Best Sales Day: Sunday**\n",
                "\n",
                "- Highest Total Revenue: $1,161,163.69\n",
                "- Highest Total Quantity Sold: 99,761 units\n",
                "- Highest Average Transaction Value: $138.94\n",
                "- Highest Avg. Daily Revenue: $232,232.34\n",
                "\n",
                "→ Sunday is the most profitable day, likely due to high customer traffic or promotional events\n",
                "\n",
                "**2️⃣ Worst Sales Day: Monday**\n",
                "\n",
                "- Lowest Total Revenue: $465,869.04\n",
                "- Lowest Total Quantity Sold: 40,020 units\n",
                "- Low Avg. Transaction Value: $122.53\n",
                "- Lowest Avg. Daily Revenue: $116,467.26\n",
                "\n",
                "→ Monday has the weakest performance, suggesting lower customer engagement at the start of the week.\n",
                "\n",
                "- Friday to Sunday drive the most revenue, with over $800K+ revenue per day.\n",
                "- Saturday & Sunday outperform weekdays, averaging $200K+ daily revenue, compared to $116K–$134K on weekdays."
            ],
            "metadata": {
                "azdata_cell_guid": "d420ef12-d334-4236-9670-7bde8cad8ef8"
            },
            "attachments": {}
        },
        {
            "cell_type": "markdown",
            "source": [
                "# **Sale by Product**"
            ],
            "metadata": {
                "azdata_cell_guid": "0b0014c1-9696-4e02-b7f4-5ea3f3605785"
            },
            "attachments": {}
        },
        {
            "cell_type": "markdown",
            "source": [
                "## **1\\. Top 10 product has highest sales**"
            ],
            "metadata": {
                "azdata_cell_guid": "7241767d-98de-4418-9621-b5f53f60a748"
            },
            "attachments": {}
        },
        {
            "cell_type": "code",
            "source": [
                "SELECT TOP 10\r\n",
                "    ProductName, \r\n",
                "    SUM(Quantity) AS SumQTY, \r\n",
                "    FORMAT(SUM(Quantity * Price), 'N2') AS ProductSale\r\n",
                "FROM [sale_transaction-data]\r\n",
                "GROUP BY ProductName\r\n",
                "ORDER BY SUM(Quantity * Price) DESC;"
            ],
            "metadata": {
                "azdata_cell_guid": "712b1878-dc9e-4053-8a65-bdde619beb14",
                "language": "sql"
            },
            "outputs": [
                {
                    "output_type": "display_data",
                    "data": {
                        "text/html": "(10 rows affected)"
                    },
                    "metadata": {}
                },
                {
                    "output_type": "display_data",
                    "data": {
                        "text/html": "Total execution time: 00:00:01.275"
                    },
                    "metadata": {}
                },
                {
                    "output_type": "execute_result",
                    "metadata": {},
                    "execution_count": 10,
                    "data": {
                        "application/vnd.dataresource+json": {
                            "schema": {
                                "fields": [
                                    {
                                        "name": "ProductName"
                                    },
                                    {
                                        "name": "SumQTY"
                                    },
                                    {
                                        "name": "ProductSale"
                                    }
                                ]
                            },
                            "data": [
                                {
                                    "ProductName": "Paper Craft Little Birdie",
                                    "SumQTY": "80995",
                                    "ProductSale": "1,002,718.10"
                                },
                                {
                                    "ProductName": "Medium Ceramic Top Storage Jar",
                                    "SumQTY": "78033",
                                    "ProductSale": "881,990.18"
                                },
                                {
                                    "ProductName": "Popcorn Holder",
                                    "SumQTY": "56921",
                                    "ProductSale": "587,433.94"
                                },
                                {
                                    "ProductName": "World War 2 Gliders Asstd Designs",
                                    "SumQTY": "55047",
                                    "ProductSale": "569,735.39"
                                },
                                {
                                    "ProductName": "Cream Hanging Heart T-Light Holder",
                                    "SumQTY": "37956",
                                    "ProductSale": "484,592.69"
                                },
                                {
                                    "ProductName": "Assorted Colour Bird Ornament",
                                    "SumQTY": "36493",
                                    "ProductSale": "421,318.74"
                                },
                                {
                                    "ProductName": "Pack Of 72 Retrospot Cake Cases",
                                    "SumQTY": "36515",
                                    "ProductSale": "391,485.03"
                                },
                                {
                                    "ProductName": "Rabbit Night Light",
                                    "SumQTY": "30788",
                                    "ProductSale": "329,029.89"
                                },
                                {
                                    "ProductName": "Regency Cakestand 3 Tier",
                                    "SumQTY": "13890",
                                    "ProductSale": "307,483.85"
                                },
                                {
                                    "ProductName": "Jumbo Bag Red Retrospot",
                                    "SumQTY": "48478",
                                    "ProductSale": "297,205.04"
                                }
                            ]
                        },
                        "text/html": [
                            "<table>",
                            "<tr><th>ProductName</th><th>SumQTY</th><th>ProductSale</th></tr>",
                            "<tr><td>Paper Craft Little Birdie</td><td>80995</td><td>1,002,718.10</td></tr>",
                            "<tr><td>Medium Ceramic Top Storage Jar</td><td>78033</td><td>881,990.18</td></tr>",
                            "<tr><td>Popcorn Holder</td><td>56921</td><td>587,433.94</td></tr>",
                            "<tr><td>World War 2 Gliders Asstd Designs</td><td>55047</td><td>569,735.39</td></tr>",
                            "<tr><td>Cream Hanging Heart T-Light Holder</td><td>37956</td><td>484,592.69</td></tr>",
                            "<tr><td>Assorted Colour Bird Ornament</td><td>36493</td><td>421,318.74</td></tr>",
                            "<tr><td>Pack Of 72 Retrospot Cake Cases</td><td>36515</td><td>391,485.03</td></tr>",
                            "<tr><td>Rabbit Night Light</td><td>30788</td><td>329,029.89</td></tr>",
                            "<tr><td>Regency Cakestand 3 Tier</td><td>13890</td><td>307,483.85</td></tr>",
                            "<tr><td>Jumbo Bag Red Retrospot</td><td>48478</td><td>297,205.04</td></tr>",
                            "</table>"
                        ]
                    }
                }
            ],
            "execution_count": 10
        },
        {
            "cell_type": "markdown",
            "source": [
                "- _Paper Craft Little Birdie_ has the highest revenue ($1,002,718.10) and also the highest quantity sold (**80,995 units**).\n",
                "- _Regency Cakestand 3 Tier_ is ranked **#9** in revenue, but it has only **13,890 units sold**, suggesting it has a **high price per unit** compared to others."
            ],
            "metadata": {
                "azdata_cell_guid": "c0b8dba6-ffe7-4583-b2fe-e887a4e2e9a9"
            },
            "attachments": {}
        },
        {
            "cell_type": "markdown",
            "source": [
                "## **2\\. Which products have generated the highest and lowest revenue?**"
            ],
            "metadata": {
                "azdata_cell_guid": "611b3959-09a9-4384-b8ba-cc62cd305299"
            },
            "attachments": {}
        },
        {
            "cell_type": "markdown",
            "source": [
                "### **Highest revenue**"
            ],
            "metadata": {
                "azdata_cell_guid": "2c5f9af3-aaf5-4b60-8a33-ea5871c94140"
            },
            "attachments": {}
        },
        {
            "cell_type": "code",
            "source": [
                "-- First, calculate revenue for each product\r\n",
                "WITH ProductRevenue AS (\r\n",
                "    SELECT \r\n",
                "        ProductName,\r\n",
                "        FORMAT(Price, 'N2') AS Price,  \r\n",
                "        SUM(Quantity) AS TotalQuantity,\r\n",
                "        FORMAT(SUM(Price * Quantity), 'N2') AS TotalRevenue,  \r\n",
                "        RANK() OVER (ORDER BY SUM(Price * Quantity) DESC) AS RevenueRank \r\n",
                "    FROM [sale_transaction-data]\r\n",
                "    GROUP BY ProductName, Price\r\n",
                ")\r\n",
                "\r\n",
                "-- Then select the product with the highest revenue\r\n",
                "SELECT \r\n",
                "    ProductName,\r\n",
                "    Price,\r\n",
                "    TotalQuantity,\r\n",
                "    TotalRevenue\r\n",
                "FROM ProductRevenue\r\n",
                "WHERE RevenueRank = 1;"
            ],
            "metadata": {
                "azdata_cell_guid": "2bad35cc-4353-46a6-a54c-7ff7400416e2",
                "language": "sql"
            },
            "outputs": [
                {
                    "output_type": "display_data",
                    "data": {
                        "text/html": "(1 row affected)"
                    },
                    "metadata": {}
                },
                {
                    "output_type": "display_data",
                    "data": {
                        "text/html": "Total execution time: 00:00:01.533"
                    },
                    "metadata": {}
                },
                {
                    "output_type": "execute_result",
                    "metadata": {},
                    "execution_count": 11,
                    "data": {
                        "application/vnd.dataresource+json": {
                            "schema": {
                                "fields": [
                                    {
                                        "name": "ProductName"
                                    },
                                    {
                                        "name": "Price"
                                    },
                                    {
                                        "name": "TotalQuantity"
                                    },
                                    {
                                        "name": "TotalRevenue"
                                    }
                                ]
                            },
                            "data": [
                                {
                                    "ProductName": "Paper Craft Little Birdie",
                                    "Price": "12.38",
                                    "TotalQuantity": "80995",
                                    "TotalRevenue": "1,002,718.10"
                                }
                            ]
                        },
                        "text/html": [
                            "<table>",
                            "<tr><th>ProductName</th><th>Price</th><th>TotalQuantity</th><th>TotalRevenue</th></tr>",
                            "<tr><td>Paper Craft Little Birdie</td><td>12.38</td><td>80995</td><td>1,002,718.10</td></tr>",
                            "</table>"
                        ]
                    }
                }
            ],
            "execution_count": 11
        },
        {
            "cell_type": "markdown",
            "source": [
                "There are 1 product with highest revenue."
            ],
            "metadata": {
                "language": "sql",
                "azdata_cell_guid": "cb618c24-2eab-48ff-9756-c3e6a9c31d7b"
            },
            "attachments": {}
        },
        {
            "cell_type": "markdown",
            "source": [
                "### **Lowest revenue product**"
            ],
            "metadata": {
                "language": "sql",
                "azdata_cell_guid": "f806e761-d8ee-42a7-b917-2e61a3729714"
            },
            "attachments": {}
        },
        {
            "cell_type": "code",
            "source": [
                "-- First, calculate revenue for each product\r\n",
                "WITH ProductRevenue AS (\r\n",
                "    SELECT \r\n",
                "        ProductName,\r\n",
                "        FORMAT(Price, 'N2') AS Price,  \r\n",
                "        SUM(Quantity) AS TotalQuantity,\r\n",
                "        FORMAT(SUM(Price * Quantity), 'N2') AS TotalRevenue,  \r\n",
                "        RANK() OVER (ORDER BY SUM(Price * Quantity) ASC) AS RevenueRank \r\n",
                "    FROM [sale_transaction-data]\r\n",
                "    GROUP BY ProductName, Price\r\n",
                ")\r\n",
                "\r\n",
                "-- Then select the product with the lowest revenue\r\n",
                "SELECT \r\n",
                "    ProductName,\r\n",
                "    Price,\r\n",
                "    TotalQuantity,\r\n",
                "    TotalRevenue\r\n",
                "FROM ProductRevenue\r\n",
                "WHERE RevenueRank = 1;"
            ],
            "metadata": {
                "language": "sql",
                "azdata_cell_guid": "4c5dbede-098a-4f47-9988-e02477ecd2ec"
            },
            "outputs": [
                {
                    "output_type": "display_data",
                    "data": {
                        "text/html": "(9 rows affected)"
                    },
                    "metadata": {}
                },
                {
                    "output_type": "display_data",
                    "data": {
                        "text/html": "Total execution time: 00:00:01.512"
                    },
                    "metadata": {}
                },
                {
                    "output_type": "execute_result",
                    "metadata": {},
                    "execution_count": 12,
                    "data": {
                        "application/vnd.dataresource+json": {
                            "schema": {
                                "fields": [
                                    {
                                        "name": "ProductName"
                                    },
                                    {
                                        "name": "Price"
                                    },
                                    {
                                        "name": "TotalQuantity"
                                    },
                                    {
                                        "name": "TotalRevenue"
                                    }
                                ]
                            },
                            "data": [
                                {
                                    "ProductName": "Doormat Home Sweet Home Blue",
                                    "Price": "5.13",
                                    "TotalQuantity": "1",
                                    "TotalRevenue": "5.13"
                                },
                                {
                                    "ProductName": "Flower Vine Raffia Food Cover",
                                    "Price": "5.13",
                                    "TotalQuantity": "1",
                                    "TotalRevenue": "5.13"
                                },
                                {
                                    "ProductName": "Lunch Bag Woodland",
                                    "Price": "5.13",
                                    "TotalQuantity": "1",
                                    "TotalRevenue": "5.13"
                                },
                                {
                                    "ProductName": "Set Of 6 Strawberry Chopsticks",
                                    "Price": "5.13",
                                    "TotalQuantity": "1",
                                    "TotalRevenue": "5.13"
                                },
                                {
                                    "ProductName": "Round Storage Tin Vintage Leaf",
                                    "Price": "5.13",
                                    "TotalQuantity": "1",
                                    "TotalRevenue": "5.13"
                                },
                                {
                                    "ProductName": "Jumbo Bag Toys",
                                    "Price": "5.13",
                                    "TotalQuantity": "1",
                                    "TotalRevenue": "5.13"
                                },
                                {
                                    "ProductName": "Lunch Bag Vintage Leaf Design",
                                    "Price": "5.13",
                                    "TotalQuantity": "1",
                                    "TotalRevenue": "5.13"
                                },
                                {
                                    "ProductName": "Lunch Bag Suki Design",
                                    "Price": "5.13",
                                    "TotalQuantity": "1",
                                    "TotalRevenue": "5.13"
                                },
                                {
                                    "ProductName": "Set Of 6 Cake Chopsticks",
                                    "Price": "5.13",
                                    "TotalQuantity": "1",
                                    "TotalRevenue": "5.13"
                                }
                            ]
                        },
                        "text/html": [
                            "<table>",
                            "<tr><th>ProductName</th><th>Price</th><th>TotalQuantity</th><th>TotalRevenue</th></tr>",
                            "<tr><td>Doormat Home Sweet Home Blue</td><td>5.13</td><td>1</td><td>5.13</td></tr>",
                            "<tr><td>Flower Vine Raffia Food Cover</td><td>5.13</td><td>1</td><td>5.13</td></tr>",
                            "<tr><td>Lunch Bag Woodland</td><td>5.13</td><td>1</td><td>5.13</td></tr>",
                            "<tr><td>Set Of 6 Strawberry Chopsticks</td><td>5.13</td><td>1</td><td>5.13</td></tr>",
                            "<tr><td>Round Storage Tin Vintage Leaf</td><td>5.13</td><td>1</td><td>5.13</td></tr>",
                            "<tr><td>Jumbo Bag Toys</td><td>5.13</td><td>1</td><td>5.13</td></tr>",
                            "<tr><td>Lunch Bag Vintage Leaf Design</td><td>5.13</td><td>1</td><td>5.13</td></tr>",
                            "<tr><td>Lunch Bag Suki Design</td><td>5.13</td><td>1</td><td>5.13</td></tr>",
                            "<tr><td>Set Of 6 Cake Chopsticks</td><td>5.13</td><td>1</td><td>5.13</td></tr>",
                            "</table>"
                        ]
                    }
                }
            ],
            "execution_count": 12
        },
        {
            "cell_type": "markdown",
            "source": [
                "There are 9 products with the same price , same quanity and same revenue"
            ],
            "metadata": {
                "language": "sql",
                "azdata_cell_guid": "faba94b6-5b9e-4dd9-9dd0-d5a217016cca"
            },
            "attachments": {}
        },
        {
            "cell_type": "markdown",
            "source": [
                "## **3\\. Product Sales Variance Report**"
            ],
            "metadata": {
                "azdata_cell_guid": "cac70ea4-1520-4b99-ae91-00c0790cb631"
            },
            "attachments": {}
        },
        {
            "cell_type": "code",
            "source": [
                "-- CREATE PROCEDURE GetProductSalesSummary\r\n",
                "--     @Year INT = NULL,       -- Set NULL for all years\r\n",
                "--     @Month INT = NULL,      -- Set NULL for all months\r\n",
                "--     @ProductName NVARCHAR(255) = NULL -- Set NULL for all products\r\n",
                "-- AS\r\n",
                "-- BEGIN\r\n",
                "--     SET NOCOUNT ON;\r\n",
                "\r\n",
                "--     SELECT \r\n",
                "--         ProductName,\r\n",
                "--         YEAR(Date) AS YearNumber,\r\n",
                "--         MONTH(Date) AS MonthNumber,\r\n",
                "--         SUM(Quantity) AS TotalQuantity,\r\n",
                "--         SUM(Price * Quantity) AS TotalRevenue,\r\n",
                "--         AVG(SUM(Quantity)) OVER (PARTITION BY ProductName) AS AvgMonthlyQuantity,\r\n",
                "--         SUM(Quantity) - AVG(SUM(Quantity)) OVER (PARTITION BY ProductName) AS QuantityVarianceFromMean\r\n",
                "--     FROM [sale_transaction-data]\r\n",
                "--     WHERE \r\n",
                "--         (@Year IS NULL OR YEAR(Date) = @Year)  \r\n",
                "--         AND (@Month IS NULL OR MONTH(Date) = @Month)\r\n",
                "--         AND (@ProductName IS NULL OR ProductName = @ProductName)\r\n",
                "--     GROUP BY ProductName, YEAR(Date), MONTH(Date)\r\n",
                "--     HAVING SUM(Quantity) > 0  \r\n",
                "--     ORDER BY ProductName, YearNumber;\r\n",
                "-- END;\r\n",
                "\r\n",
                "--QuantityVarianceFromMean : Đo lường mức chênh lệch của tổng số lượng sản phẩm bán ra (Quantity) so với trung bình của sản phẩm đó (Mean Quantity) trong toàn bộ tập dữ liệu.\r\n",
                ""
            ],
            "metadata": {
                "azdata_cell_guid": "e72325e1-2e66-45a3-b508-9e7b504bc14f",
                "language": "sql"
            },
            "outputs": [
                {
                    "output_type": "display_data",
                    "data": {
                        "text/html": "Commands completed successfully."
                    },
                    "metadata": {}
                },
                {
                    "output_type": "display_data",
                    "data": {
                        "text/html": "Total execution time: 00:00:00.003"
                    },
                    "metadata": {}
                }
            ],
            "execution_count": 19
        },
        {
            "cell_type": "code",
            "source": [
                "EXEC GetProductSalesSummary @Year = 2019, @Month = NULL, @ProductName = '10 Colour Spaceboy Pen';"
            ],
            "metadata": {
                "azdata_cell_guid": "c57f3d4c-6f37-4ca6-b516-d7f675a2da83",
                "language": "sql"
            },
            "outputs": [
                {
                    "output_type": "display_data",
                    "data": {
                        "text/html": "Commands completed successfully."
                    },
                    "metadata": {}
                },
                {
                    "output_type": "display_data",
                    "data": {
                        "text/html": "Total execution time: 00:00:00.198"
                    },
                    "metadata": {}
                },
                {
                    "output_type": "execute_result",
                    "metadata": {},
                    "execution_count": 22,
                    "data": {
                        "application/vnd.dataresource+json": {
                            "schema": {
                                "fields": [
                                    {
                                        "name": "ProductName"
                                    },
                                    {
                                        "name": "YearNumber"
                                    },
                                    {
                                        "name": "MonthNumber"
                                    },
                                    {
                                        "name": "TotalQuantity"
                                    },
                                    {
                                        "name": "TotalRevenue"
                                    },
                                    {
                                        "name": "AvgMonthlyQuantity"
                                    },
                                    {
                                        "name": "QuantityVarianceFromMean"
                                    }
                                ]
                            },
                            "data": [
                                {
                                    "ProductName": "10 Colour Spaceboy Pen",
                                    "YearNumber": "2019",
                                    "MonthNumber": "6",
                                    "TotalQuantity": "691",
                                    "TotalRevenue": "7672.55",
                                    "AvgMonthlyQuantity": "498.416666",
                                    "QuantityVarianceFromMean": "193"
                                },
                                {
                                    "ProductName": "10 Colour Spaceboy Pen",
                                    "YearNumber": "2019",
                                    "MonthNumber": "3",
                                    "TotalQuantity": "409",
                                    "TotalRevenue": "4548.88",
                                    "AvgMonthlyQuantity": "498.416666",
                                    "QuantityVarianceFromMean": "-89"
                                },
                                {
                                    "ProductName": "10 Colour Spaceboy Pen",
                                    "YearNumber": "2019",
                                    "MonthNumber": "12",
                                    "TotalQuantity": "110",
                                    "TotalRevenue": "695.36",
                                    "AvgMonthlyQuantity": "498.416666",
                                    "QuantityVarianceFromMean": "-388"
                                },
                                {
                                    "ProductName": "10 Colour Spaceboy Pen",
                                    "YearNumber": "2019",
                                    "MonthNumber": "9",
                                    "TotalQuantity": "578",
                                    "TotalRevenue": "6415.84",
                                    "AvgMonthlyQuantity": "498.416666",
                                    "QuantityVarianceFromMean": "80"
                                },
                                {
                                    "ProductName": "10 Colour Spaceboy Pen",
                                    "YearNumber": "2019",
                                    "MonthNumber": "11",
                                    "TotalQuantity": "805",
                                    "TotalRevenue": "8406.77",
                                    "AvgMonthlyQuantity": "498.416666",
                                    "QuantityVarianceFromMean": "307"
                                },
                                {
                                    "ProductName": "10 Colour Spaceboy Pen",
                                    "YearNumber": "2019",
                                    "MonthNumber": "8",
                                    "TotalQuantity": "614",
                                    "TotalRevenue": "6791.04",
                                    "AvgMonthlyQuantity": "498.416666",
                                    "QuantityVarianceFromMean": "116"
                                },
                                {
                                    "ProductName": "10 Colour Spaceboy Pen",
                                    "YearNumber": "2019",
                                    "MonthNumber": "2",
                                    "TotalQuantity": "247",
                                    "TotalRevenue": "2751.44",
                                    "AvgMonthlyQuantity": "498.416666",
                                    "QuantityVarianceFromMean": "-251"
                                },
                                {
                                    "ProductName": "10 Colour Spaceboy Pen",
                                    "YearNumber": "2019",
                                    "MonthNumber": "5",
                                    "TotalQuantity": "636",
                                    "TotalRevenue": "7053.60",
                                    "AvgMonthlyQuantity": "498.416666",
                                    "QuantityVarianceFromMean": "138"
                                },
                                {
                                    "ProductName": "10 Colour Spaceboy Pen",
                                    "YearNumber": "2019",
                                    "MonthNumber": "10",
                                    "TotalQuantity": "839",
                                    "TotalRevenue": "9328.56",
                                    "AvgMonthlyQuantity": "498.416666",
                                    "QuantityVarianceFromMean": "341"
                                },
                                {
                                    "ProductName": "10 Colour Spaceboy Pen",
                                    "YearNumber": "2019",
                                    "MonthNumber": "4",
                                    "TotalQuantity": "297",
                                    "TotalRevenue": "3329.89",
                                    "AvgMonthlyQuantity": "498.416666",
                                    "QuantityVarianceFromMean": "-201"
                                },
                                {
                                    "ProductName": "10 Colour Spaceboy Pen",
                                    "YearNumber": "2019",
                                    "MonthNumber": "7",
                                    "TotalQuantity": "471",
                                    "TotalRevenue": "5222.80",
                                    "AvgMonthlyQuantity": "498.416666",
                                    "QuantityVarianceFromMean": "-27"
                                },
                                {
                                    "ProductName": "10 Colour Spaceboy Pen",
                                    "YearNumber": "2019",
                                    "MonthNumber": "1",
                                    "TotalQuantity": "284",
                                    "TotalRevenue": "3164.54",
                                    "AvgMonthlyQuantity": "498.416666",
                                    "QuantityVarianceFromMean": "-214"
                                }
                            ]
                        },
                        "text/html": [
                            "<table>",
                            "<tr><th>ProductName</th><th>YearNumber</th><th>MonthNumber</th><th>TotalQuantity</th><th>TotalRevenue</th><th>AvgMonthlyQuantity</th><th>QuantityVarianceFromMean</th></tr>",
                            "<tr><td>10 Colour Spaceboy Pen</td><td>2019</td><td>6</td><td>691</td><td>7672.55</td><td>498.416666</td><td>193</td></tr>",
                            "<tr><td>10 Colour Spaceboy Pen</td><td>2019</td><td>3</td><td>409</td><td>4548.88</td><td>498.416666</td><td>-89</td></tr>",
                            "<tr><td>10 Colour Spaceboy Pen</td><td>2019</td><td>12</td><td>110</td><td>695.36</td><td>498.416666</td><td>-388</td></tr>",
                            "<tr><td>10 Colour Spaceboy Pen</td><td>2019</td><td>9</td><td>578</td><td>6415.84</td><td>498.416666</td><td>80</td></tr>",
                            "<tr><td>10 Colour Spaceboy Pen</td><td>2019</td><td>11</td><td>805</td><td>8406.77</td><td>498.416666</td><td>307</td></tr>",
                            "<tr><td>10 Colour Spaceboy Pen</td><td>2019</td><td>8</td><td>614</td><td>6791.04</td><td>498.416666</td><td>116</td></tr>",
                            "<tr><td>10 Colour Spaceboy Pen</td><td>2019</td><td>2</td><td>247</td><td>2751.44</td><td>498.416666</td><td>-251</td></tr>",
                            "<tr><td>10 Colour Spaceboy Pen</td><td>2019</td><td>5</td><td>636</td><td>7053.60</td><td>498.416666</td><td>138</td></tr>",
                            "<tr><td>10 Colour Spaceboy Pen</td><td>2019</td><td>10</td><td>839</td><td>9328.56</td><td>498.416666</td><td>341</td></tr>",
                            "<tr><td>10 Colour Spaceboy Pen</td><td>2019</td><td>4</td><td>297</td><td>3329.89</td><td>498.416666</td><td>-201</td></tr>",
                            "<tr><td>10 Colour Spaceboy Pen</td><td>2019</td><td>7</td><td>471</td><td>5222.80</td><td>498.416666</td><td>-27</td></tr>",
                            "<tr><td>10 Colour Spaceboy Pen</td><td>2019</td><td>1</td><td>284</td><td>3164.54</td><td>498.416666</td><td>-214</td></tr>",
                            "</table>"
                        ]
                    }
                }
            ],
            "execution_count": 22
        },
        {
            "cell_type": "markdown",
            "source": [
                "- **🔼 Highest Sales:**\n",
                "    - October: 839 units → 341 units above average.\n",
                "    - November: 805 units → 307 units above average.\n",
                "- **🔽 Lowest Sales:**\n",
                "    - December: 110 units → 388 units below average.\n",
                "    - February: 247 units → 251 units below average.\n",
                "- Highest revenue in October ($9,328.56) and November ($8,406.77).\n",
                "- Lowest revenue in December ($695.36), indicating a sharp decline in sales."
            ],
            "metadata": {
                "azdata_cell_guid": "4a055b89-7642-42ce-807a-94fb0875beda"
            },
            "attachments": {}
        }
    ]
}