{
    "metadata": {
        "kernelspec": {
            "name": "SQL",
            "display_name": "SQL",
            "language": "sql"
        },
        "language_info": {
            "name": "sql",
            "version": ""
        }
    },
    "nbformat_minor": 2,
    "nbformat": 4,
    "cells": [
        {
            "cell_type": "markdown",
            "source": [
                "## **1\\. What is the customer distribution across different countries ?**"
            ],
            "metadata": {
                "azdata_cell_guid": "010fce4f-222f-436e-9fad-af7742b13c0f"
            },
            "attachments": {}
        },
        {
            "cell_type": "code",
            "source": [
                "SELECT Country, count(DISTINCT CustomerNo) as Customercount\r\n",
                "FROM [sale_transaction-data]\r\n",
                "group by Country\r\n",
                "order by  Customercount desc"
            ],
            "metadata": {
                "azdata_cell_guid": "9bdb8271-1b2a-42d6-9026-4523960ee0be",
                "language": "sql",
                "tags": []
            },
            "outputs": [
                {
                    "output_type": "display_data",
                    "data": {
                        "text/html": "(38 rows affected)"
                    },
                    "metadata": {}
                },
                {
                    "output_type": "display_data",
                    "data": {
                        "text/html": "Total execution time: 00:00:00.609"
                    },
                    "metadata": {}
                },
                {
                    "output_type": "execute_result",
                    "execution_count": 4,
                    "data": {
                        "application/vnd.dataresource+json": {
                            "schema": {
                                "fields": [
                                    {
                                        "name": "Country"
                                    },
                                    {
                                        "name": "Customercount"
                                    }
                                ]
                            },
                            "data": [
                                {
                                    "Country": "United Kingdom",
                                    "Customercount": "4305"
                                },
                                {
                                    "Country": "Germany",
                                    "Customercount": "91"
                                },
                                {
                                    "Country": "France",
                                    "Customercount": "87"
                                },
                                {
                                    "Country": "Spain",
                                    "Customercount": "23"
                                },
                                {
                                    "Country": "Belgium",
                                    "Customercount": "22"
                                },
                                {
                                    "Country": "Switzerland",
                                    "Customercount": "21"
                                },
                                {
                                    "Country": "Portugal",
                                    "Customercount": "18"
                                },
                                {
                                    "Country": "EIRE",
                                    "Customercount": "13"
                                },
                                {
                                    "Country": "Italy",
                                    "Customercount": "12"
                                },
                                {
                                    "Country": "Finland",
                                    "Customercount": "12"
                                },
                                {
                                    "Country": "Netherlands",
                                    "Customercount": "9"
                                },
                                {
                                    "Country": "Australia",
                                    "Customercount": "9"
                                },
                                {
                                    "Country": "Denmark",
                                    "Customercount": "9"
                                },
                                {
                                    "Country": "Japan",
                                    "Customercount": "8"
                                },
                                {
                                    "Country": "Norway",
                                    "Customercount": "8"
                                },
                                {
                                    "Country": "Unspecified",
                                    "Customercount": "7"
                                },
                                {
                                    "Country": "Channel Islands",
                                    "Customercount": "7"
                                },
                                {
                                    "Country": "Sweden",
                                    "Customercount": "7"
                                },
                                {
                                    "Country": "Cyprus",
                                    "Customercount": "6"
                                },
                                {
                                    "Country": "Austria",
                                    "Customercount": "6"
                                },
                                {
                                    "Country": "Poland",
                                    "Customercount": "5"
                                },
                                {
                                    "Country": "Hong Kong",
                                    "Customercount": "4"
                                },
                                {
                                    "Country": "Canada",
                                    "Customercount": "4"
                                },
                                {
                                    "Country": "USA",
                                    "Customercount": "4"
                                },
                                {
                                    "Country": "Israel",
                                    "Customercount": "4"
                                },
                                {
                                    "Country": "Malta",
                                    "Customercount": "2"
                                },
                                {
                                    "Country": "Bahrain",
                                    "Customercount": "2"
                                },
                                {
                                    "Country": "United Arab Emirates",
                                    "Customercount": "2"
                                },
                                {
                                    "Country": "Greece",
                                    "Customercount": "2"
                                },
                                {
                                    "Country": "Singapore",
                                    "Customercount": "1"
                                },
                                {
                                    "Country": "RSA",
                                    "Customercount": "1"
                                },
                                {
                                    "Country": "Czech Republic",
                                    "Customercount": "1"
                                },
                                {
                                    "Country": "Lithuania",
                                    "Customercount": "1"
                                },
                                {
                                    "Country": "Brazil",
                                    "Customercount": "1"
                                },
                                {
                                    "Country": "European Community",
                                    "Customercount": "1"
                                },
                                {
                                    "Country": "Iceland",
                                    "Customercount": "1"
                                },
                                {
                                    "Country": "Lebanon",
                                    "Customercount": "1"
                                },
                                {
                                    "Country": "Saudi Arabia",
                                    "Customercount": "1"
                                }
                            ]
                        },
                        "text/html": "<table><tr><th>Country</th><th>Customercount</th></tr><tr><td>United Kingdom</td><td>4305</td></tr><tr><td>Germany</td><td>91</td></tr><tr><td>France</td><td>87</td></tr><tr><td>Spain</td><td>23</td></tr><tr><td>Belgium</td><td>22</td></tr><tr><td>Switzerland</td><td>21</td></tr><tr><td>Portugal</td><td>18</td></tr><tr><td>EIRE</td><td>13</td></tr><tr><td>Italy</td><td>12</td></tr><tr><td>Finland</td><td>12</td></tr><tr><td>Netherlands</td><td>9</td></tr><tr><td>Australia</td><td>9</td></tr><tr><td>Denmark</td><td>9</td></tr><tr><td>Japan</td><td>8</td></tr><tr><td>Norway</td><td>8</td></tr><tr><td>Unspecified</td><td>7</td></tr><tr><td>Channel Islands</td><td>7</td></tr><tr><td>Sweden</td><td>7</td></tr><tr><td>Cyprus</td><td>6</td></tr><tr><td>Austria</td><td>6</td></tr><tr><td>Poland</td><td>5</td></tr><tr><td>Hong Kong</td><td>4</td></tr><tr><td>Canada</td><td>4</td></tr><tr><td>USA</td><td>4</td></tr><tr><td>Israel</td><td>4</td></tr><tr><td>Malta</td><td>2</td></tr><tr><td>Bahrain</td><td>2</td></tr><tr><td>United Arab Emirates</td><td>2</td></tr><tr><td>Greece</td><td>2</td></tr><tr><td>Singapore</td><td>1</td></tr><tr><td>RSA</td><td>1</td></tr><tr><td>Czech Republic</td><td>1</td></tr><tr><td>Lithuania</td><td>1</td></tr><tr><td>Brazil</td><td>1</td></tr><tr><td>European Community</td><td>1</td></tr><tr><td>Iceland</td><td>1</td></tr><tr><td>Lebanon</td><td>1</td></tr><tr><td>Saudi Arabia</td><td>1</td></tr></table>"
                    },
                    "metadata": {}
                }
            ],
            "execution_count": 4
        },
        {
            "cell_type": "markdown",
            "source": [
                "## **2\\. Customer transactions by country**"
            ],
            "metadata": {
                "azdata_cell_guid": "c8b36749-79d6-4c6c-82f8-d3dd80a1b27d"
            },
            "attachments": {}
        },
        {
            "cell_type": "code",
            "source": [
                "-- More detailed analysis including sales metrics\r\n",
                "SELECT TOP 10 \r\n",
                "    Country,\r\n",
                "    COUNT(DISTINCT CustomerNo) AS customer_count,\r\n",
                "    FORMAT(SUM(Quantity * Price), 'N2') AS total_sales,\r\n",
                "    FORMAT(SUM(Quantity * Price) / NULLIF(COUNT(DISTINCT CustomerNo), 0), 'N2') AS avg_sales_per_customer\r\n",
                "FROM [sale_transaction-data]\r\n",
                "GROUP BY Country\r\n",
                "ORDER BY SUM(Quantity * Price) DESC;\r\n",
                "\r\n",
                "-- FORMAT(SUM(Quantity * Price), 'N2') biến số thành chuỗi, làm ORDER BY không hoạt động đúng.\r\n",
                "-- Thay vì ORDER BY total_sales DESC, ta sắp xếp theo SUM(Quantity * Price) DESC để giữ nguyên kiểu dữ liệu số.\r\n",
                ""
            ],
            "metadata": {
                "azdata_cell_guid": "247de06e-7a10-4445-b237-285243e205dd",
                "language": "sql"
            },
            "outputs": [
                {
                    "output_type": "display_data",
                    "data": {
                        "text/html": "(10 rows affected)"
                    },
                    "metadata": {}
                },
                {
                    "output_type": "display_data",
                    "data": {
                        "text/html": "Total execution time: 00:00:00.797"
                    },
                    "metadata": {}
                },
                {
                    "output_type": "execute_result",
                    "execution_count": 54,
                    "data": {
                        "application/vnd.dataresource+json": {
                            "schema": {
                                "fields": [
                                    {
                                        "name": "Country"
                                    },
                                    {
                                        "name": "customer_count"
                                    },
                                    {
                                        "name": "total_sales"
                                    },
                                    {
                                        "name": "avg_sales_per_customer"
                                    }
                                ]
                            },
                            "data": [
                                {
                                    "Country": "United Kingdom",
                                    "customer_count": "4305",
                                    "total_sales": "52,524,576.47",
                                    "avg_sales_per_customer": "12,200.83"
                                },
                                {
                                    "Country": "Netherlands",
                                    "customer_count": "9",
                                    "total_sales": "2,151,553.59",
                                    "avg_sales_per_customer": "239,061.51"
                                },
                                {
                                    "Country": "EIRE",
                                    "customer_count": "13",
                                    "total_sales": "1,713,410.95",
                                    "avg_sales_per_customer": "131,800.84"
                                },
                                {
                                    "Country": "Germany",
                                    "customer_count": "91",
                                    "total_sales": "1,371,543.27",
                                    "avg_sales_per_customer": "15,071.90"
                                },
                                {
                                    "Country": "France",
                                    "customer_count": "87",
                                    "total_sales": "1,330,652.89",
                                    "avg_sales_per_customer": "15,294.86"
                                },
                                {
                                    "Country": "Australia",
                                    "customer_count": "9",
                                    "total_sales": "995,607.91",
                                    "avg_sales_per_customer": "110,623.10"
                                },
                                {
                                    "Country": "Sweden",
                                    "customer_count": "7",
                                    "total_sales": "401,879.89",
                                    "avg_sales_per_customer": "57,411.41"
                                },
                                {
                                    "Country": "Switzerland",
                                    "customer_count": "21",
                                    "total_sales": "361,969.25",
                                    "avg_sales_per_customer": "17,236.63"
                                },
                                {
                                    "Country": "Japan",
                                    "customer_count": "8",
                                    "total_sales": "293,155.44",
                                    "avg_sales_per_customer": "36,644.43"
                                },
                                {
                                    "Country": "Spain",
                                    "customer_count": "23",
                                    "total_sales": "281,012.27",
                                    "avg_sales_per_customer": "12,217.92"
                                }
                            ]
                        },
                        "text/html": "<table><tr><th>Country</th><th>customer_count</th><th>total_sales</th><th>avg_sales_per_customer</th></tr><tr><td>United Kingdom</td><td>4305</td><td>52,524,576.47</td><td>12,200.83</td></tr><tr><td>Netherlands</td><td>9</td><td>2,151,553.59</td><td>239,061.51</td></tr><tr><td>EIRE</td><td>13</td><td>1,713,410.95</td><td>131,800.84</td></tr><tr><td>Germany</td><td>91</td><td>1,371,543.27</td><td>15,071.90</td></tr><tr><td>France</td><td>87</td><td>1,330,652.89</td><td>15,294.86</td></tr><tr><td>Australia</td><td>9</td><td>995,607.91</td><td>110,623.10</td></tr><tr><td>Sweden</td><td>7</td><td>401,879.89</td><td>57,411.41</td></tr><tr><td>Switzerland</td><td>21</td><td>361,969.25</td><td>17,236.63</td></tr><tr><td>Japan</td><td>8</td><td>293,155.44</td><td>36,644.43</td></tr><tr><td>Spain</td><td>23</td><td>281,012.27</td><td>12,217.92</td></tr></table>"
                    },
                    "metadata": {}
                }
            ],
            "execution_count": 54
        },
        {
            "cell_type": "markdown",
            "source": [
                "- The UK is the **largest market** in volume but has a **lower average spend per customer**.\n",
                "- The Netherlands and Australia have **high-value customers** despite a **low customer count**.\n",
                "- France and Germany have a **strong balance** between customers and sales.\n",
                "- Smaller markets (Sweden, Switzerland, Japan, and Spain) still contribute significantly in terms of **average transaction value**."
            ],
            "metadata": {
                "azdata_cell_guid": "820fb430-6f0b-4aaf-b8da-a2e82a6ae0dd"
            },
            "attachments": {}
        },
        {
            "cell_type": "markdown",
            "source": [
                "## **3. What is the distribution of customer types (one-time, moderate, frequent) in the top 10 countries by total customers?**\n",
                "\n",
                "- If transaction\\_count per customer = 1 =\\> one time customers\n",
                "- If transaction\\_count between 2 and 5 =\\> moderate\\_customers\n",
                "- If transaction\\_count \\> 5 =\\> frequent\\_customers"
            ],
            "metadata": {
                "azdata_cell_guid": "ae2c66ed-a437-4d66-b095-6bd1b65e978f"
            },
            "attachments": {}
        },
        {
            "cell_type": "code",
            "source": [
                "WITH CustomerTransactions AS (\r\n",
                "    SELECT \r\n",
                "        CustomerNo,\r\n",
                "        Country,\r\n",
                "        COUNT(DISTINCT TransactionNo) AS transaction_count\r\n",
                "    FROM [sale_transaction-data]\r\n",
                "    GROUP BY CustomerNo, Country\r\n",
                ")\r\n",
                "SELECT TOP 10 \r\n",
                "    Country,\r\n",
                "    COUNT(CustomerNo) AS total_customers,\r\n",
                "    SUM(CASE WHEN transaction_count = 1 THEN 1 ELSE 0 END) AS one_time_customers,\r\n",
                "    SUM(CASE WHEN transaction_count BETWEEN 2 AND 5 THEN 1 ELSE 0 END) AS moderate_customers,\r\n",
                "    SUM(CASE WHEN transaction_count > 5 THEN 1 ELSE 0 END) AS frequent_customers,\r\n",
                "    -- Percentage calculations\r\n",
                "    FORMAT(100.0 * SUM(CASE WHEN transaction_count = 1 THEN 1 ELSE 0 END) / COUNT(CustomerNo), 'N2') + '%' AS pct_one_time_customers,\r\n",
                "    FORMAT(100.0 * SUM(CASE WHEN transaction_count BETWEEN 2 AND 5 THEN 1 ELSE 0 END) / COUNT(CustomerNo), 'N2') + '%' AS pct_moderate_customers,\r\n",
                "    FORMAT(100.0 * SUM(CASE WHEN transaction_count > 5 THEN 1 ELSE 0 END) / COUNT(CustomerNo), 'N2') + '%' AS pct_frequent_customers\r\n",
                "FROM CustomerTransactions\r\n",
                "GROUP BY Country\r\n",
                "ORDER BY total_customers DESC;\r\n",
                ""
            ],
            "metadata": {
                "azdata_cell_guid": "426e7ed6-64f8-4f56-9c27-437b962118a7",
                "language": "sql",
                "tags": []
            },
            "outputs": [
                {
                    "output_type": "display_data",
                    "data": {
                        "text/html": "(10 rows affected)"
                    },
                    "metadata": {}
                },
                {
                    "output_type": "display_data",
                    "data": {
                        "text/html": "Total execution time: 00:00:00.851"
                    },
                    "metadata": {}
                },
                {
                    "output_type": "execute_result",
                    "execution_count": 56,
                    "data": {
                        "application/vnd.dataresource+json": {
                            "schema": {
                                "fields": [
                                    {
                                        "name": "Country"
                                    },
                                    {
                                        "name": "total_customers"
                                    },
                                    {
                                        "name": "one_time_customers"
                                    },
                                    {
                                        "name": "moderate_customers"
                                    },
                                    {
                                        "name": "frequent_customers"
                                    },
                                    {
                                        "name": "pct_one_time_customers"
                                    },
                                    {
                                        "name": "pct_moderate_customers"
                                    },
                                    {
                                        "name": "pct_frequent_customers"
                                    }
                                ]
                            },
                            "data": [
                                {
                                    "Country": "United Kingdom",
                                    "total_customers": "4305",
                                    "one_time_customers": "1440",
                                    "moderate_customers": "2012",
                                    "frequent_customers": "853",
                                    "pct_one_time_customers": "33.45%",
                                    "pct_moderate_customers": "46.74%",
                                    "pct_frequent_customers": "19.81%"
                                },
                                {
                                    "Country": "Germany",
                                    "total_customers": "91",
                                    "one_time_customers": "24",
                                    "moderate_customers": "44",
                                    "frequent_customers": "23",
                                    "pct_one_time_customers": "26.37%",
                                    "pct_moderate_customers": "48.35%",
                                    "pct_frequent_customers": "25.27%"
                                },
                                {
                                    "Country": "France",
                                    "total_customers": "87",
                                    "one_time_customers": "22",
                                    "moderate_customers": "40",
                                    "frequent_customers": "25",
                                    "pct_one_time_customers": "25.29%",
                                    "pct_moderate_customers": "45.98%",
                                    "pct_frequent_customers": "28.74%"
                                },
                                {
                                    "Country": "Spain",
                                    "total_customers": "23",
                                    "one_time_customers": "7",
                                    "moderate_customers": "14",
                                    "frequent_customers": "2",
                                    "pct_one_time_customers": "30.43%",
                                    "pct_moderate_customers": "60.87%",
                                    "pct_frequent_customers": "8.70%"
                                },
                                {
                                    "Country": "Belgium",
                                    "total_customers": "22",
                                    "one_time_customers": "6",
                                    "moderate_customers": "11",
                                    "frequent_customers": "5",
                                    "pct_one_time_customers": "27.27%",
                                    "pct_moderate_customers": "50.00%",
                                    "pct_frequent_customers": "22.73%"
                                },
                                {
                                    "Country": "Switzerland",
                                    "total_customers": "21",
                                    "one_time_customers": "8",
                                    "moderate_customers": "10",
                                    "frequent_customers": "3",
                                    "pct_one_time_customers": "38.10%",
                                    "pct_moderate_customers": "47.62%",
                                    "pct_frequent_customers": "14.29%"
                                },
                                {
                                    "Country": "Portugal",
                                    "total_customers": "18",
                                    "one_time_customers": "7",
                                    "moderate_customers": "9",
                                    "frequent_customers": "2",
                                    "pct_one_time_customers": "38.89%",
                                    "pct_moderate_customers": "50.00%",
                                    "pct_frequent_customers": "11.11%"
                                },
                                {
                                    "Country": "EIRE",
                                    "total_customers": "13",
                                    "one_time_customers": "5",
                                    "moderate_customers": "6",
                                    "frequent_customers": "2",
                                    "pct_one_time_customers": "38.46%",
                                    "pct_moderate_customers": "46.15%",
                                    "pct_frequent_customers": "15.38%"
                                },
                                {
                                    "Country": "Italy",
                                    "total_customers": "12",
                                    "one_time_customers": "8",
                                    "moderate_customers": "2",
                                    "frequent_customers": "2",
                                    "pct_one_time_customers": "66.67%",
                                    "pct_moderate_customers": "16.67%",
                                    "pct_frequent_customers": "16.67%"
                                },
                                {
                                    "Country": "Finland",
                                    "total_customers": "12",
                                    "one_time_customers": "5",
                                    "moderate_customers": "4",
                                    "frequent_customers": "3",
                                    "pct_one_time_customers": "41.67%",
                                    "pct_moderate_customers": "33.33%",
                                    "pct_frequent_customers": "25.00%"
                                }
                            ]
                        },
                        "text/html": "<table><tr><th>Country</th><th>total_customers</th><th>one_time_customers</th><th>moderate_customers</th><th>frequent_customers</th><th>pct_one_time_customers</th><th>pct_moderate_customers</th><th>pct_frequent_customers</th></tr><tr><td>United Kingdom</td><td>4305</td><td>1440</td><td>2012</td><td>853</td><td>33.45%</td><td>46.74%</td><td>19.81%</td></tr><tr><td>Germany</td><td>91</td><td>24</td><td>44</td><td>23</td><td>26.37%</td><td>48.35%</td><td>25.27%</td></tr><tr><td>France</td><td>87</td><td>22</td><td>40</td><td>25</td><td>25.29%</td><td>45.98%</td><td>28.74%</td></tr><tr><td>Spain</td><td>23</td><td>7</td><td>14</td><td>2</td><td>30.43%</td><td>60.87%</td><td>8.70%</td></tr><tr><td>Belgium</td><td>22</td><td>6</td><td>11</td><td>5</td><td>27.27%</td><td>50.00%</td><td>22.73%</td></tr><tr><td>Switzerland</td><td>21</td><td>8</td><td>10</td><td>3</td><td>38.10%</td><td>47.62%</td><td>14.29%</td></tr><tr><td>Portugal</td><td>18</td><td>7</td><td>9</td><td>2</td><td>38.89%</td><td>50.00%</td><td>11.11%</td></tr><tr><td>EIRE</td><td>13</td><td>5</td><td>6</td><td>2</td><td>38.46%</td><td>46.15%</td><td>15.38%</td></tr><tr><td>Italy</td><td>12</td><td>8</td><td>2</td><td>2</td><td>66.67%</td><td>16.67%</td><td>16.67%</td></tr><tr><td>Finland</td><td>12</td><td>5</td><td>4</td><td>3</td><td>41.67%</td><td>33.33%</td><td>25.00%</td></tr></table>"
                    },
                    "metadata": {}
                }
            ],
            "execution_count": 56
        },
        {
            "cell_type": "markdown",
            "source": [
                "## **4\\. How can I retrieve the top or bottom N customers based on total orders or total spending, with the ability to sort by any metric and handle NULL inputs dynamically?**\n",
                "\n",
                "The name of the procedure is: GetCustomerRanking\n",
                "\n",
                "This procedure is designed to rank customers based on their purchasing behavior, allowing dynamic selection of:\n",
                "\n",
                "- Top N customers\n",
                "- Bottom N customers\n",
                "- Sorting by any key metric (total orders, total spent, etc.)\n",
                "- Handling NULL values (show all customers if no filters are applied)\n",
                "- Dynamically filters by year & month (if NULL, fetches all data)"
            ],
            "metadata": {
                "azdata_cell_guid": "478fdf3c-d888-4916-a564-4fd96d3b0c01"
            },
            "attachments": {}
        },
        {
            "cell_type": "code",
            "source": [
                "CREATE PROCEDURE GetCustomerRanking\r\n",
                "    @TopN INT = NULL,          -- Number of top customers (NULL = all)\r\n",
                "    @BottomN INT = NULL,       -- Number of bottom customers (NULL = all)\r\n",
                "    @OrderBy NVARCHAR(50) = NULL, -- Column to sort by (NULL = no sorting)\r\n",
                "    @Year INT = NULL,          -- Year filter (NULL = all years)\r\n",
                "    @Month INT = NULL          -- Month filter (NULL = all months)\r\n",
                "AS\r\n",
                "BEGIN\r\n",
                "    SET NOCOUNT ON;\r\n",
                "\r\n",
                "    -- Common Table Expression (CTE) to calculate customer metrics\r\n",
                "    WITH CustomerOrders AS (\r\n",
                "        SELECT \r\n",
                "            CustomerNo,\r\n",
                "            TransactionNo,\r\n",
                "            SUM(Quantity * Price) AS order_value,\r\n",
                "            YEAR(Date) AS order_year,\r\n",
                "            MONTH(Date) AS order_month\r\n",
                "        FROM [sale_transaction-data]\r\n",
                "        WHERE \r\n",
                "            (@Year IS NULL OR YEAR(Date) = @Year)  -- Filter by year\r\n",
                "            AND (@Month IS NULL OR MONTH(Date) = @Month)  -- Filter by month\r\n",
                "        GROUP BY CustomerNo, TransactionNo, YEAR(Date), MONTH(Date)\r\n",
                "    ),\r\n",
                "    RankedCustomers AS (\r\n",
                "        SELECT \r\n",
                "            CustomerNo,\r\n",
                "            COUNT(TransactionNo) AS total_orders,\r\n",
                "            ROUND(AVG(order_value), 2) AS avg_order_value,\r\n",
                "            ROUND(MIN(order_value), 2) AS min_order_value,\r\n",
                "            ROUND(MAX(order_value), 2) AS max_order_value,\r\n",
                "            ROUND(SUM(order_value), 2) AS total_spent,\r\n",
                "            ROW_NUMBER() OVER (\r\n",
                "                ORDER BY \r\n",
                "                    CASE \r\n",
                "                        WHEN @OrderBy = 'total_orders' THEN COUNT(TransactionNo) \r\n",
                "                        WHEN @OrderBy = 'total_spent' THEN SUM(order_value) \r\n",
                "                        WHEN @OrderBy = 'avg_order_value' THEN AVG(order_value)\r\n",
                "                        WHEN @OrderBy = 'min_order_value' THEN MIN(order_value)\r\n",
                "                        WHEN @OrderBy = 'max_order_value' THEN MAX(order_value)\r\n",
                "                        ELSE NULL \r\n",
                "                    END DESC\r\n",
                "            ) AS rank_top,\r\n",
                "            ROW_NUMBER() OVER (\r\n",
                "                ORDER BY \r\n",
                "                    CASE \r\n",
                "                        WHEN @OrderBy = 'total_orders' THEN COUNT(TransactionNo) \r\n",
                "                        WHEN @OrderBy = 'total_spent' THEN SUM(order_value) \r\n",
                "                        WHEN @OrderBy = 'avg_order_value' THEN AVG(order_value)\r\n",
                "                        WHEN @OrderBy = 'min_order_value' THEN MIN(order_value)\r\n",
                "                        WHEN @OrderBy = 'max_order_value' THEN MAX(order_value)\r\n",
                "                        ELSE NULL \r\n",
                "                    END ASC\r\n",
                "            ) AS rank_bottom\r\n",
                "        FROM CustomerOrders\r\n",
                "        GROUP BY CustomerNo\r\n",
                "    )\r\n",
                "    SELECT \r\n",
                "        CustomerNo,\r\n",
                "        total_orders,\r\n",
                "        avg_order_value,\r\n",
                "        min_order_value,\r\n",
                "        max_order_value,\r\n",
                "        total_spent\r\n",
                "    FROM RankedCustomers\r\n",
                "    WHERE \r\n",
                "        -- Get Top N Customers\r\n",
                "        (@TopN IS NOT NULL AND rank_top <= @TopN)\r\n",
                "        OR\r\n",
                "        -- Get Bottom N Customers\r\n",
                "        (@BottomN IS NOT NULL AND rank_bottom <= @BottomN)\r\n",
                "        OR\r\n",
                "        -- Get All Customers If No Limits Are Set\r\n",
                "        (@TopN IS NULL AND @BottomN IS NULL)\r\n",
                "    ORDER BY \r\n",
                "        CASE \r\n",
                "            WHEN @OrderBy = 'total_orders' THEN total_orders \r\n",
                "            WHEN @OrderBy = 'total_spent' THEN total_spent \r\n",
                "            WHEN @OrderBy = 'avg_order_value' THEN avg_order_value\r\n",
                "            WHEN @OrderBy = 'min_order_value' THEN min_order_value\r\n",
                "            WHEN @OrderBy = 'max_order_value' THEN max_order_value\r\n",
                "            ELSE NULL \r\n",
                "        END DESC;\r\n",
                "END;\r\n",
                ""
            ],
            "metadata": {
                "azdata_cell_guid": "d9049ce8-b2c5-4e76-b80c-5ce52d94b274",
                "language": "sql",
                "tags": []
            },
            "outputs": [
                {
                    "output_type": "display_data",
                    "data": {
                        "text/html": "Commands completed successfully."
                    },
                    "metadata": {}
                },
                {
                    "output_type": "display_data",
                    "data": {
                        "text/html": "Total execution time: 00:00:00.013"
                    },
                    "metadata": {}
                }
            ],
            "execution_count": 28
        },
        {
            "cell_type": "code",
            "source": [
                "EXEC GetCustomerRanking @TopN = 10, @BottomN = NULL, @OrderBy = 'total_orders', @Year = 2019, @Month = NULL;\r\n",
                ""
            ],
            "metadata": {
                "azdata_cell_guid": "d59e5e84-cfd6-4fd1-94a1-98ccf53c9712",
                "language": "sql"
            },
            "outputs": [
                {
                    "output_type": "display_data",
                    "data": {
                        "text/html": "Commands completed successfully."
                    },
                    "metadata": {}
                },
                {
                    "output_type": "display_data",
                    "data": {
                        "text/html": "Total execution time: 00:00:00.744"
                    },
                    "metadata": {}
                },
                {
                    "output_type": "execute_result",
                    "execution_count": 31,
                    "data": {
                        "application/vnd.dataresource+json": {
                            "schema": {
                                "fields": [
                                    {
                                        "name": "CustomerNo"
                                    },
                                    {
                                        "name": "total_orders"
                                    },
                                    {
                                        "name": "avg_order_value"
                                    },
                                    {
                                        "name": "min_order_value"
                                    },
                                    {
                                        "name": "max_order_value"
                                    },
                                    {
                                        "name": "total_spent"
                                    }
                                ]
                            },
                            "data": [
                                {
                                    "CustomerNo": "149110",
                                    "total_orders": "185",
                                    "avg_order_value": "4719.670000",
                                    "min_order_value": "11.74",
                                    "max_order_value": "48595.51",
                                    "total_spent": "873138.52"
                                },
                                {
                                    "CustomerNo": "127480",
                                    "total_orders": "171",
                                    "avg_order_value": "1393.770000",
                                    "min_order_value": "6.19",
                                    "max_order_value": "17795.00",
                                    "total_spent": "238334.12"
                                },
                                {
                                    "CustomerNo": "178410",
                                    "total_orders": "119",
                                    "avg_order_value": "2035.650000",
                                    "min_order_value": "11.74",
                                    "max_order_value": "8893.77",
                                    "total_spent": "242242.49"
                                },
                                {
                                    "CustomerNo": "130890",
                                    "total_orders": "90",
                                    "avg_order_value": "3587.080000",
                                    "min_order_value": "74.84",
                                    "max_order_value": "15740.74",
                                    "total_spent": "322837.35"
                                },
                                {
                                    "CustomerNo": "146060",
                                    "total_orders": "82",
                                    "avg_order_value": "813.070000",
                                    "min_order_value": "24.26",
                                    "max_order_value": "2086.48",
                                    "total_spent": "66672.06"
                                },
                                {
                                    "CustomerNo": "153110",
                                    "total_orders": "82",
                                    "avg_order_value": "4601.890000",
                                    "min_order_value": "148.76",
                                    "max_order_value": "27935.24",
                                    "total_spent": "377354.81"
                                },
                                {
                                    "CustomerNo": "129710",
                                    "total_orders": "81",
                                    "avg_order_value": "1198.210000",
                                    "min_order_value": "111.42",
                                    "max_order_value": "6526.50",
                                    "total_spent": "97055.11"
                                },
                                {
                                    "CustomerNo": "146460",
                                    "total_orders": "71",
                                    "avg_order_value": "28698.750000",
                                    "min_order_value": "12.38",
                                    "max_order_value": "159953.82",
                                    "total_spent": "2037610.99"
                                },
                                {
                                    "CustomerNo": "134080",
                                    "total_orders": "57",
                                    "avg_order_value": "2715.610000",
                                    "min_order_value": "65.40",
                                    "max_order_value": "7329.82",
                                    "total_spent": "154789.77"
                                },
                                {
                                    "CustomerNo": "160290",
                                    "total_orders": "56",
                                    "avg_order_value": "6145.250000",
                                    "min_order_value": "338.16",
                                    "max_order_value": "50809.44",
                                    "total_spent": "344134.22"
                                }
                            ]
                        },
                        "text/html": "<table><tr><th>CustomerNo</th><th>total_orders</th><th>avg_order_value</th><th>min_order_value</th><th>max_order_value</th><th>total_spent</th></tr><tr><td>149110</td><td>185</td><td>4719.670000</td><td>11.74</td><td>48595.51</td><td>873138.52</td></tr><tr><td>127480</td><td>171</td><td>1393.770000</td><td>6.19</td><td>17795.00</td><td>238334.12</td></tr><tr><td>178410</td><td>119</td><td>2035.650000</td><td>11.74</td><td>8893.77</td><td>242242.49</td></tr><tr><td>130890</td><td>90</td><td>3587.080000</td><td>74.84</td><td>15740.74</td><td>322837.35</td></tr><tr><td>146060</td><td>82</td><td>813.070000</td><td>24.26</td><td>2086.48</td><td>66672.06</td></tr><tr><td>153110</td><td>82</td><td>4601.890000</td><td>148.76</td><td>27935.24</td><td>377354.81</td></tr><tr><td>129710</td><td>81</td><td>1198.210000</td><td>111.42</td><td>6526.50</td><td>97055.11</td></tr><tr><td>146460</td><td>71</td><td>28698.750000</td><td>12.38</td><td>159953.82</td><td>2037610.99</td></tr><tr><td>134080</td><td>57</td><td>2715.610000</td><td>65.40</td><td>7329.82</td><td>154789.77</td></tr><tr><td>160290</td><td>56</td><td>6145.250000</td><td>338.16</td><td>50809.44</td><td>344134.22</td></tr></table>"
                    },
                    "metadata": {}
                }
            ],
            "execution_count": 31
        },
        {
            "cell_type": "markdown",
            "source": [
                "## **5\\. How can we identify the top N highest lifetime value customers and analyze their purchasing behavior, including average transaction value, average monthly spending, and customer lifespan?**"
            ],
            "metadata": {
                "azdata_cell_guid": "311e4422-eb7e-434e-8403-2c6dd6907da8"
            },
            "attachments": {}
        },
        {
            "cell_type": "code",
            "source": [
                "WITH CustomerMetrics AS (\r\n",
                "    SELECT \r\n",
                "        CustomerNo,\r\n",
                "        COUNT(DISTINCT TransactionNo) AS total_transactions,\r\n",
                "        COUNT(DISTINCT ProductNo) AS unique_products_bought,\r\n",
                "        SUM(Quantity*Price) AS lifetime_value,\r\n",
                "        SUM(Quantity) AS total_items,\r\n",
                "        MIN(Date) AS first_purchase,\r\n",
                "        MAX(Date) AS last_purchase,\r\n",
                "        COUNT(DISTINCT FORMAT(Date, 'yyyy-MM')) AS active_months  \r\n",
                "    FROM [sale_transaction-data]\r\n",
                "    GROUP BY CustomerNo\r\n",
                ")\r\n",
                "SELECT \r\n",
                "    cm.*,\r\n",
                "    ROUND(lifetime_value / NULLIF(total_transactions, 0), 2) AS avg_transaction_value,\r\n",
                "    ROUND(lifetime_value / NULLIF(active_months, 0), 2) AS avg_monthly_spend,\r\n",
                "    ROUND(CAST(total_items AS FLOAT) / NULLIF(total_transactions, 0), 2) AS avg_items_per_transaction,\r\n",
                "    DATEDIFF(DAY, first_purchase, last_purchase) AS customer_age_days  -- days from first purchase to last purchase\r\n",
                "FROM CustomerMetrics cm\r\n",
                "ORDER BY lifetime_value DESC\r\n",
                "OFFSET 0 ROWS FETCH NEXT 10 ROWS ONLY;\r\n",
                ""
            ],
            "metadata": {
                "azdata_cell_guid": "c5770e45-4cac-43a1-8df8-444299d1cd2c",
                "language": "sql",
                "tags": []
            },
            "outputs": [
                {
                    "output_type": "display_data",
                    "data": {
                        "text/html": "(10 rows affected)"
                    },
                    "metadata": {}
                },
                {
                    "output_type": "display_data",
                    "data": {
                        "text/html": "Total execution time: 00:00:05.653"
                    },
                    "metadata": {}
                },
                {
                    "output_type": "execute_result",
                    "execution_count": 32,
                    "data": {
                        "application/vnd.dataresource+json": {
                            "schema": {
                                "fields": [
                                    {
                                        "name": "CustomerNo"
                                    },
                                    {
                                        "name": "total_transactions"
                                    },
                                    {
                                        "name": "unique_products_bought"
                                    },
                                    {
                                        "name": "lifetime_value"
                                    },
                                    {
                                        "name": "total_items"
                                    },
                                    {
                                        "name": "first_purchase"
                                    },
                                    {
                                        "name": "last_purchase"
                                    },
                                    {
                                        "name": "active_months"
                                    },
                                    {
                                        "name": "avg_transaction_value"
                                    },
                                    {
                                        "name": "avg_monthly_spend"
                                    },
                                    {
                                        "name": "avg_items_per_transaction"
                                    },
                                    {
                                        "name": "customer_age_days"
                                    }
                                ]
                            },
                            "data": [
                                {
                                    "CustomerNo": "146460",
                                    "total_transactions": "73",
                                    "unique_products_bought": "700",
                                    "lifetime_value": "2112282.03",
                                    "total_items": "197420",
                                    "first_purchase": "2018-12-20",
                                    "last_purchase": "2019-12-08",
                                    "active_months": "13",
                                    "avg_transaction_value": "28935.370000",
                                    "avg_monthly_spend": "162483.230000",
                                    "avg_items_per_transaction": "2704,38",
                                    "customer_age_days": "353"
                                },
                                {
                                    "CustomerNo": "164460",
                                    "total_transactions": "2",
                                    "unique_products_bought": "3",
                                    "lifetime_value": "1002741.57",
                                    "total_items": "80997",
                                    "first_purchase": "2019-05-18",
                                    "last_purchase": "2019-12-09",
                                    "active_months": "2",
                                    "avg_transaction_value": "501370.790000",
                                    "avg_monthly_spend": "501370.790000",
                                    "avg_items_per_transaction": "40498,5",
                                    "customer_age_days": "205"
                                },
                                {
                                    "CustomerNo": "149110",
                                    "total_transactions": "198",
                                    "unique_products_bought": "1780",
                                    "lifetime_value": "914633.52",
                                    "total_items": "80383",
                                    "first_purchase": "2018-12-01",
                                    "last_purchase": "2019-12-08",
                                    "active_months": "13",
                                    "avg_transaction_value": "4619.360000",
                                    "avg_monthly_spend": "70356.420000",
                                    "avg_items_per_transaction": "405,97",
                                    "customer_age_days": "372"
                                },
                                {
                                    "CustomerNo": "124150",
                                    "total_transactions": "20",
                                    "unique_products_bought": "442",
                                    "lifetime_value": "900545.54",
                                    "total_items": "77669",
                                    "first_purchase": "2019-01-06",
                                    "last_purchase": "2019-11-15",
                                    "active_months": "10",
                                    "avg_transaction_value": "45027.280000",
                                    "avg_monthly_spend": "90054.550000",
                                    "avg_items_per_transaction": "3883,45",
                                    "customer_age_days": "313"
                                },
                                {
                                    "CustomerNo": "181020",
                                    "total_transactions": "60",
                                    "unique_products_bought": "150",
                                    "lifetime_value": "897137.36",
                                    "total_items": "64124",
                                    "first_purchase": "2018-12-07",
                                    "last_purchase": "2019-12-09",
                                    "active_months": "12",
                                    "avg_transaction_value": "14952.290000",
                                    "avg_monthly_spend": "74761.450000",
                                    "avg_items_per_transaction": "1068,73",
                                    "customer_age_days": "367"
                                },
                                {
                                    "CustomerNo": "174500",
                                    "total_transactions": "46",
                                    "unique_products_bought": "124",
                                    "lifetime_value": "891438.53",
                                    "total_items": "69993",
                                    "first_purchase": "2018-12-07",
                                    "last_purchase": "2019-12-01",
                                    "active_months": "12",
                                    "avg_transaction_value": "19379.100000",
                                    "avg_monthly_spend": "74286.540000",
                                    "avg_items_per_transaction": "1521,59",
                                    "customer_age_days": "359"
                                },
                                {
                                    "CustomerNo": "123460",
                                    "total_transactions": "1",
                                    "unique_products_bought": "1",
                                    "lifetime_value": "840113.80",
                                    "total_items": "74215",
                                    "first_purchase": "2019-01-18",
                                    "last_purchase": "2019-01-18",
                                    "active_months": "1",
                                    "avg_transaction_value": "840113.800000",
                                    "avg_monthly_spend": "840113.800000",
                                    "avg_items_per_transaction": "74215",
                                    "customer_age_days": "0"
                                },
                                {
                                    "CustomerNo": "141560",
                                    "total_transactions": "54",
                                    "unique_products_bought": "711",
                                    "lifetime_value": "694965.02",
                                    "total_items": "57845",
                                    "first_purchase": "2018-12-03",
                                    "last_purchase": "2019-11-30",
                                    "active_months": "12",
                                    "avg_transaction_value": "12869.720000",
                                    "avg_monthly_spend": "57913.750000",
                                    "avg_items_per_transaction": "1071,2",
                                    "customer_age_days": "362"
                                },
                                {
                                    "CustomerNo": "136940",
                                    "total_transactions": "51",
                                    "unique_products_bought": "532",
                                    "lifetime_value": "646116.78",
                                    "total_items": "63860",
                                    "first_purchase": "2018-12-01",
                                    "last_purchase": "2019-12-06",
                                    "active_months": "13",
                                    "avg_transaction_value": "12668.960000",
                                    "avg_monthly_spend": "49701.290000",
                                    "avg_items_per_transaction": "1252,16",
                                    "customer_age_days": "370"
                                },
                                {
                                    "CustomerNo": "175110",
                                    "total_transactions": "31",
                                    "unique_products_bought": "453",
                                    "lifetime_value": "639006.19",
                                    "total_items": "64549",
                                    "first_purchase": "2018-12-01",
                                    "last_purchase": "2019-12-07",
                                    "active_months": "13",
                                    "avg_transaction_value": "20613.100000",
                                    "avg_monthly_spend": "49154.320000",
                                    "avg_items_per_transaction": "2082,23",
                                    "customer_age_days": "371"
                                }
                            ]
                        },
                        "text/html": "<table><tr><th>CustomerNo</th><th>total_transactions</th><th>unique_products_bought</th><th>lifetime_value</th><th>total_items</th><th>first_purchase</th><th>last_purchase</th><th>active_months</th><th>avg_transaction_value</th><th>avg_monthly_spend</th><th>avg_items_per_transaction</th><th>customer_age_days</th></tr><tr><td>146460</td><td>73</td><td>700</td><td>2112282.03</td><td>197420</td><td>2018-12-20</td><td>2019-12-08</td><td>13</td><td>28935.370000</td><td>162483.230000</td><td>2704,38</td><td>353</td></tr><tr><td>164460</td><td>2</td><td>3</td><td>1002741.57</td><td>80997</td><td>2019-05-18</td><td>2019-12-09</td><td>2</td><td>501370.790000</td><td>501370.790000</td><td>40498,5</td><td>205</td></tr><tr><td>149110</td><td>198</td><td>1780</td><td>914633.52</td><td>80383</td><td>2018-12-01</td><td>2019-12-08</td><td>13</td><td>4619.360000</td><td>70356.420000</td><td>405,97</td><td>372</td></tr><tr><td>124150</td><td>20</td><td>442</td><td>900545.54</td><td>77669</td><td>2019-01-06</td><td>2019-11-15</td><td>10</td><td>45027.280000</td><td>90054.550000</td><td>3883,45</td><td>313</td></tr><tr><td>181020</td><td>60</td><td>150</td><td>897137.36</td><td>64124</td><td>2018-12-07</td><td>2019-12-09</td><td>12</td><td>14952.290000</td><td>74761.450000</td><td>1068,73</td><td>367</td></tr><tr><td>174500</td><td>46</td><td>124</td><td>891438.53</td><td>69993</td><td>2018-12-07</td><td>2019-12-01</td><td>12</td><td>19379.100000</td><td>74286.540000</td><td>1521,59</td><td>359</td></tr><tr><td>123460</td><td>1</td><td>1</td><td>840113.80</td><td>74215</td><td>2019-01-18</td><td>2019-01-18</td><td>1</td><td>840113.800000</td><td>840113.800000</td><td>74215</td><td>0</td></tr><tr><td>141560</td><td>54</td><td>711</td><td>694965.02</td><td>57845</td><td>2018-12-03</td><td>2019-11-30</td><td>12</td><td>12869.720000</td><td>57913.750000</td><td>1071,2</td><td>362</td></tr><tr><td>136940</td><td>51</td><td>532</td><td>646116.78</td><td>63860</td><td>2018-12-01</td><td>2019-12-06</td><td>13</td><td>12668.960000</td><td>49701.290000</td><td>1252,16</td><td>370</td></tr><tr><td>175110</td><td>31</td><td>453</td><td>639006.19</td><td>64549</td><td>2018-12-01</td><td>2019-12-07</td><td>13</td><td>20613.100000</td><td>49154.320000</td><td>2082,23</td><td>371</td></tr></table>"
                    },
                    "metadata": {}
                }
            ],
            "execution_count": 32
        },
        {
            "cell_type": "markdown",
            "source": [
                "## **6\\. How many times has the price changed for each product?**"
            ],
            "metadata": {
                "azdata_cell_guid": "8491a3ce-0666-4de4-8a06-cd49942c9b06"
            },
            "attachments": {}
        },
        {
            "cell_type": "code",
            "source": [
                "WITH PriceHistory AS (\r\n",
                "    SELECT  \r\n",
                "        Productname, \r\n",
                "        Price, \r\n",
                "        Date,\r\n",
                "        LAG(Price) OVER (PARTITION BY Productname ORDER BY Date) AS PrevPrice\r\n",
                "    FROM [sale_transaction-data]\r\n",
                "),\r\n",
                "PriceChangeFlag AS (\r\n",
                "    SELECT  \r\n",
                "        *,\r\n",
                "        CASE \r\n",
                "            WHEN Price = PrevPrice THEN 0 \r\n",
                "            ELSE 1 \r\n",
                "        END AS PriceChange\r\n",
                "    FROM PriceHistory\r\n",
                ")\r\n",
                "SELECT TOP 10\r\n",
                "    Productname,\r\n",
                "    SUM(PriceChange) AS TotalPriceChanges\r\n",
                "FROM PriceChangeFlag\r\n",
                "GROUP BY Productname\r\n",
                "ORDER BY TotalPriceChanges DESC;  -- Sắp xếp theo số lần thay đổi giá giảm dần\r\n",
                ""
            ],
            "metadata": {
                "azdata_cell_guid": "4b800f38-8ecd-420d-b90c-5e6155d32af7",
                "language": "sql"
            },
            "outputs": [
                {
                    "output_type": "display_data",
                    "data": {
                        "text/html": "(10 rows affected)"
                    },
                    "metadata": {}
                },
                {
                    "output_type": "display_data",
                    "data": {
                        "text/html": "Total execution time: 00:00:04.546"
                    },
                    "metadata": {}
                },
                {
                    "output_type": "execute_result",
                    "execution_count": 32,
                    "data": {
                        "application/vnd.dataresource+json": {
                            "schema": {
                                "fields": [
                                    {
                                        "name": "Productname"
                                    },
                                    {
                                        "name": "TotalPriceChanges"
                                    }
                                ]
                            },
                            "data": [
                                {
                                    "Productname": "Cream Hanging Heart T-Light Holder",
                                    "TotalPriceChanges": "961"
                                },
                                {
                                    "Productname": "Jumbo Bag Red Retrospot",
                                    "TotalPriceChanges": "892"
                                },
                                {
                                    "Productname": "Popcorn Holder",
                                    "TotalPriceChanges": "664"
                                },
                                {
                                    "Productname": "Regency Cakestand 3 Tier",
                                    "TotalPriceChanges": "645"
                                },
                                {
                                    "Productname": "Jam Making Set With Jars",
                                    "TotalPriceChanges": "580"
                                },
                                {
                                    "Productname": "Party Bunting",
                                    "TotalPriceChanges": "579"
                                },
                                {
                                    "Productname": "Pack Of 72 Retrospot Cake Cases",
                                    "TotalPriceChanges": "560"
                                },
                                {
                                    "Productname": "Lunch Bag Red Retrospot",
                                    "TotalPriceChanges": "546"
                                },
                                {
                                    "Productname": "Red Retrospot Charlotte Bag",
                                    "TotalPriceChanges": "535"
                                },
                                {
                                    "Productname": "Recipe Box Pantry Yellow Design",
                                    "TotalPriceChanges": "523"
                                }
                            ]
                        },
                        "text/html": "<table><tr><th>Productname</th><th>TotalPriceChanges</th></tr><tr><td>Cream Hanging Heart T-Light Holder</td><td>961</td></tr><tr><td>Jumbo Bag Red Retrospot</td><td>892</td></tr><tr><td>Popcorn Holder</td><td>664</td></tr><tr><td>Regency Cakestand 3 Tier</td><td>645</td></tr><tr><td>Jam Making Set With Jars</td><td>580</td></tr><tr><td>Party Bunting</td><td>579</td></tr><tr><td>Pack Of 72 Retrospot Cake Cases</td><td>560</td></tr><tr><td>Lunch Bag Red Retrospot</td><td>546</td></tr><tr><td>Red Retrospot Charlotte Bag</td><td>535</td></tr><tr><td>Recipe Box Pantry Yellow Design</td><td>523</td></tr></table>"
                    },
                    "metadata": {}
                }
            ],
            "execution_count": 32
        },
        {
            "cell_type": "markdown",
            "source": [
                "## **7\\. Analyze customers who have transactions for at least `n` consecutive days, ensuring that the total number of transactions within these `n` days is greater than `m`**"
            ],
            "metadata": {
                "azdata_cell_guid": "e831126d-d0b6-4873-843c-2fe750b8894a"
            },
            "attachments": {}
        },
        {
            "cell_type": "code",
            "source": [
                "DECLARE @n INT = 4, @m INT = 3;\r\n",
                "\r\n",
                "WITH cte1 AS (\r\n",
                "    SELECT \r\n",
                "        CustomerNo,\r\n",
                "        Date,\r\n",
                "        -- Rank transactions per customer based on date\r\n",
                "        DENSE_RANK() OVER (PARTITION BY CustomerNo ORDER BY Date) AS transaction_rank,\r\n",
                "        -- Identify the start of a transaction streak by subtracting the rank from the date\r\n",
                "        DATEADD(DAY, -DENSE_RANK() OVER (PARTITION BY CustomerNo ORDER BY Date), Date) AS transaction_streak_start\r\n",
                "    FROM [sale_transaction-data]\r\n",
                ")\r\n",
                "SELECT \r\n",
                "    CustomerNo,\r\n",
                "    MIN(Date) AS start_date,  -- First transaction date in the streak\r\n",
                "    MAX(Date) AS end_date,  -- Last transaction date in the streak\r\n",
                "    COUNT(DISTINCT Date) AS unique_days,  -- Unique transaction days in the streak\r\n",
                "    COUNT(*) AS total_transactions  -- Total number of transactions in the streak\r\n",
                "FROM cte1\r\n",
                "GROUP BY CustomerNo, transaction_streak_start\r\n",
                "HAVING \r\n",
                "    COUNT(*) >=@n -- Ensure the streak has at least @min_transactions\r\n",
                "    AND COUNT(DISTINCT Date) >= @m -- Ensure at least @min_unique_days\r\n",
                "ORDER BY CustomerNo;\r\n",
                ""
            ],
            "metadata": {
                "azdata_cell_guid": "4f413a55-058a-48ae-98bd-58d12491cedd",
                "language": "sql",
                "tags": []
            },
            "outputs": [
                {
                    "output_type": "display_data",
                    "data": {
                        "text/html": "(29 rows affected)"
                    },
                    "metadata": {}
                },
                {
                    "output_type": "display_data",
                    "data": {
                        "text/html": "Total execution time: 00:00:00.976"
                    },
                    "metadata": {}
                },
                {
                    "output_type": "execute_result",
                    "execution_count": 48,
                    "data": {
                        "application/vnd.dataresource+json": {
                            "schema": {
                                "fields": [
                                    {
                                        "name": "CustomerNo"
                                    },
                                    {
                                        "name": "start_date"
                                    },
                                    {
                                        "name": "end_date"
                                    },
                                    {
                                        "name": "unique_days"
                                    },
                                    {
                                        "name": "total_transactions"
                                    }
                                ]
                            },
                            "data": [
                                {
                                    "CustomerNo": "127480",
                                    "start_date": "2019-11-06",
                                    "end_date": "2019-11-08",
                                    "unique_days": "3",
                                    "total_transactions": "266"
                                },
                                {
                                    "CustomerNo": "127480",
                                    "start_date": "2018-12-05",
                                    "end_date": "2018-12-10",
                                    "unique_days": "6",
                                    "total_transactions": "535"
                                },
                                {
                                    "CustomerNo": "127480",
                                    "start_date": "2019-10-05",
                                    "end_date": "2019-10-07",
                                    "unique_days": "3",
                                    "total_transactions": "43"
                                },
                                {
                                    "CustomerNo": "127480",
                                    "start_date": "2019-08-03",
                                    "end_date": "2019-08-05",
                                    "unique_days": "3",
                                    "total_transactions": "30"
                                },
                                {
                                    "CustomerNo": "127480",
                                    "start_date": "2019-06-21",
                                    "end_date": "2019-06-23",
                                    "unique_days": "3",
                                    "total_transactions": "37"
                                },
                                {
                                    "CustomerNo": "127480",
                                    "start_date": "2019-11-22",
                                    "end_date": "2019-11-25",
                                    "unique_days": "4",
                                    "total_transactions": "696"
                                },
                                {
                                    "CustomerNo": "127480",
                                    "start_date": "2019-06-06",
                                    "end_date": "2019-06-08",
                                    "unique_days": "3",
                                    "total_transactions": "66"
                                },
                                {
                                    "CustomerNo": "127480",
                                    "start_date": "2019-11-15",
                                    "end_date": "2019-11-18",
                                    "unique_days": "4",
                                    "total_transactions": "378"
                                },
                                {
                                    "CustomerNo": "127480",
                                    "start_date": "2019-05-10",
                                    "end_date": "2019-05-12",
                                    "unique_days": "3",
                                    "total_transactions": "69"
                                },
                                {
                                    "CustomerNo": "129210",
                                    "start_date": "2019-09-14",
                                    "end_date": "2019-09-16",
                                    "unique_days": "3",
                                    "total_transactions": "65"
                                },
                                {
                                    "CustomerNo": "130890",
                                    "start_date": "2019-01-26",
                                    "end_date": "2019-01-28",
                                    "unique_days": "3",
                                    "total_transactions": "36"
                                },
                                {
                                    "CustomerNo": "136850",
                                    "start_date": "2019-12-05",
                                    "end_date": "2019-12-07",
                                    "unique_days": "3",
                                    "total_transactions": "16"
                                },
                                {
                                    "CustomerNo": "141560",
                                    "start_date": "2019-09-04",
                                    "end_date": "2019-09-07",
                                    "unique_days": "4",
                                    "total_transactions": "154"
                                },
                                {
                                    "CustomerNo": "146460",
                                    "start_date": "2019-01-19",
                                    "end_date": "2019-01-21",
                                    "unique_days": "3",
                                    "total_transactions": "141"
                                },
                                {
                                    "CustomerNo": "149110",
                                    "start_date": "2019-10-10",
                                    "end_date": "2019-10-12",
                                    "unique_days": "3",
                                    "total_transactions": "258"
                                },
                                {
                                    "CustomerNo": "149110",
                                    "start_date": "2019-11-09",
                                    "end_date": "2019-11-11",
                                    "unique_days": "3",
                                    "total_transactions": "134"
                                },
                                {
                                    "CustomerNo": "149110",
                                    "start_date": "2019-11-13",
                                    "end_date": "2019-11-18",
                                    "unique_days": "6",
                                    "total_transactions": "293"
                                },
                                {
                                    "CustomerNo": "149110",
                                    "start_date": "2019-11-20",
                                    "end_date": "2019-11-25",
                                    "unique_days": "6",
                                    "total_transactions": "201"
                                },
                                {
                                    "CustomerNo": "149110",
                                    "start_date": "2019-06-21",
                                    "end_date": "2019-06-23",
                                    "unique_days": "3",
                                    "total_transactions": "39"
                                },
                                {
                                    "CustomerNo": "149110",
                                    "start_date": "2019-09-19",
                                    "end_date": "2019-09-23",
                                    "unique_days": "5",
                                    "total_transactions": "393"
                                },
                                {
                                    "CustomerNo": "149110",
                                    "start_date": "2018-12-01",
                                    "end_date": "2018-12-03",
                                    "unique_days": "3",
                                    "total_transactions": "92"
                                },
                                {
                                    "CustomerNo": "149110",
                                    "start_date": "2019-10-17",
                                    "end_date": "2019-10-21",
                                    "unique_days": "5",
                                    "total_transactions": "380"
                                },
                                {
                                    "CustomerNo": "149110",
                                    "start_date": "2019-07-26",
                                    "end_date": "2019-07-29",
                                    "unique_days": "4",
                                    "total_transactions": "114"
                                },
                                {
                                    "CustomerNo": "149110",
                                    "start_date": "2019-09-26",
                                    "end_date": "2019-09-28",
                                    "unique_days": "3",
                                    "total_transactions": "191"
                                },
                                {
                                    "CustomerNo": "149110",
                                    "start_date": "2019-06-29",
                                    "end_date": "2019-07-01",
                                    "unique_days": "3",
                                    "total_transactions": "40"
                                },
                                {
                                    "CustomerNo": "149110",
                                    "start_date": "2019-05-18",
                                    "end_date": "2019-05-20",
                                    "unique_days": "3",
                                    "total_transactions": "127"
                                },
                                {
                                    "CustomerNo": "149110",
                                    "start_date": "2019-10-30",
                                    "end_date": "2019-11-01",
                                    "unique_days": "3",
                                    "total_transactions": "151"
                                },
                                {
                                    "CustomerNo": "149110",
                                    "start_date": "2019-06-07",
                                    "end_date": "2019-06-09",
                                    "unique_days": "3",
                                    "total_transactions": "123"
                                },
                                {
                                    "CustomerNo": "179610",
                                    "start_date": "2019-03-16",
                                    "end_date": "2019-03-18",
                                    "unique_days": "3",
                                    "total_transactions": "18"
                                }
                            ]
                        },
                        "text/html": "<table><tr><th>CustomerNo</th><th>start_date</th><th>end_date</th><th>unique_days</th><th>total_transactions</th></tr><tr><td>127480</td><td>2019-11-06</td><td>2019-11-08</td><td>3</td><td>266</td></tr><tr><td>127480</td><td>2018-12-05</td><td>2018-12-10</td><td>6</td><td>535</td></tr><tr><td>127480</td><td>2019-10-05</td><td>2019-10-07</td><td>3</td><td>43</td></tr><tr><td>127480</td><td>2019-08-03</td><td>2019-08-05</td><td>3</td><td>30</td></tr><tr><td>127480</td><td>2019-06-21</td><td>2019-06-23</td><td>3</td><td>37</td></tr><tr><td>127480</td><td>2019-11-22</td><td>2019-11-25</td><td>4</td><td>696</td></tr><tr><td>127480</td><td>2019-06-06</td><td>2019-06-08</td><td>3</td><td>66</td></tr><tr><td>127480</td><td>2019-11-15</td><td>2019-11-18</td><td>4</td><td>378</td></tr><tr><td>127480</td><td>2019-05-10</td><td>2019-05-12</td><td>3</td><td>69</td></tr><tr><td>129210</td><td>2019-09-14</td><td>2019-09-16</td><td>3</td><td>65</td></tr><tr><td>130890</td><td>2019-01-26</td><td>2019-01-28</td><td>3</td><td>36</td></tr><tr><td>136850</td><td>2019-12-05</td><td>2019-12-07</td><td>3</td><td>16</td></tr><tr><td>141560</td><td>2019-09-04</td><td>2019-09-07</td><td>4</td><td>154</td></tr><tr><td>146460</td><td>2019-01-19</td><td>2019-01-21</td><td>3</td><td>141</td></tr><tr><td>149110</td><td>2019-10-10</td><td>2019-10-12</td><td>3</td><td>258</td></tr><tr><td>149110</td><td>2019-11-09</td><td>2019-11-11</td><td>3</td><td>134</td></tr><tr><td>149110</td><td>2019-11-13</td><td>2019-11-18</td><td>6</td><td>293</td></tr><tr><td>149110</td><td>2019-11-20</td><td>2019-11-25</td><td>6</td><td>201</td></tr><tr><td>149110</td><td>2019-06-21</td><td>2019-06-23</td><td>3</td><td>39</td></tr><tr><td>149110</td><td>2019-09-19</td><td>2019-09-23</td><td>5</td><td>393</td></tr><tr><td>149110</td><td>2018-12-01</td><td>2018-12-03</td><td>3</td><td>92</td></tr><tr><td>149110</td><td>2019-10-17</td><td>2019-10-21</td><td>5</td><td>380</td></tr><tr><td>149110</td><td>2019-07-26</td><td>2019-07-29</td><td>4</td><td>114</td></tr><tr><td>149110</td><td>2019-09-26</td><td>2019-09-28</td><td>3</td><td>191</td></tr><tr><td>149110</td><td>2019-06-29</td><td>2019-07-01</td><td>3</td><td>40</td></tr><tr><td>149110</td><td>2019-05-18</td><td>2019-05-20</td><td>3</td><td>127</td></tr><tr><td>149110</td><td>2019-10-30</td><td>2019-11-01</td><td>3</td><td>151</td></tr><tr><td>149110</td><td>2019-06-07</td><td>2019-06-09</td><td>3</td><td>123</td></tr><tr><td>179610</td><td>2019-03-16</td><td>2019-03-18</td><td>3</td><td>18</td></tr></table>"
                    },
                    "metadata": {}
                }
            ],
            "execution_count": 48
        },
        {
            "cell_type": "markdown",
            "source": [
                "## **8\\. How many customers fall into each spending segment (\\<P25, P25 - P50, P50 - P75, \\>P75)?**\n",
                "\n",
                "<span style=\"color: #008000;\">--Instead of setting arbitrary sales ranges, I use PERCENTILE calculations to dynamically group customers based on actual sales distribution.</span>"
            ],
            "metadata": {
                "azdata_cell_guid": "3c94755d-a47e-47e4-a51d-eee0861315d7"
            },
            "attachments": {}
        },
        {
            "cell_type": "code",
            "source": [
                "-- Declare variables to store percentile values\r\n",
                "DECLARE @p25 DECIMAL(18,2);\r\n",
                "DECLARE @p50 DECIMAL(18,2);\r\n",
                "DECLARE @p75 DECIMAL(18,2);\r\n",
                "\r\n",
                "-- Calculate percentiles dynamically\r\n",
                "WITH sales_distribution AS (\r\n",
                "    SELECT \r\n",
                "        CustomerNo, \r\n",
                "        SUM(Quantity * Price) AS total_sales\r\n",
                "    FROM [sale_transaction-data]\r\n",
                "    GROUP BY CustomerNo\r\n",
                "),\r\n",
                "ranked_sales AS (\r\n",
                "    SELECT \r\n",
                "        total_sales, \r\n",
                "        PERCENT_RANK() OVER (ORDER BY total_sales ASC) AS percentile_rank\r\n",
                "    FROM sales_distribution\r\n",
                "),\r\n",
                "percentiles AS (\r\n",
                "    SELECT \r\n",
                "        MAX(CASE WHEN percentile_rank <= 0.25 THEN total_sales END) AS p25_sales,\r\n",
                "        MAX(CASE WHEN percentile_rank <= 0.50 THEN total_sales END) AS p50_sales,\r\n",
                "        MAX(CASE WHEN percentile_rank <= 0.75 THEN total_sales END) AS p75_sales\r\n",
                "    FROM ranked_sales\r\n",
                ")\r\n",
                "-- Assign percentile values to variables\r\n",
                "SELECT \r\n",
                "    @p25 = p25_sales,\r\n",
                "    @p50 = p50_sales,\r\n",
                "    @p75 = p75_sales\r\n",
                "FROM percentiles;\r\n",
                "\r\n",
                "-- Create customer segments based on purchase value percentiles\r\n",
                "WITH cte1 AS (\r\n",
                "    SELECT '<P25' AS segment_sales, \r\n",
                "           FORMAT(0, '#,##0.00') + ' - ' + FORMAT(@p25, '#,##0.00') AS segment_sales_range,\r\n",
                "           0 AS a, @p25 AS b\r\n",
                "    UNION ALL\r\n",
                "    SELECT 'P25 - P50', \r\n",
                "           FORMAT(@p25, '#,##0.00') + ' - ' + FORMAT(@p50, '#,##0.00'),\r\n",
                "           @p25, @p50\r\n",
                "    UNION ALL\r\n",
                "    SELECT 'P50 - P75', \r\n",
                "           FORMAT(@p50, '#,##0.00') + ' - ' + FORMAT(@p75, '#,##0.00'),\r\n",
                "           @p50, @p75\r\n",
                "    UNION ALL\r\n",
                "    SELECT '>P75', \r\n",
                "           FORMAT(@p75, '#,##0.00') + ' - ' + 'Max',\r\n",
                "           @p75, 999999999\r\n",
                "),\r\n",
                "cte2 AS (\r\n",
                "    SELECT \r\n",
                "        CustomerNo, \r\n",
                "        COUNT(DISTINCT ProductNo) AS unique_products_bought, \r\n",
                "        SUM(Quantity * Price) AS total_value,\r\n",
                "        COUNT(DISTINCT TransactionNo) AS total_orders\r\n",
                "    FROM [sale_transaction-data]\r\n",
                "    GROUP BY CustomerNo\r\n",
                ")\r\n",
                "-- Assign customers to segments based on total purchase value\r\n",
                "SELECT \r\n",
                "    t1.segment_sales, \r\n",
                "    t1.segment_sales_range, -- Display segment range\r\n",
                "    COUNT(t2.CustomerNo) AS total_customers,\r\n",
                "    ISNULL(SUM(t2.total_value), 0) AS total_order_value,\r\n",
                "    ISNULL(SUM(t2.total_orders), 0) AS total_orders\r\n",
                "FROM cte1 t1\r\n",
                "LEFT JOIN cte2 t2 ON t2.total_value BETWEEN t1.a AND t1.b\r\n",
                "GROUP BY t1.segment_sales, t1.segment_sales_range\r\n",
                "ORDER BY \r\n",
                "    CASE \r\n",
                "        WHEN t1.segment_sales = '<P25' THEN 1\r\n",
                "        WHEN t1.segment_sales = 'P25 - P50' THEN 2\r\n",
                "        WHEN t1.segment_sales = 'P50 - P75' THEN 3\r\n",
                "        WHEN t1.segment_sales = '>P75' THEN 4\r\n",
                "    END;\r\n",
                "\r\n",
                ""
            ],
            "metadata": {
                "language": "sql",
                "azdata_cell_guid": "db7c9dcf-23be-4687-a3db-b98be263cc27",
                "tags": []
            },
            "outputs": [
                {
                    "output_type": "display_data",
                    "data": {
                        "text/html": "Warning: Null value is eliminated by an aggregate or other SET operation."
                    },
                    "metadata": {}
                },
                {
                    "output_type": "display_data",
                    "data": {
                        "text/html": "(4 rows affected)"
                    },
                    "metadata": {}
                },
                {
                    "output_type": "display_data",
                    "data": {
                        "text/html": "Total execution time: 00:00:01.043"
                    },
                    "metadata": {}
                },
                {
                    "output_type": "execute_result",
                    "execution_count": 17,
                    "data": {
                        "application/vnd.dataresource+json": {
                            "schema": {
                                "fields": [
                                    {
                                        "name": "segment_sales"
                                    },
                                    {
                                        "name": "segment_sales_range"
                                    },
                                    {
                                        "name": "total_customers"
                                    },
                                    {
                                        "name": "total_order_value"
                                    },
                                    {
                                        "name": "total_orders"
                                    }
                                ]
                            },
                            "data": [
                                {
                                    "segment_sales": "<P25",
                                    "segment_sales_range": "0.00 - 1,838.40",
                                    "total_customers": "1180",
                                    "total_order_value": "1124309.65",
                                    "total_orders": "1607"
                                },
                                {
                                    "segment_sales": "P25 - P50",
                                    "segment_sales_range": "1,838.40 - 4,826.72",
                                    "total_customers": "1180",
                                    "total_order_value": "3694760.13",
                                    "total_orders": "2469"
                                },
                                {
                                    "segment_sales": "P50 - P75",
                                    "segment_sales_range": "4,826.72 - 11,898.92",
                                    "total_customers": "1180",
                                    "total_order_value": "9154670.20",
                                    "total_orders": "4211"
                                },
                                {
                                    "segment_sales": ">P75",
                                    "segment_sales_range": "11,898.92 - Max",
                                    "total_customers": "1181",
                                    "total_order_value": "49010716.40",
                                    "total_orders": "11510"
                                }
                            ]
                        },
                        "text/html": "<table><tr><th>segment_sales</th><th>segment_sales_range</th><th>total_customers</th><th>total_order_value</th><th>total_orders</th></tr><tr><td>&lt;P25</td><td>0.00 - 1,838.40</td><td>1180</td><td>1124309.65</td><td>1607</td></tr><tr><td>P25 - P50</td><td>1,838.40 - 4,826.72</td><td>1180</td><td>3694760.13</td><td>2469</td></tr><tr><td>P50 - P75</td><td>4,826.72 - 11,898.92</td><td>1180</td><td>9154670.20</td><td>4211</td></tr><tr><td>&gt;P75</td><td>11,898.92 - Max</td><td>1181</td><td>49010716.40</td><td>11510</td></tr></table>"
                    },
                    "metadata": {}
                }
            ],
            "execution_count": 17
        },
        {
            "cell_type": "markdown",
            "source": [
                "## **9\\. Analyze the top 20 product pairs that are most frequently purchased together in the same transaction**"
            ],
            "metadata": {
                "azdata_cell_guid": "6af3b61f-e5e1-4931-b344-e15dd7b2eb59"
            },
            "attachments": {}
        },
        {
            "cell_type": "code",
            "source": [
                "--Analyze the top 20 product pairs that are most frequently purchased together in the same transaction\r\n",
                "WITH cte AS (\r\n",
                "    SELECT  \r\n",
                "        TransactionNo, \r\n",
                "        ProductName\r\n",
                "    FROM [sale_transaction-data]\r\n",
                "), \r\n",
                "cte1 AS (\r\n",
                "    SELECT \r\n",
                "        a1.TransactionNo, \r\n",
                "        a1.ProductName AS Product_1, \r\n",
                "        a2.ProductName AS Product_2\r\n",
                "    FROM cte a1 \r\n",
                "    INNER JOIN cte a2 \r\n",
                "        ON a1.TransactionNo = a2.TransactionNo \r\n",
                "        AND a1.ProductName < a2.ProductName \r\n",
                ")\r\n",
                "SELECT TOP 20 \r\n",
                "    Product_1, \r\n",
                "    Product_2, \r\n",
                "    COUNT(*) AS count_times \r\n",
                "FROM cte1\r\n",
                "GROUP BY Product_1, Product_2 \r\n",
                "ORDER BY COUNT(*) DESC;\r\n",
                ""
            ],
            "metadata": {
                "azdata_cell_guid": "f237fb96-d0eb-479e-9c93-f464d713b255",
                "language": "sql"
            },
            "outputs": [
                {
                    "output_type": "display_data",
                    "data": {
                        "text/html": "(20 rows affected)"
                    },
                    "metadata": {}
                },
                {
                    "output_type": "display_data",
                    "data": {
                        "text/html": "Total execution time: 00:01:49.600"
                    },
                    "metadata": {}
                },
                {
                    "output_type": "execute_result",
                    "execution_count": 2,
                    "data": {
                        "application/vnd.dataresource+json": {
                            "schema": {
                                "fields": [
                                    {
                                        "name": "Product_1"
                                    },
                                    {
                                        "name": "Product_2"
                                    },
                                    {
                                        "name": "count_times"
                                    }
                                ]
                            },
                            "data": [
                                {
                                    "Product_1": "Green Regency Teacup And Saucer",
                                    "Product_2": "Pink Regency Teacup And Saucer",
                                    "count_times": "894"
                                },
                                {
                                    "Product_1": "Jumbo Bag Pink Polkadot",
                                    "Product_2": "Jumbo Bag Red Retrospot",
                                    "count_times": "863"
                                },
                                {
                                    "Product_1": "Green Regency Teacup And Saucer",
                                    "Product_2": "Roses Regency Teacup And Saucer",
                                    "count_times": "845"
                                },
                                {
                                    "Product_1": "Jumbo Bag Red Retrospot",
                                    "Product_2": "Jumbo Storage Bag Suki",
                                    "count_times": "747"
                                },
                                {
                                    "Product_1": "Lunch Bag Black Skull",
                                    "Product_2": "Lunch Bag Red Retrospot",
                                    "count_times": "699"
                                },
                                {
                                    "Product_1": "Lunch Bag Red Retrospot",
                                    "Product_2": "Lunch Bag Suki Design",
                                    "count_times": "695"
                                },
                                {
                                    "Product_1": "Jumbo Bag Red Retrospot",
                                    "Product_2": "Jumbo Shopper Vintage Red Paisley",
                                    "count_times": "694"
                                },
                                {
                                    "Product_1": "Alarm Clock Bakelike Green",
                                    "Product_2": "Alarm Clock Bakelike Red",
                                    "count_times": "690"
                                },
                                {
                                    "Product_1": "Pink Regency Teacup And Saucer",
                                    "Product_2": "Roses Regency Teacup And Saucer",
                                    "count_times": "678"
                                },
                                {
                                    "Product_1": "Lunch Bag Black Skull",
                                    "Product_2": "Lunch Bag Suki Design",
                                    "count_times": "647"
                                },
                                {
                                    "Product_1": "Lunch Bag Pink Polkadot",
                                    "Product_2": "Lunch Bag Red Retrospot",
                                    "count_times": "646"
                                },
                                {
                                    "Product_1": "Jumbo Bag Baroque Black White",
                                    "Product_2": "Jumbo Bag Red Retrospot",
                                    "count_times": "603"
                                },
                                {
                                    "Product_1": "Jumbo Bag Red Retrospot",
                                    "Product_2": "Lunch Bag Red Retrospot",
                                    "count_times": "598"
                                },
                                {
                                    "Product_1": "Paper Chain Kit 50'S Christmas",
                                    "Product_2": "Paper Chain Kit Vintage Christmas",
                                    "count_times": "596"
                                },
                                {
                                    "Product_1": "Jumbo Bag Red Retrospot",
                                    "Product_2": "Jumbo Bag Vintage Doily",
                                    "count_times": "592"
                                },
                                {
                                    "Product_1": "Lunch Bag Black Skull",
                                    "Product_2": "Lunch Bag Pink Polkadot",
                                    "count_times": "592"
                                },
                                {
                                    "Product_1": "Lunch Bag Red Retrospot",
                                    "Product_2": "Lunch Bag Spaceboy Design",
                                    "count_times": "590"
                                },
                                {
                                    "Product_1": "Lunch Bag Cars Blue",
                                    "Product_2": "Lunch Bag Red Retrospot",
                                    "count_times": "583"
                                },
                                {
                                    "Product_1": "Dolly Girl Lunch Box",
                                    "Product_2": "Spaceboy Lunch Box",
                                    "count_times": "580"
                                },
                                {
                                    "Product_1": "Lunch Bag Cars Blue",
                                    "Product_2": "Lunch Bag Suki Design",
                                    "count_times": "575"
                                }
                            ]
                        },
                        "text/html": "<table><tr><th>Product_1</th><th>Product_2</th><th>count_times</th></tr><tr><td>Green Regency Teacup And Saucer</td><td>Pink Regency Teacup And Saucer</td><td>894</td></tr><tr><td>Jumbo Bag Pink Polkadot</td><td>Jumbo Bag Red Retrospot</td><td>863</td></tr><tr><td>Green Regency Teacup And Saucer</td><td>Roses Regency Teacup And Saucer</td><td>845</td></tr><tr><td>Jumbo Bag Red Retrospot</td><td>Jumbo Storage Bag Suki</td><td>747</td></tr><tr><td>Lunch Bag Black Skull</td><td>Lunch Bag Red Retrospot</td><td>699</td></tr><tr><td>Lunch Bag Red Retrospot</td><td>Lunch Bag Suki Design</td><td>695</td></tr><tr><td>Jumbo Bag Red Retrospot</td><td>Jumbo Shopper Vintage Red Paisley</td><td>694</td></tr><tr><td>Alarm Clock Bakelike Green</td><td>Alarm Clock Bakelike Red</td><td>690</td></tr><tr><td>Pink Regency Teacup And Saucer</td><td>Roses Regency Teacup And Saucer</td><td>678</td></tr><tr><td>Lunch Bag Black Skull</td><td>Lunch Bag Suki Design</td><td>647</td></tr><tr><td>Lunch Bag Pink Polkadot</td><td>Lunch Bag Red Retrospot</td><td>646</td></tr><tr><td>Jumbo Bag Baroque Black White</td><td>Jumbo Bag Red Retrospot</td><td>603</td></tr><tr><td>Jumbo Bag Red Retrospot</td><td>Lunch Bag Red Retrospot</td><td>598</td></tr><tr><td>Paper Chain Kit 50&#39;S Christmas</td><td>Paper Chain Kit Vintage Christmas</td><td>596</td></tr><tr><td>Jumbo Bag Red Retrospot</td><td>Jumbo Bag Vintage Doily</td><td>592</td></tr><tr><td>Lunch Bag Black Skull</td><td>Lunch Bag Pink Polkadot</td><td>592</td></tr><tr><td>Lunch Bag Red Retrospot</td><td>Lunch Bag Spaceboy Design</td><td>590</td></tr><tr><td>Lunch Bag Cars Blue</td><td>Lunch Bag Red Retrospot</td><td>583</td></tr><tr><td>Dolly Girl Lunch Box</td><td>Spaceboy Lunch Box</td><td>580</td></tr><tr><td>Lunch Bag Cars Blue</td><td>Lunch Bag Suki Design</td><td>575</td></tr></table>"
                    },
                    "metadata": {}
                }
            ],
            "execution_count": 2
        },
        {
            "cell_type": "markdown",
            "source": [
                "## **10\\. Analyze the time gap between a customer's first purchase and their second purchase**\n",
                "\n",
                "categorizing it into three ranges: \\<7 days, 7-30 days, and \\>30 days"
            ],
            "metadata": {
                "azdata_cell_guid": "397afd49-97d9-447d-a51e-5ec883eea468"
            },
            "attachments": {}
        },
        {
            "cell_type": "code",
            "source": [
                "--Analyze the time gap between a customer's first purchase and their second purchase, categorizing it into three ranges: <7 days, 7-30 days, and >30 days.\r\n",
                "WITH cte01 AS (\r\n",
                "    SELECT\r\n",
                "        CustomerNo,\r\n",
                "        MIN(Date) AS order_date_1st  -- First purchase date\r\n",
                "    FROM [sale_transaction-data]\r\n",
                "    GROUP BY CustomerNo\r\n",
                "),\r\n",
                "cte02 AS (\r\n",
                "    SELECT\r\n",
                "        a.CustomerNo,\r\n",
                "        a.order_date_1st,\r\n",
                "        MIN(b.Date) AS order_date_2nd  -- Find the second purchase date\r\n",
                "    FROM cte01 a\r\n",
                "    JOIN [sale_transaction-data] b \r\n",
                "        ON a.CustomerNo = b.CustomerNo \r\n",
                "        AND b.Date > a.order_date_1st\r\n",
                "    GROUP BY a.CustomerNo, a.order_date_1st\r\n",
                ")\r\n",
                "SELECT\r\n",
                "    YEAR(order_date_1st) AS purchase_1st_year,\r\n",
                "    MONTH(order_date_1st) AS purchase_1st_month,\r\n",
                "    CASE\r\n",
                "        WHEN DATEDIFF(DAY, order_date_1st, order_date_2nd) < 7 THEN '< 07 days'\r\n",
                "        WHEN DATEDIFF(DAY, order_date_1st, order_date_2nd) BETWEEN 7 AND 30 THEN '07 - 30 days'\r\n",
                "        ELSE '> 30 days'\r\n",
                "    END AS purchase_gap,\r\n",
                "    COUNT(DISTINCT CustomerNo) AS num_custs\r\n",
                "FROM cte02\r\n",
                "WHERE order_date_2nd IS NOT NULL \r\n",
                "GROUP BY\r\n",
                "    YEAR(order_date_1st), MONTH(order_date_1st),\r\n",
                "    CASE\r\n",
                "        WHEN DATEDIFF(DAY, order_date_1st, order_date_2nd) < 7 THEN '< 07 days'\r\n",
                "        WHEN DATEDIFF(DAY, order_date_1st, order_date_2nd) BETWEEN 7 AND 30 THEN '07 - 30 days'\r\n",
                "        ELSE '> 30 days'\r\n",
                "    END\r\n",
                "ORDER BY purchase_1st_year, purchase_1st_month, purchase_gap;\r\n",
                ""
            ],
            "metadata": {
                "azdata_cell_guid": "c3b2ce89-28b4-4e6d-a0c0-6d365bf53155",
                "language": "sql"
            },
            "outputs": [
                {
                    "output_type": "display_data",
                    "data": {
                        "text/html": "(36 rows affected)"
                    },
                    "metadata": {}
                },
                {
                    "output_type": "display_data",
                    "data": {
                        "text/html": "Total execution time: 00:00:00.789"
                    },
                    "metadata": {}
                },
                {
                    "output_type": "execute_result",
                    "execution_count": 48,
                    "data": {
                        "application/vnd.dataresource+json": {
                            "schema": {
                                "fields": [
                                    {
                                        "name": "purchase_1st_year"
                                    },
                                    {
                                        "name": "purchase_1st_month"
                                    },
                                    {
                                        "name": "purchase_gap"
                                    },
                                    {
                                        "name": "num_custs"
                                    }
                                ]
                            },
                            "data": [
                                {
                                    "purchase_1st_year": "2018",
                                    "purchase_1st_month": "12",
                                    "purchase_gap": "< 07 days",
                                    "num_custs": "88"
                                },
                                {
                                    "purchase_1st_year": "2018",
                                    "purchase_1st_month": "12",
                                    "purchase_gap": "> 30 days",
                                    "num_custs": "600"
                                },
                                {
                                    "purchase_1st_year": "2018",
                                    "purchase_1st_month": "12",
                                    "purchase_gap": "07 - 30 days",
                                    "num_custs": "199"
                                },
                                {
                                    "purchase_1st_year": "2019",
                                    "purchase_1st_month": "1",
                                    "purchase_gap": "< 07 days",
                                    "num_custs": "12"
                                },
                                {
                                    "purchase_1st_year": "2019",
                                    "purchase_1st_month": "1",
                                    "purchase_gap": "> 30 days",
                                    "num_custs": "308"
                                },
                                {
                                    "purchase_1st_year": "2019",
                                    "purchase_1st_month": "1",
                                    "purchase_gap": "07 - 30 days",
                                    "num_custs": "73"
                                },
                                {
                                    "purchase_1st_year": "2019",
                                    "purchase_1st_month": "2",
                                    "purchase_gap": "< 07 days",
                                    "num_custs": "8"
                                },
                                {
                                    "purchase_1st_year": "2019",
                                    "purchase_1st_month": "2",
                                    "purchase_gap": "> 30 days",
                                    "num_custs": "275"
                                },
                                {
                                    "purchase_1st_year": "2019",
                                    "purchase_1st_month": "2",
                                    "purchase_gap": "07 - 30 days",
                                    "num_custs": "54"
                                },
                                {
                                    "purchase_1st_year": "2019",
                                    "purchase_1st_month": "3",
                                    "purchase_gap": "< 07 days",
                                    "num_custs": "9"
                                },
                                {
                                    "purchase_1st_year": "2019",
                                    "purchase_1st_month": "3",
                                    "purchase_gap": "> 30 days",
                                    "num_custs": "300"
                                },
                                {
                                    "purchase_1st_year": "2019",
                                    "purchase_1st_month": "3",
                                    "purchase_gap": "07 - 30 days",
                                    "num_custs": "55"
                                },
                                {
                                    "purchase_1st_year": "2019",
                                    "purchase_1st_month": "4",
                                    "purchase_gap": "< 07 days",
                                    "num_custs": "6"
                                },
                                {
                                    "purchase_1st_year": "2019",
                                    "purchase_1st_month": "4",
                                    "purchase_gap": "> 30 days",
                                    "num_custs": "169"
                                },
                                {
                                    "purchase_1st_year": "2019",
                                    "purchase_1st_month": "4",
                                    "purchase_gap": "07 - 30 days",
                                    "num_custs": "39"
                                },
                                {
                                    "purchase_1st_year": "2019",
                                    "purchase_1st_month": "5",
                                    "purchase_gap": "< 07 days",
                                    "num_custs": "6"
                                },
                                {
                                    "purchase_1st_year": "2019",
                                    "purchase_1st_month": "5",
                                    "purchase_gap": "> 30 days",
                                    "num_custs": "184"
                                },
                                {
                                    "purchase_1st_year": "2019",
                                    "purchase_1st_month": "5",
                                    "purchase_gap": "07 - 30 days",
                                    "num_custs": "33"
                                },
                                {
                                    "purchase_1st_year": "2019",
                                    "purchase_1st_month": "6",
                                    "purchase_gap": "< 07 days",
                                    "num_custs": "10"
                                },
                                {
                                    "purchase_1st_year": "2019",
                                    "purchase_1st_month": "6",
                                    "purchase_gap": "> 30 days",
                                    "num_custs": "128"
                                },
                                {
                                    "purchase_1st_year": "2019",
                                    "purchase_1st_month": "6",
                                    "purchase_gap": "07 - 30 days",
                                    "num_custs": "29"
                                },
                                {
                                    "purchase_1st_year": "2019",
                                    "purchase_1st_month": "7",
                                    "purchase_gap": "< 07 days",
                                    "num_custs": "4"
                                },
                                {
                                    "purchase_1st_year": "2019",
                                    "purchase_1st_month": "7",
                                    "purchase_gap": "> 30 days",
                                    "num_custs": "87"
                                },
                                {
                                    "purchase_1st_year": "2019",
                                    "purchase_1st_month": "7",
                                    "purchase_gap": "07 - 30 days",
                                    "num_custs": "27"
                                },
                                {
                                    "purchase_1st_year": "2019",
                                    "purchase_1st_month": "8",
                                    "purchase_gap": "< 07 days",
                                    "num_custs": "2"
                                },
                                {
                                    "purchase_1st_year": "2019",
                                    "purchase_1st_month": "8",
                                    "purchase_gap": "> 30 days",
                                    "num_custs": "73"
                                },
                                {
                                    "purchase_1st_year": "2019",
                                    "purchase_1st_month": "8",
                                    "purchase_gap": "07 - 30 days",
                                    "num_custs": "12"
                                },
                                {
                                    "purchase_1st_year": "2019",
                                    "purchase_1st_month": "9",
                                    "purchase_gap": "< 07 days",
                                    "num_custs": "6"
                                },
                                {
                                    "purchase_1st_year": "2019",
                                    "purchase_1st_month": "9",
                                    "purchase_gap": "> 30 days",
                                    "num_custs": "91"
                                },
                                {
                                    "purchase_1st_year": "2019",
                                    "purchase_1st_month": "9",
                                    "purchase_gap": "07 - 30 days",
                                    "num_custs": "42"
                                },
                                {
                                    "purchase_1st_year": "2019",
                                    "purchase_1st_month": "10",
                                    "purchase_gap": "< 07 days",
                                    "num_custs": "11"
                                },
                                {
                                    "purchase_1st_year": "2019",
                                    "purchase_1st_month": "10",
                                    "purchase_gap": "> 30 days",
                                    "num_custs": "38"
                                },
                                {
                                    "purchase_1st_year": "2019",
                                    "purchase_1st_month": "10",
                                    "purchase_gap": "07 - 30 days",
                                    "num_custs": "60"
                                },
                                {
                                    "purchase_1st_year": "2019",
                                    "purchase_1st_month": "11",
                                    "purchase_gap": "< 07 days",
                                    "num_custs": "14"
                                },
                                {
                                    "purchase_1st_year": "2019",
                                    "purchase_1st_month": "11",
                                    "purchase_gap": "> 30 days",
                                    "num_custs": "6"
                                },
                                {
                                    "purchase_1st_year": "2019",
                                    "purchase_1st_month": "11",
                                    "purchase_gap": "07 - 30 days",
                                    "num_custs": "39"
                                }
                            ]
                        },
                        "text/html": "<table><tr><th>purchase_1st_year</th><th>purchase_1st_month</th><th>purchase_gap</th><th>num_custs</th></tr><tr><td>2018</td><td>12</td><td>&lt; 07 days</td><td>88</td></tr><tr><td>2018</td><td>12</td><td>&gt; 30 days</td><td>600</td></tr><tr><td>2018</td><td>12</td><td>07 - 30 days</td><td>199</td></tr><tr><td>2019</td><td>1</td><td>&lt; 07 days</td><td>12</td></tr><tr><td>2019</td><td>1</td><td>&gt; 30 days</td><td>308</td></tr><tr><td>2019</td><td>1</td><td>07 - 30 days</td><td>73</td></tr><tr><td>2019</td><td>2</td><td>&lt; 07 days</td><td>8</td></tr><tr><td>2019</td><td>2</td><td>&gt; 30 days</td><td>275</td></tr><tr><td>2019</td><td>2</td><td>07 - 30 days</td><td>54</td></tr><tr><td>2019</td><td>3</td><td>&lt; 07 days</td><td>9</td></tr><tr><td>2019</td><td>3</td><td>&gt; 30 days</td><td>300</td></tr><tr><td>2019</td><td>3</td><td>07 - 30 days</td><td>55</td></tr><tr><td>2019</td><td>4</td><td>&lt; 07 days</td><td>6</td></tr><tr><td>2019</td><td>4</td><td>&gt; 30 days</td><td>169</td></tr><tr><td>2019</td><td>4</td><td>07 - 30 days</td><td>39</td></tr><tr><td>2019</td><td>5</td><td>&lt; 07 days</td><td>6</td></tr><tr><td>2019</td><td>5</td><td>&gt; 30 days</td><td>184</td></tr><tr><td>2019</td><td>5</td><td>07 - 30 days</td><td>33</td></tr><tr><td>2019</td><td>6</td><td>&lt; 07 days</td><td>10</td></tr><tr><td>2019</td><td>6</td><td>&gt; 30 days</td><td>128</td></tr><tr><td>2019</td><td>6</td><td>07 - 30 days</td><td>29</td></tr><tr><td>2019</td><td>7</td><td>&lt; 07 days</td><td>4</td></tr><tr><td>2019</td><td>7</td><td>&gt; 30 days</td><td>87</td></tr><tr><td>2019</td><td>7</td><td>07 - 30 days</td><td>27</td></tr><tr><td>2019</td><td>8</td><td>&lt; 07 days</td><td>2</td></tr><tr><td>2019</td><td>8</td><td>&gt; 30 days</td><td>73</td></tr><tr><td>2019</td><td>8</td><td>07 - 30 days</td><td>12</td></tr><tr><td>2019</td><td>9</td><td>&lt; 07 days</td><td>6</td></tr><tr><td>2019</td><td>9</td><td>&gt; 30 days</td><td>91</td></tr><tr><td>2019</td><td>9</td><td>07 - 30 days</td><td>42</td></tr><tr><td>2019</td><td>10</td><td>&lt; 07 days</td><td>11</td></tr><tr><td>2019</td><td>10</td><td>&gt; 30 days</td><td>38</td></tr><tr><td>2019</td><td>10</td><td>07 - 30 days</td><td>60</td></tr><tr><td>2019</td><td>11</td><td>&lt; 07 days</td><td>14</td></tr><tr><td>2019</td><td>11</td><td>&gt; 30 days</td><td>6</td></tr><tr><td>2019</td><td>11</td><td>07 - 30 days</td><td>39</td></tr></table>"
                    },
                    "metadata": {}
                }
            ],
            "execution_count": 48
        },
        {
            "cell_type": "markdown",
            "source": [
                "## **11\\. For each week, how many customers are classified as retained (purchased within 4 weeks), returning (purchased after more than 4 weeks), or new (first-time buyers)**"
            ],
            "metadata": {
                "azdata_cell_guid": "db7a443e-78f3-4917-830b-59160cdcd973"
            },
            "attachments": {}
        },
        {
            "cell_type": "markdown",
            "source": [
                "_Situation 1 : Customers from different years are always new_"
            ],
            "metadata": {
                "azdata_cell_guid": "3d4c32cc-7ba4-4758-a59b-65aa77d46890"
            },
            "attachments": {}
        },
        {
            "cell_type": "code",
            "source": [
                "-- Step 1: Extract distinct customer IDs along with their purchase week and year  \r\n",
                "WITH cte_01 AS (\r\n",
                "    SELECT DISTINCT \r\n",
                "        CustomerNo,\r\n",
                "        DATEPART(WEEK, Date) AS [week],  \r\n",
                "        YEAR(Date) AS [year]  \r\n",
                "    FROM [sale_transaction-data]\r\n",
                "),\r\n",
                "\r\n",
                "-- Step 2: Calculate the previous purchase week and year for each customer \r\n",
                "-- and determine the difference in weeks between consecutive purchases  \r\n",
                "cte_02 AS (\r\n",
                "    SELECT \r\n",
                "        CustomerNo,\r\n",
                "        [week],\r\n",
                "        [year],\r\n",
                "        LAG([week]) OVER (PARTITION BY CustomerNo ORDER BY [year], [week]) AS lag_week,  -- Previous purchase week\r\n",
                "        LAG([year]) OVER (PARTITION BY CustomerNo ORDER BY [year], [week]) AS lag_year,  -- Previous purchase year\r\n",
                "        [week] - LAG([week]) OVER (PARTITION BY CustomerNo ORDER BY [year], [week]) AS week_diff  -- Difference in weeks\r\n",
                "    FROM cte_01\r\n",
                "),\r\n",
                "\r\n",
                "-- Step 3: Categorize customers into 'new', 'retained', or 'returning'  \r\n",
                "cte_03 AS (\r\n",
                "    SELECT \r\n",
                "        CustomerNo,\r\n",
                "        [week],\r\n",
                "        [year],\r\n",
                "        CASE\r\n",
                "            WHEN lag_year IS NULL OR lag_year <> [year] THEN 'new'  -- First-time customers or those in a new year\r\n",
                "            WHEN week_diff <= 4 THEN 'retained'  -- Customers who made another purchase within 4 weeks\r\n",
                "            WHEN week_diff > 4 THEN 'returning'  -- Customers who purchased again after more than 4 weeks\r\n",
                "        END AS cust_type\r\n",
                "    FROM cte_02\r\n",
                ")\r\n",
                "\r\n",
                "-- Step 4: Count the number of customers in each category per week  \r\n",
                "SELECT \r\n",
                "    [week],\r\n",
                "    [year],\r\n",
                "    cust_type,\r\n",
                "    COUNT(CustomerNo) AS num_customers  -- Count customers in each category\r\n",
                "FROM cte_03\r\n",
                "GROUP BY [week], [year], cust_type\r\n",
                "ORDER BY [year], [week], cust_type;  -- Sort by year, week, and customer type\r\n",
                ""
            ],
            "metadata": {
                "azdata_cell_guid": "cd618c9b-2324-47f4-8348-25c133415aa7",
                "language": "sql",
                "tags": []
            },
            "outputs": [
                {
                    "output_type": "display_data",
                    "data": {
                        "text/html": "(153 rows affected)"
                    },
                    "metadata": {}
                },
                {
                    "output_type": "display_data",
                    "data": {
                        "text/html": "Total execution time: 00:00:00.732"
                    },
                    "metadata": {}
                },
                {
                    "output_type": "execute_result",
                    "execution_count": 45,
                    "data": {
                        "application/vnd.dataresource+json": {
                            "schema": {
                                "fields": [
                                    {
                                        "name": "week"
                                    },
                                    {
                                        "name": "year"
                                    },
                                    {
                                        "name": "cust_type"
                                    },
                                    {
                                        "name": "num_customers"
                                    }
                                ]
                            },
                            "data": [
                                {
                                    "week": "48",
                                    "year": "2018",
                                    "cust_type": "new",
                                    "num_customers": "101"
                                },
                                {
                                    "week": "49",
                                    "year": "2018",
                                    "cust_type": "new",
                                    "num_customers": "450"
                                },
                                {
                                    "week": "49",
                                    "year": "2018",
                                    "cust_type": "retained",
                                    "num_customers": "27"
                                },
                                {
                                    "week": "50",
                                    "year": "2018",
                                    "cust_type": "new",
                                    "num_customers": "279"
                                },
                                {
                                    "week": "50",
                                    "year": "2018",
                                    "cust_type": "retained",
                                    "num_customers": "104"
                                },
                                {
                                    "week": "51",
                                    "year": "2018",
                                    "cust_type": "new",
                                    "num_customers": "179"
                                },
                                {
                                    "week": "51",
                                    "year": "2018",
                                    "cust_type": "retained",
                                    "num_customers": "107"
                                },
                                {
                                    "week": "52",
                                    "year": "2018",
                                    "cust_type": "new",
                                    "num_customers": "17"
                                },
                                {
                                    "week": "52",
                                    "year": "2018",
                                    "cust_type": "retained",
                                    "num_customers": "8"
                                },
                                {
                                    "week": "1",
                                    "year": "2019",
                                    "cust_type": "new",
                                    "num_customers": "87"
                                },
                                {
                                    "week": "2",
                                    "year": "2019",
                                    "cust_type": "new",
                                    "num_customers": "247"
                                },
                                {
                                    "week": "2",
                                    "year": "2019",
                                    "cust_type": "retained",
                                    "num_customers": "16"
                                },
                                {
                                    "week": "3",
                                    "year": "2019",
                                    "cust_type": "new",
                                    "num_customers": "186"
                                },
                                {
                                    "week": "3",
                                    "year": "2019",
                                    "cust_type": "retained",
                                    "num_customers": "36"
                                },
                                {
                                    "week": "4",
                                    "year": "2019",
                                    "cust_type": "new",
                                    "num_customers": "198"
                                },
                                {
                                    "week": "4",
                                    "year": "2019",
                                    "cust_type": "retained",
                                    "num_customers": "54"
                                },
                                {
                                    "week": "5",
                                    "year": "2019",
                                    "cust_type": "new",
                                    "num_customers": "183"
                                },
                                {
                                    "week": "5",
                                    "year": "2019",
                                    "cust_type": "retained",
                                    "num_customers": "97"
                                },
                                {
                                    "week": "6",
                                    "year": "2019",
                                    "cust_type": "new",
                                    "num_customers": "128"
                                },
                                {
                                    "week": "6",
                                    "year": "2019",
                                    "cust_type": "retained",
                                    "num_customers": "70"
                                },
                                {
                                    "week": "6",
                                    "year": "2019",
                                    "cust_type": "returning",
                                    "num_customers": "5"
                                },
                                {
                                    "week": "7",
                                    "year": "2019",
                                    "cust_type": "new",
                                    "num_customers": "133"
                                },
                                {
                                    "week": "7",
                                    "year": "2019",
                                    "cust_type": "retained",
                                    "num_customers": "88"
                                },
                                {
                                    "week": "7",
                                    "year": "2019",
                                    "cust_type": "returning",
                                    "num_customers": "24"
                                },
                                {
                                    "week": "8",
                                    "year": "2019",
                                    "cust_type": "new",
                                    "num_customers": "136"
                                },
                                {
                                    "week": "8",
                                    "year": "2019",
                                    "cust_type": "retained",
                                    "num_customers": "82"
                                },
                                {
                                    "week": "8",
                                    "year": "2019",
                                    "cust_type": "returning",
                                    "num_customers": "37"
                                },
                                {
                                    "week": "9",
                                    "year": "2019",
                                    "cust_type": "new",
                                    "num_customers": "151"
                                },
                                {
                                    "week": "9",
                                    "year": "2019",
                                    "cust_type": "retained",
                                    "num_customers": "89"
                                },
                                {
                                    "week": "9",
                                    "year": "2019",
                                    "cust_type": "returning",
                                    "num_customers": "36"
                                },
                                {
                                    "week": "10",
                                    "year": "2019",
                                    "cust_type": "new",
                                    "num_customers": "136"
                                },
                                {
                                    "week": "10",
                                    "year": "2019",
                                    "cust_type": "retained",
                                    "num_customers": "82"
                                },
                                {
                                    "week": "10",
                                    "year": "2019",
                                    "cust_type": "returning",
                                    "num_customers": "43"
                                },
                                {
                                    "week": "11",
                                    "year": "2019",
                                    "cust_type": "new",
                                    "num_customers": "105"
                                },
                                {
                                    "week": "11",
                                    "year": "2019",
                                    "cust_type": "retained",
                                    "num_customers": "70"
                                },
                                {
                                    "week": "11",
                                    "year": "2019",
                                    "cust_type": "returning",
                                    "num_customers": "63"
                                },
                                {
                                    "week": "12",
                                    "year": "2019",
                                    "cust_type": "new",
                                    "num_customers": "168"
                                },
                                {
                                    "week": "12",
                                    "year": "2019",
                                    "cust_type": "retained",
                                    "num_customers": "90"
                                },
                                {
                                    "week": "12",
                                    "year": "2019",
                                    "cust_type": "returning",
                                    "num_customers": "66"
                                },
                                {
                                    "week": "13",
                                    "year": "2019",
                                    "cust_type": "new",
                                    "num_customers": "124"
                                },
                                {
                                    "week": "13",
                                    "year": "2019",
                                    "cust_type": "retained",
                                    "num_customers": "106"
                                },
                                {
                                    "week": "13",
                                    "year": "2019",
                                    "cust_type": "returning",
                                    "num_customers": "81"
                                },
                                {
                                    "week": "14",
                                    "year": "2019",
                                    "cust_type": "new",
                                    "num_customers": "111"
                                },
                                {
                                    "week": "14",
                                    "year": "2019",
                                    "cust_type": "retained",
                                    "num_customers": "90"
                                },
                                {
                                    "week": "14",
                                    "year": "2019",
                                    "cust_type": "returning",
                                    "num_customers": "69"
                                },
                                {
                                    "week": "15",
                                    "year": "2019",
                                    "cust_type": "new",
                                    "num_customers": "128"
                                },
                                {
                                    "week": "15",
                                    "year": "2019",
                                    "cust_type": "retained",
                                    "num_customers": "101"
                                },
                                {
                                    "week": "15",
                                    "year": "2019",
                                    "cust_type": "returning",
                                    "num_customers": "85"
                                },
                                {
                                    "week": "16",
                                    "year": "2019",
                                    "cust_type": "new",
                                    "num_customers": "112"
                                },
                                {
                                    "week": "16",
                                    "year": "2019",
                                    "cust_type": "retained",
                                    "num_customers": "114"
                                },
                                {
                                    "week": "16",
                                    "year": "2019",
                                    "cust_type": "returning",
                                    "num_customers": "109"
                                },
                                {
                                    "week": "17",
                                    "year": "2019",
                                    "cust_type": "new",
                                    "num_customers": "58"
                                },
                                {
                                    "week": "17",
                                    "year": "2019",
                                    "cust_type": "retained",
                                    "num_customers": "78"
                                },
                                {
                                    "week": "17",
                                    "year": "2019",
                                    "cust_type": "returning",
                                    "num_customers": "52"
                                },
                                {
                                    "week": "18",
                                    "year": "2019",
                                    "cust_type": "new",
                                    "num_customers": "50"
                                },
                                {
                                    "week": "18",
                                    "year": "2019",
                                    "cust_type": "retained",
                                    "num_customers": "68"
                                },
                                {
                                    "week": "18",
                                    "year": "2019",
                                    "cust_type": "returning",
                                    "num_customers": "62"
                                },
                                {
                                    "week": "19",
                                    "year": "2019",
                                    "cust_type": "new",
                                    "num_customers": "128"
                                },
                                {
                                    "week": "19",
                                    "year": "2019",
                                    "cust_type": "retained",
                                    "num_customers": "121"
                                },
                                {
                                    "week": "19",
                                    "year": "2019",
                                    "cust_type": "returning",
                                    "num_customers": "156"
                                },
                                {
                                    "week": "20",
                                    "year": "2019",
                                    "cust_type": "new",
                                    "num_customers": "82"
                                },
                                {
                                    "week": "20",
                                    "year": "2019",
                                    "cust_type": "retained",
                                    "num_customers": "92"
                                },
                                {
                                    "week": "20",
                                    "year": "2019",
                                    "cust_type": "returning",
                                    "num_customers": "149"
                                },
                                {
                                    "week": "21",
                                    "year": "2019",
                                    "cust_type": "new",
                                    "num_customers": "83"
                                },
                                {
                                    "week": "21",
                                    "year": "2019",
                                    "cust_type": "retained",
                                    "num_customers": "133"
                                },
                                {
                                    "week": "21",
                                    "year": "2019",
                                    "cust_type": "returning",
                                    "num_customers": "150"
                                },
                                {
                                    "week": "22",
                                    "year": "2019",
                                    "cust_type": "new",
                                    "num_customers": "55"
                                },
                                {
                                    "week": "22",
                                    "year": "2019",
                                    "cust_type": "retained",
                                    "num_customers": "74"
                                },
                                {
                                    "week": "22",
                                    "year": "2019",
                                    "cust_type": "returning",
                                    "num_customers": "81"
                                },
                                {
                                    "week": "23",
                                    "year": "2019",
                                    "cust_type": "new",
                                    "num_customers": "81"
                                },
                                {
                                    "week": "23",
                                    "year": "2019",
                                    "cust_type": "retained",
                                    "num_customers": "142"
                                },
                                {
                                    "week": "23",
                                    "year": "2019",
                                    "cust_type": "returning",
                                    "num_customers": "122"
                                },
                                {
                                    "week": "24",
                                    "year": "2019",
                                    "cust_type": "new",
                                    "num_customers": "76"
                                },
                                {
                                    "week": "24",
                                    "year": "2019",
                                    "cust_type": "retained",
                                    "num_customers": "108"
                                },
                                {
                                    "week": "24",
                                    "year": "2019",
                                    "cust_type": "returning",
                                    "num_customers": "117"
                                },
                                {
                                    "week": "25",
                                    "year": "2019",
                                    "cust_type": "new",
                                    "num_customers": "70"
                                },
                                {
                                    "week": "25",
                                    "year": "2019",
                                    "cust_type": "retained",
                                    "num_customers": "117"
                                },
                                {
                                    "week": "25",
                                    "year": "2019",
                                    "cust_type": "returning",
                                    "num_customers": "137"
                                },
                                {
                                    "week": "26",
                                    "year": "2019",
                                    "cust_type": "new",
                                    "num_customers": "60"
                                },
                                {
                                    "week": "26",
                                    "year": "2019",
                                    "cust_type": "retained",
                                    "num_customers": "85"
                                },
                                {
                                    "week": "26",
                                    "year": "2019",
                                    "cust_type": "returning",
                                    "num_customers": "107"
                                },
                                {
                                    "week": "27",
                                    "year": "2019",
                                    "cust_type": "new",
                                    "num_customers": "51"
                                },
                                {
                                    "week": "27",
                                    "year": "2019",
                                    "cust_type": "retained",
                                    "num_customers": "108"
                                },
                                {
                                    "week": "27",
                                    "year": "2019",
                                    "cust_type": "returning",
                                    "num_customers": "130"
                                },
                                {
                                    "week": "28",
                                    "year": "2019",
                                    "cust_type": "new",
                                    "num_customers": "60"
                                },
                                {
                                    "week": "28",
                                    "year": "2019",
                                    "cust_type": "retained",
                                    "num_customers": "100"
                                },
                                {
                                    "week": "28",
                                    "year": "2019",
                                    "cust_type": "returning",
                                    "num_customers": "130"
                                },
                                {
                                    "week": "29",
                                    "year": "2019",
                                    "cust_type": "new",
                                    "num_customers": "62"
                                },
                                {
                                    "week": "29",
                                    "year": "2019",
                                    "cust_type": "retained",
                                    "num_customers": "98"
                                },
                                {
                                    "week": "29",
                                    "year": "2019",
                                    "cust_type": "returning",
                                    "num_customers": "140"
                                },
                                {
                                    "week": "30",
                                    "year": "2019",
                                    "cust_type": "new",
                                    "num_customers": "54"
                                },
                                {
                                    "week": "30",
                                    "year": "2019",
                                    "cust_type": "retained",
                                    "num_customers": "105"
                                },
                                {
                                    "week": "30",
                                    "year": "2019",
                                    "cust_type": "returning",
                                    "num_customers": "132"
                                },
                                {
                                    "week": "31",
                                    "year": "2019",
                                    "cust_type": "new",
                                    "num_customers": "60"
                                },
                                {
                                    "week": "31",
                                    "year": "2019",
                                    "cust_type": "retained",
                                    "num_customers": "116"
                                },
                                {
                                    "week": "31",
                                    "year": "2019",
                                    "cust_type": "returning",
                                    "num_customers": "110"
                                },
                                {
                                    "week": "32",
                                    "year": "2019",
                                    "cust_type": "new",
                                    "num_customers": "41"
                                },
                                {
                                    "week": "32",
                                    "year": "2019",
                                    "cust_type": "retained",
                                    "num_customers": "112"
                                },
                                {
                                    "week": "32",
                                    "year": "2019",
                                    "cust_type": "returning",
                                    "num_customers": "117"
                                },
                                {
                                    "week": "33",
                                    "year": "2019",
                                    "cust_type": "new",
                                    "num_customers": "34"
                                },
                                {
                                    "week": "33",
                                    "year": "2019",
                                    "cust_type": "retained",
                                    "num_customers": "98"
                                },
                                {
                                    "week": "33",
                                    "year": "2019",
                                    "cust_type": "returning",
                                    "num_customers": "122"
                                },
                                {
                                    "week": "34",
                                    "year": "2019",
                                    "cust_type": "new",
                                    "num_customers": "42"
                                },
                                {
                                    "week": "34",
                                    "year": "2019",
                                    "cust_type": "retained",
                                    "num_customers": "133"
                                },
                                {
                                    "week": "34",
                                    "year": "2019",
                                    "cust_type": "returning",
                                    "num_customers": "151"
                                },
                                {
                                    "week": "35",
                                    "year": "2019",
                                    "cust_type": "new",
                                    "num_customers": "40"
                                },
                                {
                                    "week": "35",
                                    "year": "2019",
                                    "cust_type": "retained",
                                    "num_customers": "75"
                                },
                                {
                                    "week": "35",
                                    "year": "2019",
                                    "cust_type": "returning",
                                    "num_customers": "109"
                                },
                                {
                                    "week": "36",
                                    "year": "2019",
                                    "cust_type": "new",
                                    "num_customers": "48"
                                },
                                {
                                    "week": "36",
                                    "year": "2019",
                                    "cust_type": "retained",
                                    "num_customers": "133"
                                },
                                {
                                    "week": "36",
                                    "year": "2019",
                                    "cust_type": "returning",
                                    "num_customers": "139"
                                },
                                {
                                    "week": "37",
                                    "year": "2019",
                                    "cust_type": "new",
                                    "num_customers": "68"
                                },
                                {
                                    "week": "37",
                                    "year": "2019",
                                    "cust_type": "retained",
                                    "num_customers": "119"
                                },
                                {
                                    "week": "37",
                                    "year": "2019",
                                    "cust_type": "returning",
                                    "num_customers": "173"
                                },
                                {
                                    "week": "38",
                                    "year": "2019",
                                    "cust_type": "new",
                                    "num_customers": "63"
                                },
                                {
                                    "week": "38",
                                    "year": "2019",
                                    "cust_type": "retained",
                                    "num_customers": "100"
                                },
                                {
                                    "week": "38",
                                    "year": "2019",
                                    "cust_type": "returning",
                                    "num_customers": "156"
                                },
                                {
                                    "week": "39",
                                    "year": "2019",
                                    "cust_type": "new",
                                    "num_customers": "96"
                                },
                                {
                                    "week": "39",
                                    "year": "2019",
                                    "cust_type": "retained",
                                    "num_customers": "117"
                                },
                                {
                                    "week": "39",
                                    "year": "2019",
                                    "cust_type": "returning",
                                    "num_customers": "211"
                                },
                                {
                                    "week": "40",
                                    "year": "2019",
                                    "cust_type": "new",
                                    "num_customers": "81"
                                },
                                {
                                    "week": "40",
                                    "year": "2019",
                                    "cust_type": "retained",
                                    "num_customers": "141"
                                },
                                {
                                    "week": "40",
                                    "year": "2019",
                                    "cust_type": "returning",
                                    "num_customers": "164"
                                },
                                {
                                    "week": "41",
                                    "year": "2019",
                                    "cust_type": "new",
                                    "num_customers": "100"
                                },
                                {
                                    "week": "41",
                                    "year": "2019",
                                    "cust_type": "retained",
                                    "num_customers": "148"
                                },
                                {
                                    "week": "41",
                                    "year": "2019",
                                    "cust_type": "returning",
                                    "num_customers": "181"
                                },
                                {
                                    "week": "42",
                                    "year": "2019",
                                    "cust_type": "new",
                                    "num_customers": "82"
                                },
                                {
                                    "week": "42",
                                    "year": "2019",
                                    "cust_type": "retained",
                                    "num_customers": "141"
                                },
                                {
                                    "week": "42",
                                    "year": "2019",
                                    "cust_type": "returning",
                                    "num_customers": "164"
                                },
                                {
                                    "week": "43",
                                    "year": "2019",
                                    "cust_type": "new",
                                    "num_customers": "68"
                                },
                                {
                                    "week": "43",
                                    "year": "2019",
                                    "cust_type": "retained",
                                    "num_customers": "125"
                                },
                                {
                                    "week": "43",
                                    "year": "2019",
                                    "cust_type": "returning",
                                    "num_customers": "170"
                                },
                                {
                                    "week": "44",
                                    "year": "2019",
                                    "cust_type": "new",
                                    "num_customers": "87"
                                },
                                {
                                    "week": "44",
                                    "year": "2019",
                                    "cust_type": "retained",
                                    "num_customers": "169"
                                },
                                {
                                    "week": "44",
                                    "year": "2019",
                                    "cust_type": "returning",
                                    "num_customers": "200"
                                },
                                {
                                    "week": "45",
                                    "year": "2019",
                                    "cust_type": "new",
                                    "num_customers": "88"
                                },
                                {
                                    "week": "45",
                                    "year": "2019",
                                    "cust_type": "retained",
                                    "num_customers": "186"
                                },
                                {
                                    "week": "45",
                                    "year": "2019",
                                    "cust_type": "returning",
                                    "num_customers": "236"
                                },
                                {
                                    "week": "46",
                                    "year": "2019",
                                    "cust_type": "new",
                                    "num_customers": "73"
                                },
                                {
                                    "week": "46",
                                    "year": "2019",
                                    "cust_type": "retained",
                                    "num_customers": "222"
                                },
                                {
                                    "week": "46",
                                    "year": "2019",
                                    "cust_type": "returning",
                                    "num_customers": "266"
                                },
                                {
                                    "week": "47",
                                    "year": "2019",
                                    "cust_type": "new",
                                    "num_customers": "73"
                                },
                                {
                                    "week": "47",
                                    "year": "2019",
                                    "cust_type": "retained",
                                    "num_customers": "282"
                                },
                                {
                                    "week": "47",
                                    "year": "2019",
                                    "cust_type": "returning",
                                    "num_customers": "240"
                                },
                                {
                                    "week": "48",
                                    "year": "2019",
                                    "cust_type": "new",
                                    "num_customers": "72"
                                },
                                {
                                    "week": "48",
                                    "year": "2019",
                                    "cust_type": "retained",
                                    "num_customers": "272"
                                },
                                {
                                    "week": "48",
                                    "year": "2019",
                                    "cust_type": "returning",
                                    "num_customers": "166"
                                },
                                {
                                    "week": "49",
                                    "year": "2019",
                                    "cust_type": "new",
                                    "num_customers": "45"
                                },
                                {
                                    "week": "49",
                                    "year": "2019",
                                    "cust_type": "retained",
                                    "num_customers": "309"
                                },
                                {
                                    "week": "49",
                                    "year": "2019",
                                    "cust_type": "returning",
                                    "num_customers": "190"
                                },
                                {
                                    "week": "50",
                                    "year": "2019",
                                    "cust_type": "new",
                                    "num_customers": "8"
                                },
                                {
                                    "week": "50",
                                    "year": "2019",
                                    "cust_type": "retained",
                                    "num_customers": "95"
                                },
                                {
                                    "week": "50",
                                    "year": "2019",
                                    "cust_type": "returning",
                                    "num_customers": "45"
                                }
                            ]
                        },
                        "text/html": "<table><tr><th>week</th><th>year</th><th>cust_type</th><th>num_customers</th></tr><tr><td>48</td><td>2018</td><td>new</td><td>101</td></tr><tr><td>49</td><td>2018</td><td>new</td><td>450</td></tr><tr><td>49</td><td>2018</td><td>retained</td><td>27</td></tr><tr><td>50</td><td>2018</td><td>new</td><td>279</td></tr><tr><td>50</td><td>2018</td><td>retained</td><td>104</td></tr><tr><td>51</td><td>2018</td><td>new</td><td>179</td></tr><tr><td>51</td><td>2018</td><td>retained</td><td>107</td></tr><tr><td>52</td><td>2018</td><td>new</td><td>17</td></tr><tr><td>52</td><td>2018</td><td>retained</td><td>8</td></tr><tr><td>1</td><td>2019</td><td>new</td><td>87</td></tr><tr><td>2</td><td>2019</td><td>new</td><td>247</td></tr><tr><td>2</td><td>2019</td><td>retained</td><td>16</td></tr><tr><td>3</td><td>2019</td><td>new</td><td>186</td></tr><tr><td>3</td><td>2019</td><td>retained</td><td>36</td></tr><tr><td>4</td><td>2019</td><td>new</td><td>198</td></tr><tr><td>4</td><td>2019</td><td>retained</td><td>54</td></tr><tr><td>5</td><td>2019</td><td>new</td><td>183</td></tr><tr><td>5</td><td>2019</td><td>retained</td><td>97</td></tr><tr><td>6</td><td>2019</td><td>new</td><td>128</td></tr><tr><td>6</td><td>2019</td><td>retained</td><td>70</td></tr><tr><td>6</td><td>2019</td><td>returning</td><td>5</td></tr><tr><td>7</td><td>2019</td><td>new</td><td>133</td></tr><tr><td>7</td><td>2019</td><td>retained</td><td>88</td></tr><tr><td>7</td><td>2019</td><td>returning</td><td>24</td></tr><tr><td>8</td><td>2019</td><td>new</td><td>136</td></tr><tr><td>8</td><td>2019</td><td>retained</td><td>82</td></tr><tr><td>8</td><td>2019</td><td>returning</td><td>37</td></tr><tr><td>9</td><td>2019</td><td>new</td><td>151</td></tr><tr><td>9</td><td>2019</td><td>retained</td><td>89</td></tr><tr><td>9</td><td>2019</td><td>returning</td><td>36</td></tr><tr><td>10</td><td>2019</td><td>new</td><td>136</td></tr><tr><td>10</td><td>2019</td><td>retained</td><td>82</td></tr><tr><td>10</td><td>2019</td><td>returning</td><td>43</td></tr><tr><td>11</td><td>2019</td><td>new</td><td>105</td></tr><tr><td>11</td><td>2019</td><td>retained</td><td>70</td></tr><tr><td>11</td><td>2019</td><td>returning</td><td>63</td></tr><tr><td>12</td><td>2019</td><td>new</td><td>168</td></tr><tr><td>12</td><td>2019</td><td>retained</td><td>90</td></tr><tr><td>12</td><td>2019</td><td>returning</td><td>66</td></tr><tr><td>13</td><td>2019</td><td>new</td><td>124</td></tr><tr><td>13</td><td>2019</td><td>retained</td><td>106</td></tr><tr><td>13</td><td>2019</td><td>returning</td><td>81</td></tr><tr><td>14</td><td>2019</td><td>new</td><td>111</td></tr><tr><td>14</td><td>2019</td><td>retained</td><td>90</td></tr><tr><td>14</td><td>2019</td><td>returning</td><td>69</td></tr><tr><td>15</td><td>2019</td><td>new</td><td>128</td></tr><tr><td>15</td><td>2019</td><td>retained</td><td>101</td></tr><tr><td>15</td><td>2019</td><td>returning</td><td>85</td></tr><tr><td>16</td><td>2019</td><td>new</td><td>112</td></tr><tr><td>16</td><td>2019</td><td>retained</td><td>114</td></tr><tr><td>16</td><td>2019</td><td>returning</td><td>109</td></tr><tr><td>17</td><td>2019</td><td>new</td><td>58</td></tr><tr><td>17</td><td>2019</td><td>retained</td><td>78</td></tr><tr><td>17</td><td>2019</td><td>returning</td><td>52</td></tr><tr><td>18</td><td>2019</td><td>new</td><td>50</td></tr><tr><td>18</td><td>2019</td><td>retained</td><td>68</td></tr><tr><td>18</td><td>2019</td><td>returning</td><td>62</td></tr><tr><td>19</td><td>2019</td><td>new</td><td>128</td></tr><tr><td>19</td><td>2019</td><td>retained</td><td>121</td></tr><tr><td>19</td><td>2019</td><td>returning</td><td>156</td></tr><tr><td>20</td><td>2019</td><td>new</td><td>82</td></tr><tr><td>20</td><td>2019</td><td>retained</td><td>92</td></tr><tr><td>20</td><td>2019</td><td>returning</td><td>149</td></tr><tr><td>21</td><td>2019</td><td>new</td><td>83</td></tr><tr><td>21</td><td>2019</td><td>retained</td><td>133</td></tr><tr><td>21</td><td>2019</td><td>returning</td><td>150</td></tr><tr><td>22</td><td>2019</td><td>new</td><td>55</td></tr><tr><td>22</td><td>2019</td><td>retained</td><td>74</td></tr><tr><td>22</td><td>2019</td><td>returning</td><td>81</td></tr><tr><td>23</td><td>2019</td><td>new</td><td>81</td></tr><tr><td>23</td><td>2019</td><td>retained</td><td>142</td></tr><tr><td>23</td><td>2019</td><td>returning</td><td>122</td></tr><tr><td>24</td><td>2019</td><td>new</td><td>76</td></tr><tr><td>24</td><td>2019</td><td>retained</td><td>108</td></tr><tr><td>24</td><td>2019</td><td>returning</td><td>117</td></tr><tr><td>25</td><td>2019</td><td>new</td><td>70</td></tr><tr><td>25</td><td>2019</td><td>retained</td><td>117</td></tr><tr><td>25</td><td>2019</td><td>returning</td><td>137</td></tr><tr><td>26</td><td>2019</td><td>new</td><td>60</td></tr><tr><td>26</td><td>2019</td><td>retained</td><td>85</td></tr><tr><td>26</td><td>2019</td><td>returning</td><td>107</td></tr><tr><td>27</td><td>2019</td><td>new</td><td>51</td></tr><tr><td>27</td><td>2019</td><td>retained</td><td>108</td></tr><tr><td>27</td><td>2019</td><td>returning</td><td>130</td></tr><tr><td>28</td><td>2019</td><td>new</td><td>60</td></tr><tr><td>28</td><td>2019</td><td>retained</td><td>100</td></tr><tr><td>28</td><td>2019</td><td>returning</td><td>130</td></tr><tr><td>29</td><td>2019</td><td>new</td><td>62</td></tr><tr><td>29</td><td>2019</td><td>retained</td><td>98</td></tr><tr><td>29</td><td>2019</td><td>returning</td><td>140</td></tr><tr><td>30</td><td>2019</td><td>new</td><td>54</td></tr><tr><td>30</td><td>2019</td><td>retained</td><td>105</td></tr><tr><td>30</td><td>2019</td><td>returning</td><td>132</td></tr><tr><td>31</td><td>2019</td><td>new</td><td>60</td></tr><tr><td>31</td><td>2019</td><td>retained</td><td>116</td></tr><tr><td>31</td><td>2019</td><td>returning</td><td>110</td></tr><tr><td>32</td><td>2019</td><td>new</td><td>41</td></tr><tr><td>32</td><td>2019</td><td>retained</td><td>112</td></tr><tr><td>32</td><td>2019</td><td>returning</td><td>117</td></tr><tr><td>33</td><td>2019</td><td>new</td><td>34</td></tr><tr><td>33</td><td>2019</td><td>retained</td><td>98</td></tr><tr><td>33</td><td>2019</td><td>returning</td><td>122</td></tr><tr><td>34</td><td>2019</td><td>new</td><td>42</td></tr><tr><td>34</td><td>2019</td><td>retained</td><td>133</td></tr><tr><td>34</td><td>2019</td><td>returning</td><td>151</td></tr><tr><td>35</td><td>2019</td><td>new</td><td>40</td></tr><tr><td>35</td><td>2019</td><td>retained</td><td>75</td></tr><tr><td>35</td><td>2019</td><td>returning</td><td>109</td></tr><tr><td>36</td><td>2019</td><td>new</td><td>48</td></tr><tr><td>36</td><td>2019</td><td>retained</td><td>133</td></tr><tr><td>36</td><td>2019</td><td>returning</td><td>139</td></tr><tr><td>37</td><td>2019</td><td>new</td><td>68</td></tr><tr><td>37</td><td>2019</td><td>retained</td><td>119</td></tr><tr><td>37</td><td>2019</td><td>returning</td><td>173</td></tr><tr><td>38</td><td>2019</td><td>new</td><td>63</td></tr><tr><td>38</td><td>2019</td><td>retained</td><td>100</td></tr><tr><td>38</td><td>2019</td><td>returning</td><td>156</td></tr><tr><td>39</td><td>2019</td><td>new</td><td>96</td></tr><tr><td>39</td><td>2019</td><td>retained</td><td>117</td></tr><tr><td>39</td><td>2019</td><td>returning</td><td>211</td></tr><tr><td>40</td><td>2019</td><td>new</td><td>81</td></tr><tr><td>40</td><td>2019</td><td>retained</td><td>141</td></tr><tr><td>40</td><td>2019</td><td>returning</td><td>164</td></tr><tr><td>41</td><td>2019</td><td>new</td><td>100</td></tr><tr><td>41</td><td>2019</td><td>retained</td><td>148</td></tr><tr><td>41</td><td>2019</td><td>returning</td><td>181</td></tr><tr><td>42</td><td>2019</td><td>new</td><td>82</td></tr><tr><td>42</td><td>2019</td><td>retained</td><td>141</td></tr><tr><td>42</td><td>2019</td><td>returning</td><td>164</td></tr><tr><td>43</td><td>2019</td><td>new</td><td>68</td></tr><tr><td>43</td><td>2019</td><td>retained</td><td>125</td></tr><tr><td>43</td><td>2019</td><td>returning</td><td>170</td></tr><tr><td>44</td><td>2019</td><td>new</td><td>87</td></tr><tr><td>44</td><td>2019</td><td>retained</td><td>169</td></tr><tr><td>44</td><td>2019</td><td>returning</td><td>200</td></tr><tr><td>45</td><td>2019</td><td>new</td><td>88</td></tr><tr><td>45</td><td>2019</td><td>retained</td><td>186</td></tr><tr><td>45</td><td>2019</td><td>returning</td><td>236</td></tr><tr><td>46</td><td>2019</td><td>new</td><td>73</td></tr><tr><td>46</td><td>2019</td><td>retained</td><td>222</td></tr><tr><td>46</td><td>2019</td><td>returning</td><td>266</td></tr><tr><td>47</td><td>2019</td><td>new</td><td>73</td></tr><tr><td>47</td><td>2019</td><td>retained</td><td>282</td></tr><tr><td>47</td><td>2019</td><td>returning</td><td>240</td></tr><tr><td>48</td><td>2019</td><td>new</td><td>72</td></tr><tr><td>48</td><td>2019</td><td>retained</td><td>272</td></tr><tr><td>48</td><td>2019</td><td>returning</td><td>166</td></tr><tr><td>49</td><td>2019</td><td>new</td><td>45</td></tr><tr><td>49</td><td>2019</td><td>retained</td><td>309</td></tr><tr><td>49</td><td>2019</td><td>returning</td><td>190</td></tr><tr><td>50</td><td>2019</td><td>new</td><td>8</td></tr><tr><td>50</td><td>2019</td><td>retained</td><td>95</td></tr><tr><td>50</td><td>2019</td><td>returning</td><td>45</td></tr></table>"
                    },
                    "metadata": {}
                }
            ],
            "execution_count": 45
        },
        {
            "cell_type": "markdown",
            "source": [
                "_Situation 2: Customers from different years can still be retained/returning_"
            ],
            "metadata": {
                "azdata_cell_guid": "96f56a75-eada-4685-a199-f00733bb3344"
            },
            "attachments": {}
        },
        {
            "cell_type": "code",
            "source": [
                "-- Step 1: Extract unique customer transactions with their respective week and year\r\n",
                "WITH cte_01 AS (\r\n",
                "    SELECT DISTINCT \r\n",
                "        CustomerNo,\r\n",
                "        DATEPART(WEEK, Date) AS [week],  -- Extract week number from transaction date\r\n",
                "        YEAR(Date) AS [year]  -- Extract year from transaction date\r\n",
                "    FROM [sale_transaction-data]\r\n",
                "),\r\n",
                "\r\n",
                "-- Step 2: Calculate the previous week's and year's transactions for each customer\r\n",
                "cte_02 AS (\r\n",
                "    SELECT \r\n",
                "        CustomerNo,\r\n",
                "        [week],\r\n",
                "        [year],\r\n",
                "        -- Get the last week's transaction for the same customer\r\n",
                "        LAG([week]) OVER (PARTITION BY CustomerNo ORDER BY [year], [week]) AS lag_week,\r\n",
                "        -- Get the last year's transaction for the same customer\r\n",
                "        LAG([year]) OVER (PARTITION BY CustomerNo ORDER BY [year], [week]) AS lag_year,\r\n",
                "        -- Calculate the difference in weeks between the current and previous transaction\r\n",
                "        [week] - LAG([week]) OVER (PARTITION BY CustomerNo ORDER BY [year], [week]) AS week_diff\r\n",
                "    FROM cte_01\r\n",
                "),\r\n",
                "\r\n",
                "-- Step 3: Classify customers into \"new,\" \"retained,\" or \"returning\" based on purchase patterns\r\n",
                "cte_03 AS (\r\n",
                "    SELECT \r\n",
                "        CustomerNo,\r\n",
                "        [week],\r\n",
                "        [year],\r\n",
                "        CASE\r\n",
                "            -- If the customer has a previous purchase in a different year, check if they are retained or returning\r\n",
                "            WHEN lag_year IS NOT NULL AND lag_year < [year] AND week_diff <= 4 THEN 'retained'\r\n",
                "            WHEN lag_year IS NOT NULL AND lag_year < [year] AND week_diff > 4 THEN 'returning'\r\n",
                "            -- If there is no previous transaction, classify them as \"new\"\r\n",
                "            ELSE 'new'\r\n",
                "        END AS cust_type\r\n",
                "    FROM cte_02\r\n",
                ")\r\n",
                "\r\n",
                "-- Step 4: Count the number of customers in each category per week and year\r\n",
                "SELECT \r\n",
                "    [week],  \r\n",
                "    [year],  \r\n",
                "    cust_type,  -- Customer type (new, retained, returning)\r\n",
                "    COUNT(CustomerNo) AS num_customers  -- Count of customers in each category\r\n",
                "FROM cte_03\r\n",
                "GROUP BY [week], [year], cust_type\r\n",
                "ORDER BY [year], [week], cust_type;\r\n",
                ""
            ],
            "metadata": {
                "azdata_cell_guid": "6c49a5b8-b3c5-41e5-b108-b2ee65791501",
                "language": "sql"
            },
            "outputs": [
                {
                    "output_type": "display_data",
                    "data": {
                        "text/html": "(104 rows affected)"
                    },
                    "metadata": {}
                },
                {
                    "output_type": "display_data",
                    "data": {
                        "text/html": "Total execution time: 00:00:00.611"
                    },
                    "metadata": {}
                },
                {
                    "output_type": "execute_result",
                    "execution_count": 46,
                    "data": {
                        "application/vnd.dataresource+json": {
                            "schema": {
                                "fields": [
                                    {
                                        "name": "week"
                                    },
                                    {
                                        "name": "year"
                                    },
                                    {
                                        "name": "cust_type"
                                    },
                                    {
                                        "name": "num_customers"
                                    }
                                ]
                            },
                            "data": [
                                {
                                    "week": "48",
                                    "year": "2018",
                                    "cust_type": "new",
                                    "num_customers": "101"
                                },
                                {
                                    "week": "49",
                                    "year": "2018",
                                    "cust_type": "new",
                                    "num_customers": "477"
                                },
                                {
                                    "week": "50",
                                    "year": "2018",
                                    "cust_type": "new",
                                    "num_customers": "383"
                                },
                                {
                                    "week": "51",
                                    "year": "2018",
                                    "cust_type": "new",
                                    "num_customers": "286"
                                },
                                {
                                    "week": "52",
                                    "year": "2018",
                                    "cust_type": "new",
                                    "num_customers": "25"
                                },
                                {
                                    "week": "1",
                                    "year": "2019",
                                    "cust_type": "new",
                                    "num_customers": "33"
                                },
                                {
                                    "week": "1",
                                    "year": "2019",
                                    "cust_type": "retained",
                                    "num_customers": "54"
                                },
                                {
                                    "week": "2",
                                    "year": "2019",
                                    "cust_type": "new",
                                    "num_customers": "158"
                                },
                                {
                                    "week": "2",
                                    "year": "2019",
                                    "cust_type": "retained",
                                    "num_customers": "105"
                                },
                                {
                                    "week": "3",
                                    "year": "2019",
                                    "cust_type": "new",
                                    "num_customers": "144"
                                },
                                {
                                    "week": "3",
                                    "year": "2019",
                                    "cust_type": "retained",
                                    "num_customers": "78"
                                },
                                {
                                    "week": "4",
                                    "year": "2019",
                                    "cust_type": "new",
                                    "num_customers": "186"
                                },
                                {
                                    "week": "4",
                                    "year": "2019",
                                    "cust_type": "retained",
                                    "num_customers": "66"
                                },
                                {
                                    "week": "5",
                                    "year": "2019",
                                    "cust_type": "new",
                                    "num_customers": "227"
                                },
                                {
                                    "week": "5",
                                    "year": "2019",
                                    "cust_type": "retained",
                                    "num_customers": "53"
                                },
                                {
                                    "week": "6",
                                    "year": "2019",
                                    "cust_type": "new",
                                    "num_customers": "165"
                                },
                                {
                                    "week": "6",
                                    "year": "2019",
                                    "cust_type": "retained",
                                    "num_customers": "38"
                                },
                                {
                                    "week": "7",
                                    "year": "2019",
                                    "cust_type": "new",
                                    "num_customers": "208"
                                },
                                {
                                    "week": "7",
                                    "year": "2019",
                                    "cust_type": "retained",
                                    "num_customers": "37"
                                },
                                {
                                    "week": "8",
                                    "year": "2019",
                                    "cust_type": "new",
                                    "num_customers": "229"
                                },
                                {
                                    "week": "8",
                                    "year": "2019",
                                    "cust_type": "retained",
                                    "num_customers": "26"
                                },
                                {
                                    "week": "9",
                                    "year": "2019",
                                    "cust_type": "new",
                                    "num_customers": "253"
                                },
                                {
                                    "week": "9",
                                    "year": "2019",
                                    "cust_type": "retained",
                                    "num_customers": "23"
                                },
                                {
                                    "week": "10",
                                    "year": "2019",
                                    "cust_type": "new",
                                    "num_customers": "232"
                                },
                                {
                                    "week": "10",
                                    "year": "2019",
                                    "cust_type": "retained",
                                    "num_customers": "29"
                                },
                                {
                                    "week": "11",
                                    "year": "2019",
                                    "cust_type": "new",
                                    "num_customers": "220"
                                },
                                {
                                    "week": "11",
                                    "year": "2019",
                                    "cust_type": "retained",
                                    "num_customers": "18"
                                },
                                {
                                    "week": "12",
                                    "year": "2019",
                                    "cust_type": "new",
                                    "num_customers": "303"
                                },
                                {
                                    "week": "12",
                                    "year": "2019",
                                    "cust_type": "retained",
                                    "num_customers": "21"
                                },
                                {
                                    "week": "13",
                                    "year": "2019",
                                    "cust_type": "new",
                                    "num_customers": "283"
                                },
                                {
                                    "week": "13",
                                    "year": "2019",
                                    "cust_type": "retained",
                                    "num_customers": "28"
                                },
                                {
                                    "week": "14",
                                    "year": "2019",
                                    "cust_type": "new",
                                    "num_customers": "246"
                                },
                                {
                                    "week": "14",
                                    "year": "2019",
                                    "cust_type": "retained",
                                    "num_customers": "24"
                                },
                                {
                                    "week": "15",
                                    "year": "2019",
                                    "cust_type": "new",
                                    "num_customers": "291"
                                },
                                {
                                    "week": "15",
                                    "year": "2019",
                                    "cust_type": "retained",
                                    "num_customers": "23"
                                },
                                {
                                    "week": "16",
                                    "year": "2019",
                                    "cust_type": "new",
                                    "num_customers": "315"
                                },
                                {
                                    "week": "16",
                                    "year": "2019",
                                    "cust_type": "retained",
                                    "num_customers": "20"
                                },
                                {
                                    "week": "17",
                                    "year": "2019",
                                    "cust_type": "new",
                                    "num_customers": "177"
                                },
                                {
                                    "week": "17",
                                    "year": "2019",
                                    "cust_type": "retained",
                                    "num_customers": "11"
                                },
                                {
                                    "week": "18",
                                    "year": "2019",
                                    "cust_type": "new",
                                    "num_customers": "174"
                                },
                                {
                                    "week": "18",
                                    "year": "2019",
                                    "cust_type": "retained",
                                    "num_customers": "6"
                                },
                                {
                                    "week": "19",
                                    "year": "2019",
                                    "cust_type": "new",
                                    "num_customers": "393"
                                },
                                {
                                    "week": "19",
                                    "year": "2019",
                                    "cust_type": "retained",
                                    "num_customers": "12"
                                },
                                {
                                    "week": "20",
                                    "year": "2019",
                                    "cust_type": "new",
                                    "num_customers": "315"
                                },
                                {
                                    "week": "20",
                                    "year": "2019",
                                    "cust_type": "retained",
                                    "num_customers": "8"
                                },
                                {
                                    "week": "21",
                                    "year": "2019",
                                    "cust_type": "new",
                                    "num_customers": "354"
                                },
                                {
                                    "week": "21",
                                    "year": "2019",
                                    "cust_type": "retained",
                                    "num_customers": "12"
                                },
                                {
                                    "week": "22",
                                    "year": "2019",
                                    "cust_type": "new",
                                    "num_customers": "204"
                                },
                                {
                                    "week": "22",
                                    "year": "2019",
                                    "cust_type": "retained",
                                    "num_customers": "6"
                                },
                                {
                                    "week": "23",
                                    "year": "2019",
                                    "cust_type": "new",
                                    "num_customers": "335"
                                },
                                {
                                    "week": "23",
                                    "year": "2019",
                                    "cust_type": "retained",
                                    "num_customers": "10"
                                },
                                {
                                    "week": "24",
                                    "year": "2019",
                                    "cust_type": "new",
                                    "num_customers": "291"
                                },
                                {
                                    "week": "24",
                                    "year": "2019",
                                    "cust_type": "retained",
                                    "num_customers": "10"
                                },
                                {
                                    "week": "25",
                                    "year": "2019",
                                    "cust_type": "new",
                                    "num_customers": "317"
                                },
                                {
                                    "week": "25",
                                    "year": "2019",
                                    "cust_type": "retained",
                                    "num_customers": "7"
                                },
                                {
                                    "week": "26",
                                    "year": "2019",
                                    "cust_type": "new",
                                    "num_customers": "246"
                                },
                                {
                                    "week": "26",
                                    "year": "2019",
                                    "cust_type": "retained",
                                    "num_customers": "6"
                                },
                                {
                                    "week": "27",
                                    "year": "2019",
                                    "cust_type": "new",
                                    "num_customers": "282"
                                },
                                {
                                    "week": "27",
                                    "year": "2019",
                                    "cust_type": "retained",
                                    "num_customers": "7"
                                },
                                {
                                    "week": "28",
                                    "year": "2019",
                                    "cust_type": "new",
                                    "num_customers": "284"
                                },
                                {
                                    "week": "28",
                                    "year": "2019",
                                    "cust_type": "retained",
                                    "num_customers": "6"
                                },
                                {
                                    "week": "29",
                                    "year": "2019",
                                    "cust_type": "new",
                                    "num_customers": "290"
                                },
                                {
                                    "week": "29",
                                    "year": "2019",
                                    "cust_type": "retained",
                                    "num_customers": "10"
                                },
                                {
                                    "week": "30",
                                    "year": "2019",
                                    "cust_type": "new",
                                    "num_customers": "282"
                                },
                                {
                                    "week": "30",
                                    "year": "2019",
                                    "cust_type": "retained",
                                    "num_customers": "9"
                                },
                                {
                                    "week": "31",
                                    "year": "2019",
                                    "cust_type": "new",
                                    "num_customers": "282"
                                },
                                {
                                    "week": "31",
                                    "year": "2019",
                                    "cust_type": "retained",
                                    "num_customers": "4"
                                },
                                {
                                    "week": "32",
                                    "year": "2019",
                                    "cust_type": "new",
                                    "num_customers": "266"
                                },
                                {
                                    "week": "32",
                                    "year": "2019",
                                    "cust_type": "retained",
                                    "num_customers": "4"
                                },
                                {
                                    "week": "33",
                                    "year": "2019",
                                    "cust_type": "new",
                                    "num_customers": "249"
                                },
                                {
                                    "week": "33",
                                    "year": "2019",
                                    "cust_type": "retained",
                                    "num_customers": "5"
                                },
                                {
                                    "week": "34",
                                    "year": "2019",
                                    "cust_type": "new",
                                    "num_customers": "323"
                                },
                                {
                                    "week": "34",
                                    "year": "2019",
                                    "cust_type": "retained",
                                    "num_customers": "3"
                                },
                                {
                                    "week": "35",
                                    "year": "2019",
                                    "cust_type": "new",
                                    "num_customers": "221"
                                },
                                {
                                    "week": "35",
                                    "year": "2019",
                                    "cust_type": "retained",
                                    "num_customers": "3"
                                },
                                {
                                    "week": "36",
                                    "year": "2019",
                                    "cust_type": "new",
                                    "num_customers": "316"
                                },
                                {
                                    "week": "36",
                                    "year": "2019",
                                    "cust_type": "retained",
                                    "num_customers": "4"
                                },
                                {
                                    "week": "37",
                                    "year": "2019",
                                    "cust_type": "new",
                                    "num_customers": "355"
                                },
                                {
                                    "week": "37",
                                    "year": "2019",
                                    "cust_type": "retained",
                                    "num_customers": "5"
                                },
                                {
                                    "week": "38",
                                    "year": "2019",
                                    "cust_type": "new",
                                    "num_customers": "311"
                                },
                                {
                                    "week": "38",
                                    "year": "2019",
                                    "cust_type": "retained",
                                    "num_customers": "8"
                                },
                                {
                                    "week": "39",
                                    "year": "2019",
                                    "cust_type": "new",
                                    "num_customers": "414"
                                },
                                {
                                    "week": "39",
                                    "year": "2019",
                                    "cust_type": "retained",
                                    "num_customers": "10"
                                },
                                {
                                    "week": "40",
                                    "year": "2019",
                                    "cust_type": "new",
                                    "num_customers": "379"
                                },
                                {
                                    "week": "40",
                                    "year": "2019",
                                    "cust_type": "retained",
                                    "num_customers": "7"
                                },
                                {
                                    "week": "41",
                                    "year": "2019",
                                    "cust_type": "new",
                                    "num_customers": "426"
                                },
                                {
                                    "week": "41",
                                    "year": "2019",
                                    "cust_type": "retained",
                                    "num_customers": "3"
                                },
                                {
                                    "week": "42",
                                    "year": "2019",
                                    "cust_type": "new",
                                    "num_customers": "382"
                                },
                                {
                                    "week": "42",
                                    "year": "2019",
                                    "cust_type": "retained",
                                    "num_customers": "5"
                                },
                                {
                                    "week": "43",
                                    "year": "2019",
                                    "cust_type": "new",
                                    "num_customers": "360"
                                },
                                {
                                    "week": "43",
                                    "year": "2019",
                                    "cust_type": "retained",
                                    "num_customers": "3"
                                },
                                {
                                    "week": "44",
                                    "year": "2019",
                                    "cust_type": "new",
                                    "num_customers": "451"
                                },
                                {
                                    "week": "44",
                                    "year": "2019",
                                    "cust_type": "retained",
                                    "num_customers": "5"
                                },
                                {
                                    "week": "45",
                                    "year": "2019",
                                    "cust_type": "new",
                                    "num_customers": "499"
                                },
                                {
                                    "week": "45",
                                    "year": "2019",
                                    "cust_type": "retained",
                                    "num_customers": "11"
                                },
                                {
                                    "week": "46",
                                    "year": "2019",
                                    "cust_type": "new",
                                    "num_customers": "553"
                                },
                                {
                                    "week": "46",
                                    "year": "2019",
                                    "cust_type": "retained",
                                    "num_customers": "8"
                                },
                                {
                                    "week": "47",
                                    "year": "2019",
                                    "cust_type": "new",
                                    "num_customers": "587"
                                },
                                {
                                    "week": "47",
                                    "year": "2019",
                                    "cust_type": "retained",
                                    "num_customers": "8"
                                },
                                {
                                    "week": "48",
                                    "year": "2019",
                                    "cust_type": "new",
                                    "num_customers": "495"
                                },
                                {
                                    "week": "48",
                                    "year": "2019",
                                    "cust_type": "retained",
                                    "num_customers": "15"
                                },
                                {
                                    "week": "49",
                                    "year": "2019",
                                    "cust_type": "new",
                                    "num_customers": "538"
                                },
                                {
                                    "week": "49",
                                    "year": "2019",
                                    "cust_type": "retained",
                                    "num_customers": "6"
                                },
                                {
                                    "week": "50",
                                    "year": "2019",
                                    "cust_type": "new",
                                    "num_customers": "148"
                                }
                            ]
                        },
                        "text/html": "<table><tr><th>week</th><th>year</th><th>cust_type</th><th>num_customers</th></tr><tr><td>48</td><td>2018</td><td>new</td><td>101</td></tr><tr><td>49</td><td>2018</td><td>new</td><td>477</td></tr><tr><td>50</td><td>2018</td><td>new</td><td>383</td></tr><tr><td>51</td><td>2018</td><td>new</td><td>286</td></tr><tr><td>52</td><td>2018</td><td>new</td><td>25</td></tr><tr><td>1</td><td>2019</td><td>new</td><td>33</td></tr><tr><td>1</td><td>2019</td><td>retained</td><td>54</td></tr><tr><td>2</td><td>2019</td><td>new</td><td>158</td></tr><tr><td>2</td><td>2019</td><td>retained</td><td>105</td></tr><tr><td>3</td><td>2019</td><td>new</td><td>144</td></tr><tr><td>3</td><td>2019</td><td>retained</td><td>78</td></tr><tr><td>4</td><td>2019</td><td>new</td><td>186</td></tr><tr><td>4</td><td>2019</td><td>retained</td><td>66</td></tr><tr><td>5</td><td>2019</td><td>new</td><td>227</td></tr><tr><td>5</td><td>2019</td><td>retained</td><td>53</td></tr><tr><td>6</td><td>2019</td><td>new</td><td>165</td></tr><tr><td>6</td><td>2019</td><td>retained</td><td>38</td></tr><tr><td>7</td><td>2019</td><td>new</td><td>208</td></tr><tr><td>7</td><td>2019</td><td>retained</td><td>37</td></tr><tr><td>8</td><td>2019</td><td>new</td><td>229</td></tr><tr><td>8</td><td>2019</td><td>retained</td><td>26</td></tr><tr><td>9</td><td>2019</td><td>new</td><td>253</td></tr><tr><td>9</td><td>2019</td><td>retained</td><td>23</td></tr><tr><td>10</td><td>2019</td><td>new</td><td>232</td></tr><tr><td>10</td><td>2019</td><td>retained</td><td>29</td></tr><tr><td>11</td><td>2019</td><td>new</td><td>220</td></tr><tr><td>11</td><td>2019</td><td>retained</td><td>18</td></tr><tr><td>12</td><td>2019</td><td>new</td><td>303</td></tr><tr><td>12</td><td>2019</td><td>retained</td><td>21</td></tr><tr><td>13</td><td>2019</td><td>new</td><td>283</td></tr><tr><td>13</td><td>2019</td><td>retained</td><td>28</td></tr><tr><td>14</td><td>2019</td><td>new</td><td>246</td></tr><tr><td>14</td><td>2019</td><td>retained</td><td>24</td></tr><tr><td>15</td><td>2019</td><td>new</td><td>291</td></tr><tr><td>15</td><td>2019</td><td>retained</td><td>23</td></tr><tr><td>16</td><td>2019</td><td>new</td><td>315</td></tr><tr><td>16</td><td>2019</td><td>retained</td><td>20</td></tr><tr><td>17</td><td>2019</td><td>new</td><td>177</td></tr><tr><td>17</td><td>2019</td><td>retained</td><td>11</td></tr><tr><td>18</td><td>2019</td><td>new</td><td>174</td></tr><tr><td>18</td><td>2019</td><td>retained</td><td>6</td></tr><tr><td>19</td><td>2019</td><td>new</td><td>393</td></tr><tr><td>19</td><td>2019</td><td>retained</td><td>12</td></tr><tr><td>20</td><td>2019</td><td>new</td><td>315</td></tr><tr><td>20</td><td>2019</td><td>retained</td><td>8</td></tr><tr><td>21</td><td>2019</td><td>new</td><td>354</td></tr><tr><td>21</td><td>2019</td><td>retained</td><td>12</td></tr><tr><td>22</td><td>2019</td><td>new</td><td>204</td></tr><tr><td>22</td><td>2019</td><td>retained</td><td>6</td></tr><tr><td>23</td><td>2019</td><td>new</td><td>335</td></tr><tr><td>23</td><td>2019</td><td>retained</td><td>10</td></tr><tr><td>24</td><td>2019</td><td>new</td><td>291</td></tr><tr><td>24</td><td>2019</td><td>retained</td><td>10</td></tr><tr><td>25</td><td>2019</td><td>new</td><td>317</td></tr><tr><td>25</td><td>2019</td><td>retained</td><td>7</td></tr><tr><td>26</td><td>2019</td><td>new</td><td>246</td></tr><tr><td>26</td><td>2019</td><td>retained</td><td>6</td></tr><tr><td>27</td><td>2019</td><td>new</td><td>282</td></tr><tr><td>27</td><td>2019</td><td>retained</td><td>7</td></tr><tr><td>28</td><td>2019</td><td>new</td><td>284</td></tr><tr><td>28</td><td>2019</td><td>retained</td><td>6</td></tr><tr><td>29</td><td>2019</td><td>new</td><td>290</td></tr><tr><td>29</td><td>2019</td><td>retained</td><td>10</td></tr><tr><td>30</td><td>2019</td><td>new</td><td>282</td></tr><tr><td>30</td><td>2019</td><td>retained</td><td>9</td></tr><tr><td>31</td><td>2019</td><td>new</td><td>282</td></tr><tr><td>31</td><td>2019</td><td>retained</td><td>4</td></tr><tr><td>32</td><td>2019</td><td>new</td><td>266</td></tr><tr><td>32</td><td>2019</td><td>retained</td><td>4</td></tr><tr><td>33</td><td>2019</td><td>new</td><td>249</td></tr><tr><td>33</td><td>2019</td><td>retained</td><td>5</td></tr><tr><td>34</td><td>2019</td><td>new</td><td>323</td></tr><tr><td>34</td><td>2019</td><td>retained</td><td>3</td></tr><tr><td>35</td><td>2019</td><td>new</td><td>221</td></tr><tr><td>35</td><td>2019</td><td>retained</td><td>3</td></tr><tr><td>36</td><td>2019</td><td>new</td><td>316</td></tr><tr><td>36</td><td>2019</td><td>retained</td><td>4</td></tr><tr><td>37</td><td>2019</td><td>new</td><td>355</td></tr><tr><td>37</td><td>2019</td><td>retained</td><td>5</td></tr><tr><td>38</td><td>2019</td><td>new</td><td>311</td></tr><tr><td>38</td><td>2019</td><td>retained</td><td>8</td></tr><tr><td>39</td><td>2019</td><td>new</td><td>414</td></tr><tr><td>39</td><td>2019</td><td>retained</td><td>10</td></tr><tr><td>40</td><td>2019</td><td>new</td><td>379</td></tr><tr><td>40</td><td>2019</td><td>retained</td><td>7</td></tr><tr><td>41</td><td>2019</td><td>new</td><td>426</td></tr><tr><td>41</td><td>2019</td><td>retained</td><td>3</td></tr><tr><td>42</td><td>2019</td><td>new</td><td>382</td></tr><tr><td>42</td><td>2019</td><td>retained</td><td>5</td></tr><tr><td>43</td><td>2019</td><td>new</td><td>360</td></tr><tr><td>43</td><td>2019</td><td>retained</td><td>3</td></tr><tr><td>44</td><td>2019</td><td>new</td><td>451</td></tr><tr><td>44</td><td>2019</td><td>retained</td><td>5</td></tr><tr><td>45</td><td>2019</td><td>new</td><td>499</td></tr><tr><td>45</td><td>2019</td><td>retained</td><td>11</td></tr><tr><td>46</td><td>2019</td><td>new</td><td>553</td></tr><tr><td>46</td><td>2019</td><td>retained</td><td>8</td></tr><tr><td>47</td><td>2019</td><td>new</td><td>587</td></tr><tr><td>47</td><td>2019</td><td>retained</td><td>8</td></tr><tr><td>48</td><td>2019</td><td>new</td><td>495</td></tr><tr><td>48</td><td>2019</td><td>retained</td><td>15</td></tr><tr><td>49</td><td>2019</td><td>new</td><td>538</td></tr><tr><td>49</td><td>2019</td><td>retained</td><td>6</td></tr><tr><td>50</td><td>2019</td><td>new</td><td>148</td></tr></table>"
                    },
                    "metadata": {}
                }
            ],
            "execution_count": 46
        },
        {
            "cell_type": "markdown",
            "source": [
                "## **12\\. How many customers made a purchase in month N and returned in the following months?**"
            ],
            "metadata": {
                "azdata_cell_guid": "becd3363-6e4e-4e6f-ad7d-1f4bd0001f73"
            },
            "attachments": {}
        },
        {
            "cell_type": "code",
            "source": [
                "DECLARE @year INT = 2019;  -- Define the year for analysis\r\n",
                "DECLARE @n INT = 1;        -- Define the starting month \r\n",
                "\r\n",
                "-- Step 1: Identify customers who made a purchase in the given month (N)\r\n",
                "WITH FirstPurchaseCustomers AS (\r\n",
                "    SELECT DISTINCT CustomerNo\r\n",
                "    FROM [sale_transaction-data]\r\n",
                "    WHERE MONTH(Date) = @n AND YEAR(Date) = @year\r\n",
                ")\r\n",
                "\r\n",
                "-- Step 2: Count how many of these customers returned in subsequent months\r\n",
                "SELECT \r\n",
                "    MONTH(Date) AS [month],                      \r\n",
                "    COUNT(DISTINCT CustomerNo) AS num_cust       -- Count unique returning customers\r\n",
                "FROM [sale_transaction-data]\r\n",
                "WHERE \r\n",
                "    CustomerNo IN (SELECT CustomerNo FROM FirstPurchaseCustomers) \r\n",
                "    AND MONTH(Date) > @n  \r\n",
                "    AND YEAR(Date) = @year  \r\n",
                "GROUP BY MONTH(Date)  \r\n",
                "ORDER BY [month];  \r\n",
                ""
            ],
            "metadata": {
                "azdata_cell_guid": "3dce0336-9ea0-428b-88ad-37af9e674fca",
                "language": "sql"
            },
            "outputs": [
                {
                    "output_type": "display_data",
                    "data": {
                        "text/html": "(11 rows affected)"
                    },
                    "metadata": {}
                },
                {
                    "output_type": "display_data",
                    "data": {
                        "text/html": "Total execution time: 00:00:00.806"
                    },
                    "metadata": {}
                },
                {
                    "output_type": "execute_result",
                    "execution_count": 7,
                    "data": {
                        "application/vnd.dataresource+json": {
                            "schema": {
                                "fields": [
                                    {
                                        "name": "month"
                                    },
                                    {
                                        "name": "num_cust"
                                    }
                                ]
                            },
                            "data": [
                                {
                                    "month": "2",
                                    "num_cust": "277"
                                },
                                {
                                    "month": "3",
                                    "num_cust": "343"
                                },
                                {
                                    "month": "4",
                                    "num_cust": "309"
                                },
                                {
                                    "month": "5",
                                    "num_cust": "361"
                                },
                                {
                                    "month": "6",
                                    "num_cust": "336"
                                },
                                {
                                    "month": "7",
                                    "num_cust": "310"
                                },
                                {
                                    "month": "8",
                                    "num_cust": "305"
                                },
                                {
                                    "month": "9",
                                    "num_cust": "341"
                                },
                                {
                                    "month": "10",
                                    "num_cust": "337"
                                },
                                {
                                    "month": "11",
                                    "num_cust": "409"
                                },
                                {
                                    "month": "12",
                                    "num_cust": "203"
                                }
                            ]
                        },
                        "text/html": "<table><tr><th>month</th><th>num_cust</th></tr><tr><td>2</td><td>277</td></tr><tr><td>3</td><td>343</td></tr><tr><td>4</td><td>309</td></tr><tr><td>5</td><td>361</td></tr><tr><td>6</td><td>336</td></tr><tr><td>7</td><td>310</td></tr><tr><td>8</td><td>305</td></tr><tr><td>9</td><td>341</td></tr><tr><td>10</td><td>337</td></tr><tr><td>11</td><td>409</td></tr><tr><td>12</td><td>203</td></tr></table>"
                    },
                    "metadata": {}
                }
            ],
            "execution_count": 7
        }
    ]
}